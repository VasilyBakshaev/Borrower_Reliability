{
  "cells": [
    {
      "cell_type": "markdown",
      "source": [
        "# Исследование надёжности заёмщиков\n",
        "- Задача - определить, влияет ли семейное положение, количество детей, доход и цель получения кредита на факт погашения кредита в срок.\n",
        "- Входные данные от банка — статистика о платёжеспособности клиентов.\n",
        "- Результаты исследования предназначены для дальнейшего использования при построении модели кредитного скоринга."
      ],
      "metadata": {
        "id": "RYfNDmkttlFW"
      }
    },
    {
      "cell_type": "markdown",
      "metadata": {
        "id": "YgZbSwnAYI8-"
      },
      "source": [
        "## Импорт библиотек"
      ]
    },
    {
      "cell_type": "code",
      "execution_count": 1,
      "metadata": {
        "id": "9kZkWhs8YI8_",
        "colab": {
          "base_uri": "https://localhost:8080/"
        },
        "outputId": "bc73641a-36e5-491c-cbc0-29f4f1ce866f"
      },
      "outputs": [
        {
          "output_type": "stream",
          "name": "stdout",
          "text": [
            "Mounted at /content/drive\n"
          ]
        }
      ],
      "source": [
        "import pandas as pd\n",
        "import numpy as np\n",
        "\n",
        "import seaborn as sns\n",
        "sns.set_theme(style=\"darkgrid\")\n",
        "import matplotlib.pyplot as plt\n",
        "\n",
        "from pymystem3 import Mystem\n",
        "\n",
        "from google.colab import drive\n",
        "drive.mount('/content/drive')\n",
        "\n",
        "from tqdm import tqdm\n",
        "from collections import Counter"
      ]
    },
    {
      "cell_type": "markdown",
      "source": [
        "## Обзор данных"
      ],
      "metadata": {
        "id": "rl6NvBmyvdRW"
      }
    },
    {
      "cell_type": "code",
      "execution_count": 2,
      "metadata": {
        "id": "swq8XgbIYI9A"
      },
      "outputs": [],
      "source": [
        "df = pd.read_csv('/content/drive/MyDrive/Practicum_projects/\\\n",
        "Borrower_Reliability/data.csv')"
      ]
    },
    {
      "cell_type": "code",
      "execution_count": 3,
      "metadata": {
        "id": "asAXdSN4YI9A",
        "outputId": "6090527a-dc10-47c2-8562-74e5636f1899",
        "colab": {
          "base_uri": "https://localhost:8080/",
          "height": 206
        }
      },
      "outputs": [
        {
          "output_type": "execute_result",
          "data": {
            "text/plain": [
              "   children  days_employed  dob_years education  education_id  \\\n",
              "0         1   -8437.673028         42    высшее             0   \n",
              "1         1   -4024.803754         36   среднее             1   \n",
              "2         0   -5623.422610         33   Среднее             1   \n",
              "3         3   -4124.747207         32   среднее             1   \n",
              "4         0  340266.072047         53   среднее             1   \n",
              "\n",
              "      family_status  family_status_id gender income_type  debt   total_income  \\\n",
              "0   женат / замужем                 0      F   сотрудник     0  253875.639453   \n",
              "1   женат / замужем                 0      F   сотрудник     0  112080.014102   \n",
              "2   женат / замужем                 0      M   сотрудник     0  145885.952297   \n",
              "3   женат / замужем                 0      M   сотрудник     0  267628.550329   \n",
              "4  гражданский брак                 1      F   пенсионер     0  158616.077870   \n",
              "\n",
              "                      purpose  \n",
              "0               покупка жилья  \n",
              "1     приобретение автомобиля  \n",
              "2               покупка жилья  \n",
              "3  дополнительное образование  \n",
              "4             сыграть свадьбу  "
            ],
            "text/html": [
              "\n",
              "  <div id=\"df-8a6daba3-f4f7-41fa-9abe-970586a43520\">\n",
              "    <div class=\"colab-df-container\">\n",
              "      <div>\n",
              "<style scoped>\n",
              "    .dataframe tbody tr th:only-of-type {\n",
              "        vertical-align: middle;\n",
              "    }\n",
              "\n",
              "    .dataframe tbody tr th {\n",
              "        vertical-align: top;\n",
              "    }\n",
              "\n",
              "    .dataframe thead th {\n",
              "        text-align: right;\n",
              "    }\n",
              "</style>\n",
              "<table border=\"1\" class=\"dataframe\">\n",
              "  <thead>\n",
              "    <tr style=\"text-align: right;\">\n",
              "      <th></th>\n",
              "      <th>children</th>\n",
              "      <th>days_employed</th>\n",
              "      <th>dob_years</th>\n",
              "      <th>education</th>\n",
              "      <th>education_id</th>\n",
              "      <th>family_status</th>\n",
              "      <th>family_status_id</th>\n",
              "      <th>gender</th>\n",
              "      <th>income_type</th>\n",
              "      <th>debt</th>\n",
              "      <th>total_income</th>\n",
              "      <th>purpose</th>\n",
              "    </tr>\n",
              "  </thead>\n",
              "  <tbody>\n",
              "    <tr>\n",
              "      <th>0</th>\n",
              "      <td>1</td>\n",
              "      <td>-8437.673028</td>\n",
              "      <td>42</td>\n",
              "      <td>высшее</td>\n",
              "      <td>0</td>\n",
              "      <td>женат / замужем</td>\n",
              "      <td>0</td>\n",
              "      <td>F</td>\n",
              "      <td>сотрудник</td>\n",
              "      <td>0</td>\n",
              "      <td>253875.639453</td>\n",
              "      <td>покупка жилья</td>\n",
              "    </tr>\n",
              "    <tr>\n",
              "      <th>1</th>\n",
              "      <td>1</td>\n",
              "      <td>-4024.803754</td>\n",
              "      <td>36</td>\n",
              "      <td>среднее</td>\n",
              "      <td>1</td>\n",
              "      <td>женат / замужем</td>\n",
              "      <td>0</td>\n",
              "      <td>F</td>\n",
              "      <td>сотрудник</td>\n",
              "      <td>0</td>\n",
              "      <td>112080.014102</td>\n",
              "      <td>приобретение автомобиля</td>\n",
              "    </tr>\n",
              "    <tr>\n",
              "      <th>2</th>\n",
              "      <td>0</td>\n",
              "      <td>-5623.422610</td>\n",
              "      <td>33</td>\n",
              "      <td>Среднее</td>\n",
              "      <td>1</td>\n",
              "      <td>женат / замужем</td>\n",
              "      <td>0</td>\n",
              "      <td>M</td>\n",
              "      <td>сотрудник</td>\n",
              "      <td>0</td>\n",
              "      <td>145885.952297</td>\n",
              "      <td>покупка жилья</td>\n",
              "    </tr>\n",
              "    <tr>\n",
              "      <th>3</th>\n",
              "      <td>3</td>\n",
              "      <td>-4124.747207</td>\n",
              "      <td>32</td>\n",
              "      <td>среднее</td>\n",
              "      <td>1</td>\n",
              "      <td>женат / замужем</td>\n",
              "      <td>0</td>\n",
              "      <td>M</td>\n",
              "      <td>сотрудник</td>\n",
              "      <td>0</td>\n",
              "      <td>267628.550329</td>\n",
              "      <td>дополнительное образование</td>\n",
              "    </tr>\n",
              "    <tr>\n",
              "      <th>4</th>\n",
              "      <td>0</td>\n",
              "      <td>340266.072047</td>\n",
              "      <td>53</td>\n",
              "      <td>среднее</td>\n",
              "      <td>1</td>\n",
              "      <td>гражданский брак</td>\n",
              "      <td>1</td>\n",
              "      <td>F</td>\n",
              "      <td>пенсионер</td>\n",
              "      <td>0</td>\n",
              "      <td>158616.077870</td>\n",
              "      <td>сыграть свадьбу</td>\n",
              "    </tr>\n",
              "  </tbody>\n",
              "</table>\n",
              "</div>\n",
              "      <button class=\"colab-df-convert\" onclick=\"convertToInteractive('df-8a6daba3-f4f7-41fa-9abe-970586a43520')\"\n",
              "              title=\"Convert this dataframe to an interactive table.\"\n",
              "              style=\"display:none;\">\n",
              "        \n",
              "  <svg xmlns=\"http://www.w3.org/2000/svg\" height=\"24px\"viewBox=\"0 0 24 24\"\n",
              "       width=\"24px\">\n",
              "    <path d=\"M0 0h24v24H0V0z\" fill=\"none\"/>\n",
              "    <path d=\"M18.56 5.44l.94 2.06.94-2.06 2.06-.94-2.06-.94-.94-2.06-.94 2.06-2.06.94zm-11 1L8.5 8.5l.94-2.06 2.06-.94-2.06-.94L8.5 2.5l-.94 2.06-2.06.94zm10 10l.94 2.06.94-2.06 2.06-.94-2.06-.94-.94-2.06-.94 2.06-2.06.94z\"/><path d=\"M17.41 7.96l-1.37-1.37c-.4-.4-.92-.59-1.43-.59-.52 0-1.04.2-1.43.59L10.3 9.45l-7.72 7.72c-.78.78-.78 2.05 0 2.83L4 21.41c.39.39.9.59 1.41.59.51 0 1.02-.2 1.41-.59l7.78-7.78 2.81-2.81c.8-.78.8-2.07 0-2.86zM5.41 20L4 18.59l7.72-7.72 1.47 1.35L5.41 20z\"/>\n",
              "  </svg>\n",
              "      </button>\n",
              "      \n",
              "  <style>\n",
              "    .colab-df-container {\n",
              "      display:flex;\n",
              "      flex-wrap:wrap;\n",
              "      gap: 12px;\n",
              "    }\n",
              "\n",
              "    .colab-df-convert {\n",
              "      background-color: #E8F0FE;\n",
              "      border: none;\n",
              "      border-radius: 50%;\n",
              "      cursor: pointer;\n",
              "      display: none;\n",
              "      fill: #1967D2;\n",
              "      height: 32px;\n",
              "      padding: 0 0 0 0;\n",
              "      width: 32px;\n",
              "    }\n",
              "\n",
              "    .colab-df-convert:hover {\n",
              "      background-color: #E2EBFA;\n",
              "      box-shadow: 0px 1px 2px rgba(60, 64, 67, 0.3), 0px 1px 3px 1px rgba(60, 64, 67, 0.15);\n",
              "      fill: #174EA6;\n",
              "    }\n",
              "\n",
              "    [theme=dark] .colab-df-convert {\n",
              "      background-color: #3B4455;\n",
              "      fill: #D2E3FC;\n",
              "    }\n",
              "\n",
              "    [theme=dark] .colab-df-convert:hover {\n",
              "      background-color: #434B5C;\n",
              "      box-shadow: 0px 1px 3px 1px rgba(0, 0, 0, 0.15);\n",
              "      filter: drop-shadow(0px 1px 2px rgba(0, 0, 0, 0.3));\n",
              "      fill: #FFFFFF;\n",
              "    }\n",
              "  </style>\n",
              "\n",
              "      <script>\n",
              "        const buttonEl =\n",
              "          document.querySelector('#df-8a6daba3-f4f7-41fa-9abe-970586a43520 button.colab-df-convert');\n",
              "        buttonEl.style.display =\n",
              "          google.colab.kernel.accessAllowed ? 'block' : 'none';\n",
              "\n",
              "        async function convertToInteractive(key) {\n",
              "          const element = document.querySelector('#df-8a6daba3-f4f7-41fa-9abe-970586a43520');\n",
              "          const dataTable =\n",
              "            await google.colab.kernel.invokeFunction('convertToInteractive',\n",
              "                                                     [key], {});\n",
              "          if (!dataTable) return;\n",
              "\n",
              "          const docLinkHtml = 'Like what you see? Visit the ' +\n",
              "            '<a target=\"_blank\" href=https://colab.research.google.com/notebooks/data_table.ipynb>data table notebook</a>'\n",
              "            + ' to learn more about interactive tables.';\n",
              "          element.innerHTML = '';\n",
              "          dataTable['output_type'] = 'display_data';\n",
              "          await google.colab.output.renderOutput(dataTable, element);\n",
              "          const docLink = document.createElement('div');\n",
              "          docLink.innerHTML = docLinkHtml;\n",
              "          element.appendChild(docLink);\n",
              "        }\n",
              "      </script>\n",
              "    </div>\n",
              "  </div>\n",
              "  "
            ]
          },
          "metadata": {},
          "execution_count": 3
        }
      ],
      "source": [
        "df.head()"
      ]
    },
    {
      "cell_type": "code",
      "execution_count": 4,
      "metadata": {
        "id": "UmwsWRxdYI9B",
        "outputId": "b82bfdc7-1655-47ed-e851-a42316227c15",
        "colab": {
          "base_uri": "https://localhost:8080/"
        }
      },
      "outputs": [
        {
          "output_type": "stream",
          "name": "stdout",
          "text": [
            "<class 'pandas.core.frame.DataFrame'>\n",
            "RangeIndex: 21525 entries, 0 to 21524\n",
            "Data columns (total 12 columns):\n",
            " #   Column            Non-Null Count  Dtype  \n",
            "---  ------            --------------  -----  \n",
            " 0   children          21525 non-null  int64  \n",
            " 1   days_employed     19351 non-null  float64\n",
            " 2   dob_years         21525 non-null  int64  \n",
            " 3   education         21525 non-null  object \n",
            " 4   education_id      21525 non-null  int64  \n",
            " 5   family_status     21525 non-null  object \n",
            " 6   family_status_id  21525 non-null  int64  \n",
            " 7   gender            21525 non-null  object \n",
            " 8   income_type       21525 non-null  object \n",
            " 9   debt              21525 non-null  int64  \n",
            " 10  total_income      19351 non-null  float64\n",
            " 11  purpose           21525 non-null  object \n",
            "dtypes: float64(2), int64(5), object(5)\n",
            "memory usage: 2.0+ MB\n"
          ]
        }
      ],
      "source": [
        "df.info()"
      ]
    },
    {
      "cell_type": "markdown",
      "metadata": {
        "id": "FgbkjNG-YI9B"
      },
      "source": [
        "Выведем на экран уникальные значения столбцов с категориальными данными и посмотрим есть ли там аномальные значения."
      ]
    },
    {
      "cell_type": "code",
      "execution_count": 5,
      "metadata": {
        "id": "h6YfdqFJYI9B",
        "outputId": "58538654-99d8-4d37-a2de-c8bb487d80e3",
        "colab": {
          "base_uri": "https://localhost:8080/",
          "height": 696
        }
      },
      "outputs": [
        {
          "output_type": "display_data",
          "data": {
            "text/plain": [
              "array([ 1,  0,  3,  2, -1,  4, 20,  5])"
            ]
          },
          "metadata": {}
        },
        {
          "output_type": "display_data",
          "data": {
            "text/plain": [
              "array([42, 36, 33, 32, 53, 27, 43, 50, 35, 41, 40, 65, 54, 56, 26, 48, 24,\n",
              "       21, 57, 67, 28, 63, 62, 47, 34, 68, 25, 31, 30, 20, 49, 37, 45, 61,\n",
              "       64, 44, 52, 46, 23, 38, 39, 51,  0, 59, 29, 60, 55, 58, 71, 22, 73,\n",
              "       66, 69, 19, 72, 70, 74, 75])"
            ]
          },
          "metadata": {}
        },
        {
          "output_type": "display_data",
          "data": {
            "text/plain": [
              "array(['высшее', 'среднее', 'Среднее', 'СРЕДНЕЕ', 'ВЫСШЕЕ',\n",
              "       'неоконченное высшее', 'начальное', 'Высшее',\n",
              "       'НЕОКОНЧЕННОЕ ВЫСШЕЕ', 'Неоконченное высшее', 'НАЧАЛЬНОЕ',\n",
              "       'Начальное', 'Ученая степень', 'УЧЕНАЯ СТЕПЕНЬ', 'ученая степень'],\n",
              "      dtype=object)"
            ]
          },
          "metadata": {}
        },
        {
          "output_type": "display_data",
          "data": {
            "text/plain": [
              "array([0, 1, 2, 3, 4])"
            ]
          },
          "metadata": {}
        },
        {
          "output_type": "display_data",
          "data": {
            "text/plain": [
              "array(['женат / замужем', 'гражданский брак', 'вдовец / вдова',\n",
              "       'в разводе', 'Не женат / не замужем'], dtype=object)"
            ]
          },
          "metadata": {}
        },
        {
          "output_type": "display_data",
          "data": {
            "text/plain": [
              "array([0, 1, 2, 3, 4])"
            ]
          },
          "metadata": {}
        },
        {
          "output_type": "display_data",
          "data": {
            "text/plain": [
              "array(['F', 'M', 'XNA'], dtype=object)"
            ]
          },
          "metadata": {}
        },
        {
          "output_type": "display_data",
          "data": {
            "text/plain": [
              "array(['сотрудник', 'пенсионер', 'компаньон', 'госслужащий',\n",
              "       'безработный', 'предприниматель', 'студент', 'в декрете'],\n",
              "      dtype=object)"
            ]
          },
          "metadata": {}
        },
        {
          "output_type": "display_data",
          "data": {
            "text/plain": [
              "array([0, 1])"
            ]
          },
          "metadata": {}
        },
        {
          "output_type": "display_data",
          "data": {
            "text/plain": [
              "array(['покупка жилья', 'приобретение автомобиля',\n",
              "       'дополнительное образование', 'сыграть свадьбу',\n",
              "       'операции с жильем', 'образование', 'на проведение свадьбы',\n",
              "       'покупка жилья для семьи', 'покупка недвижимости',\n",
              "       'покупка коммерческой недвижимости', 'покупка жилой недвижимости',\n",
              "       'строительство собственной недвижимости', 'недвижимость',\n",
              "       'строительство недвижимости', 'на покупку подержанного автомобиля',\n",
              "       'на покупку своего автомобиля',\n",
              "       'операции с коммерческой недвижимостью',\n",
              "       'строительство жилой недвижимости', 'жилье',\n",
              "       'операции со своей недвижимостью', 'автомобили',\n",
              "       'заняться образованием', 'сделка с подержанным автомобилем',\n",
              "       'получение образования', 'автомобиль', 'свадьба',\n",
              "       'получение дополнительного образования', 'покупка своего жилья',\n",
              "       'операции с недвижимостью', 'получение высшего образования',\n",
              "       'свой автомобиль', 'сделка с автомобилем',\n",
              "       'профильное образование', 'высшее образование',\n",
              "       'покупка жилья для сдачи', 'на покупку автомобиля', 'ремонт жилью',\n",
              "       'заняться высшим образованием'], dtype=object)"
            ]
          },
          "metadata": {}
        }
      ],
      "source": [
        "columns_to_check = ['children', 'dob_years', 'education', 'education_id', \n",
        "                    'family_status', 'family_status_id', 'gender', \n",
        "                    'income_type', 'debt', 'purpose']\n",
        "for col in columns_to_check:\n",
        "    display(df[col].unique())"
      ]
    },
    {
      "cell_type": "markdown",
      "metadata": {
        "id": "de6UNd6jYI9C"
      },
      "source": [
        "### Вывод\n",
        "\n",
        "В таблице 12 столбцов. Типы данных `int`, `float` и `object`.\n",
        "\n",
        "Согласно документации:\n",
        "- `children` — количество детей в семье\n",
        "- `days_employed` — общий трудовой стаж в днях\n",
        "- `dob_years` — возраст клиента в годах\n",
        "- `education` — уровень образования клиента\n",
        "- `education_id` — идентификатор уровня образования\n",
        "- `family_status` — семейное положение\n",
        "- `family_status_id` — идентификатор семейного положения\n",
        "- `gender` — пол клиента\n",
        "- `income_type` — тип занятости\n",
        "- `debt` — имел ли задолженность по возврату кредитов\n",
        "- `total_income` — ежемесячный доход в рублях\n",
        "- `purpose` — цель получения кредита\n",
        "\n",
        "Стилистических ошибок в названиях колонок нет.\n",
        "\n",
        "Всего 21525 строк, но в двух стобцах(`days_employed`, `total_income`) значиния отличаются. Это пропуски,  котрые нужно обработать.\n",
        "\n",
        "После вывода уникальных значений столбцов с категориальными данными стали заметны некоторые проблемы:\n",
        "- в столбце `children` у кого-то -1 ребёнок, а у кого-то их целых 20 (вряд ли это те самые ребята из книги рекордов Гиннесса). Скорее всего это ошибка ввода, возьмём модуль и заменим 20 на 2.\n",
        "- в столбце `education` явное наличие одинаковых значений, записанных разным способом. Достаточно будет привести все значения к нижнему регистру. Сделаем это сразу перед очисткой датасета от дубликатов.\n",
        "- в столбце `family_status` категория \"Не женат / не замужем\" единственная записана с большой буквы. Приведём к нижнему регистру из эстетических соображений.\n",
        "- в столбце `gender` присутствуют пропуски, которые записаны как \"XNA\". Эти данные не являются типом `NaN` и никак не повлияют на ход исследования, оставим как есть.\n",
        "\n",
        "Кроме того, в выводе `df.head()` видно что артефакты присутствуют и в столбцах с колличественными значениями:\n",
        "- Значения трудового стажа(`days_employed`) во многих строках отрицательные. Думаю это ошибка вычислений и нам просто нужно взять модуль числа.\n",
        "- Также видно, что в некоторых строках (напр. \"пенсионеры\") трудовой стаж заявителей - сотни лет. Скорее всего, причина в том, что трудовой стаж указали не в днях, а в часах.\n"
      ]
    },
    {
      "cell_type": "markdown",
      "metadata": {
        "id": "QDFyR37xYI9C"
      },
      "source": [
        "## Предобработка данных"
      ]
    },
    {
      "cell_type": "markdown",
      "metadata": {
        "id": "6nM0ugLmYI9C"
      },
      "source": [
        "Обработаем основные артефакты. Возьмём модуль `children` и заменим 20 на 2."
      ]
    },
    {
      "cell_type": "code",
      "execution_count": 6,
      "metadata": {
        "id": "4ilqw_TQYI9C"
      },
      "outputs": [],
      "source": [
        "df['children'] = abs(df['children'])"
      ]
    },
    {
      "cell_type": "code",
      "execution_count": 7,
      "metadata": {
        "id": "wHoFO8YVYI9D",
        "colab": {
          "base_uri": "https://localhost:8080/"
        },
        "outputId": "7dfb4444-3235-4895-e97d-16f1cce49ec9"
      },
      "outputs": [
        {
          "output_type": "execute_result",
          "data": {
            "text/plain": [
              "array([1, 0, 3, 2, 4, 5])"
            ]
          },
          "metadata": {},
          "execution_count": 7
        }
      ],
      "source": [
        "df['children'] = df['children'].replace(20, 2)\n",
        "df['children'].unique()"
      ]
    },
    {
      "cell_type": "markdown",
      "metadata": {
        "id": "_HZ7oIlHYI9E"
      },
      "source": [
        "Отлично! Теперь приведём к нижнему регистру столбец `family_status`."
      ]
    },
    {
      "cell_type": "code",
      "execution_count": 8,
      "metadata": {
        "id": "WVILc-pZYI9E",
        "colab": {
          "base_uri": "https://localhost:8080/"
        },
        "outputId": "ecba2013-fc3d-4442-ae4d-25f1250b42fa"
      },
      "outputs": [
        {
          "output_type": "execute_result",
          "data": {
            "text/plain": [
              "array(['женат / замужем', 'гражданский брак', 'вдовец / вдова',\n",
              "       'в разводе', 'не женат / не замужем'], dtype=object)"
            ]
          },
          "metadata": {},
          "execution_count": 8
        }
      ],
      "source": [
        "df['family_status'] = df['family_status'].str.lower()\n",
        "df['family_status'].unique()"
      ]
    },
    {
      "cell_type": "markdown",
      "metadata": {
        "id": "zAWQieXEYI9E"
      },
      "source": [
        "Восхитительно! Возьмём модуль колонки `days_employed`."
      ]
    },
    {
      "cell_type": "code",
      "execution_count": 9,
      "metadata": {
        "id": "JVBod_qyYI9E",
        "colab": {
          "base_uri": "https://localhost:8080/"
        },
        "outputId": "db50f376-fc2b-4f7d-ad8c-d70d61486a7c"
      },
      "outputs": [
        {
          "output_type": "execute_result",
          "data": {
            "text/plain": [
              "24.14163324048118"
            ]
          },
          "metadata": {},
          "execution_count": 9
        }
      ],
      "source": [
        "df['days_employed'] = abs(df['days_employed'])\n",
        "df['days_employed'].min()"
      ]
    },
    {
      "cell_type": "markdown",
      "metadata": {
        "id": "ycFTmHu0YI9E"
      },
      "source": [
        "Супер, мы избавились почти от всех артефактов в таблице. Теперь можно переходить к обработке остальных."
      ]
    },
    {
      "cell_type": "markdown",
      "metadata": {
        "id": "z-ccEniiYI9E"
      },
      "source": [
        "Создадим таблицу с медианными значениям по типу занятости для колонок `days_employed`, `total_income`, `dob_years`"
      ]
    },
    {
      "cell_type": "code",
      "execution_count": 10,
      "metadata": {
        "id": "SHI7AcAgYI9E"
      },
      "outputs": [],
      "source": [
        "df_median = df.groupby('income_type').agg({'days_employed': 'median',\\\n",
        "  'total_income': 'median', 'dob_years': 'median'})"
      ]
    },
    {
      "cell_type": "code",
      "execution_count": 11,
      "metadata": {
        "id": "q0exaxFAYI9F",
        "outputId": "19c7f6bb-8e05-4a5d-e050-b86700beb4ed",
        "colab": {
          "base_uri": "https://localhost:8080/",
          "height": 332
        }
      },
      "outputs": [
        {
          "output_type": "execute_result",
          "data": {
            "text/plain": [
              "                 days_employed   total_income  dob_years\n",
              "income_type                                             \n",
              "безработный      366413.652744  131339.751676       38.0\n",
              "в декрете          3296.759962   53829.130729       39.0\n",
              "госслужащий        2689.368353  150447.935283       40.0\n",
              "компаньон          1547.382223  172357.950966       39.0\n",
              "пенсионер        365213.306266  118514.486412       60.0\n",
              "предприниматель     520.848083  499163.144947       42.5\n",
              "сотрудник          1574.202821  142594.396847       39.0\n",
              "студент             578.751554   98201.625314       22.0"
            ],
            "text/html": [
              "\n",
              "  <div id=\"df-f46bddc6-5d59-4a65-b49d-b2617c070e94\">\n",
              "    <div class=\"colab-df-container\">\n",
              "      <div>\n",
              "<style scoped>\n",
              "    .dataframe tbody tr th:only-of-type {\n",
              "        vertical-align: middle;\n",
              "    }\n",
              "\n",
              "    .dataframe tbody tr th {\n",
              "        vertical-align: top;\n",
              "    }\n",
              "\n",
              "    .dataframe thead th {\n",
              "        text-align: right;\n",
              "    }\n",
              "</style>\n",
              "<table border=\"1\" class=\"dataframe\">\n",
              "  <thead>\n",
              "    <tr style=\"text-align: right;\">\n",
              "      <th></th>\n",
              "      <th>days_employed</th>\n",
              "      <th>total_income</th>\n",
              "      <th>dob_years</th>\n",
              "    </tr>\n",
              "    <tr>\n",
              "      <th>income_type</th>\n",
              "      <th></th>\n",
              "      <th></th>\n",
              "      <th></th>\n",
              "    </tr>\n",
              "  </thead>\n",
              "  <tbody>\n",
              "    <tr>\n",
              "      <th>безработный</th>\n",
              "      <td>366413.652744</td>\n",
              "      <td>131339.751676</td>\n",
              "      <td>38.0</td>\n",
              "    </tr>\n",
              "    <tr>\n",
              "      <th>в декрете</th>\n",
              "      <td>3296.759962</td>\n",
              "      <td>53829.130729</td>\n",
              "      <td>39.0</td>\n",
              "    </tr>\n",
              "    <tr>\n",
              "      <th>госслужащий</th>\n",
              "      <td>2689.368353</td>\n",
              "      <td>150447.935283</td>\n",
              "      <td>40.0</td>\n",
              "    </tr>\n",
              "    <tr>\n",
              "      <th>компаньон</th>\n",
              "      <td>1547.382223</td>\n",
              "      <td>172357.950966</td>\n",
              "      <td>39.0</td>\n",
              "    </tr>\n",
              "    <tr>\n",
              "      <th>пенсионер</th>\n",
              "      <td>365213.306266</td>\n",
              "      <td>118514.486412</td>\n",
              "      <td>60.0</td>\n",
              "    </tr>\n",
              "    <tr>\n",
              "      <th>предприниматель</th>\n",
              "      <td>520.848083</td>\n",
              "      <td>499163.144947</td>\n",
              "      <td>42.5</td>\n",
              "    </tr>\n",
              "    <tr>\n",
              "      <th>сотрудник</th>\n",
              "      <td>1574.202821</td>\n",
              "      <td>142594.396847</td>\n",
              "      <td>39.0</td>\n",
              "    </tr>\n",
              "    <tr>\n",
              "      <th>студент</th>\n",
              "      <td>578.751554</td>\n",
              "      <td>98201.625314</td>\n",
              "      <td>22.0</td>\n",
              "    </tr>\n",
              "  </tbody>\n",
              "</table>\n",
              "</div>\n",
              "      <button class=\"colab-df-convert\" onclick=\"convertToInteractive('df-f46bddc6-5d59-4a65-b49d-b2617c070e94')\"\n",
              "              title=\"Convert this dataframe to an interactive table.\"\n",
              "              style=\"display:none;\">\n",
              "        \n",
              "  <svg xmlns=\"http://www.w3.org/2000/svg\" height=\"24px\"viewBox=\"0 0 24 24\"\n",
              "       width=\"24px\">\n",
              "    <path d=\"M0 0h24v24H0V0z\" fill=\"none\"/>\n",
              "    <path d=\"M18.56 5.44l.94 2.06.94-2.06 2.06-.94-2.06-.94-.94-2.06-.94 2.06-2.06.94zm-11 1L8.5 8.5l.94-2.06 2.06-.94-2.06-.94L8.5 2.5l-.94 2.06-2.06.94zm10 10l.94 2.06.94-2.06 2.06-.94-2.06-.94-.94-2.06-.94 2.06-2.06.94z\"/><path d=\"M17.41 7.96l-1.37-1.37c-.4-.4-.92-.59-1.43-.59-.52 0-1.04.2-1.43.59L10.3 9.45l-7.72 7.72c-.78.78-.78 2.05 0 2.83L4 21.41c.39.39.9.59 1.41.59.51 0 1.02-.2 1.41-.59l7.78-7.78 2.81-2.81c.8-.78.8-2.07 0-2.86zM5.41 20L4 18.59l7.72-7.72 1.47 1.35L5.41 20z\"/>\n",
              "  </svg>\n",
              "      </button>\n",
              "      \n",
              "  <style>\n",
              "    .colab-df-container {\n",
              "      display:flex;\n",
              "      flex-wrap:wrap;\n",
              "      gap: 12px;\n",
              "    }\n",
              "\n",
              "    .colab-df-convert {\n",
              "      background-color: #E8F0FE;\n",
              "      border: none;\n",
              "      border-radius: 50%;\n",
              "      cursor: pointer;\n",
              "      display: none;\n",
              "      fill: #1967D2;\n",
              "      height: 32px;\n",
              "      padding: 0 0 0 0;\n",
              "      width: 32px;\n",
              "    }\n",
              "\n",
              "    .colab-df-convert:hover {\n",
              "      background-color: #E2EBFA;\n",
              "      box-shadow: 0px 1px 2px rgba(60, 64, 67, 0.3), 0px 1px 3px 1px rgba(60, 64, 67, 0.15);\n",
              "      fill: #174EA6;\n",
              "    }\n",
              "\n",
              "    [theme=dark] .colab-df-convert {\n",
              "      background-color: #3B4455;\n",
              "      fill: #D2E3FC;\n",
              "    }\n",
              "\n",
              "    [theme=dark] .colab-df-convert:hover {\n",
              "      background-color: #434B5C;\n",
              "      box-shadow: 0px 1px 3px 1px rgba(0, 0, 0, 0.15);\n",
              "      filter: drop-shadow(0px 1px 2px rgba(0, 0, 0, 0.3));\n",
              "      fill: #FFFFFF;\n",
              "    }\n",
              "  </style>\n",
              "\n",
              "      <script>\n",
              "        const buttonEl =\n",
              "          document.querySelector('#df-f46bddc6-5d59-4a65-b49d-b2617c070e94 button.colab-df-convert');\n",
              "        buttonEl.style.display =\n",
              "          google.colab.kernel.accessAllowed ? 'block' : 'none';\n",
              "\n",
              "        async function convertToInteractive(key) {\n",
              "          const element = document.querySelector('#df-f46bddc6-5d59-4a65-b49d-b2617c070e94');\n",
              "          const dataTable =\n",
              "            await google.colab.kernel.invokeFunction('convertToInteractive',\n",
              "                                                     [key], {});\n",
              "          if (!dataTable) return;\n",
              "\n",
              "          const docLinkHtml = 'Like what you see? Visit the ' +\n",
              "            '<a target=\"_blank\" href=https://colab.research.google.com/notebooks/data_table.ipynb>data table notebook</a>'\n",
              "            + ' to learn more about interactive tables.';\n",
              "          element.innerHTML = '';\n",
              "          dataTable['output_type'] = 'display_data';\n",
              "          await google.colab.output.renderOutput(dataTable, element);\n",
              "          const docLink = document.createElement('div');\n",
              "          docLink.innerHTML = docLinkHtml;\n",
              "          element.appendChild(docLink);\n",
              "        }\n",
              "      </script>\n",
              "    </div>\n",
              "  </div>\n",
              "  "
            ]
          },
          "metadata": {},
          "execution_count": 11
        }
      ],
      "source": [
        "df_median"
      ]
    },
    {
      "cell_type": "markdown",
      "metadata": {
        "id": "GGf2kHHDYI9F"
      },
      "source": [
        "Заполним нулевые значения возраста в таблице медианным значением по типу занятости, данные возьмём из таблицы `df_median`"
      ]
    },
    {
      "cell_type": "code",
      "execution_count": 12,
      "metadata": {
        "id": "d6S50pUoYI9F"
      },
      "outputs": [],
      "source": [
        "for income_type in df_median.index:\n",
        "    df.loc[(df['income_type'] == income_type) & (df['dob_years'] == 0),\\\n",
        "           'dob_years']= df_median.loc[income_type, 'dob_years'] "
      ]
    },
    {
      "cell_type": "markdown",
      "metadata": {
        "id": "rMVYq_X5YI9F"
      },
      "source": [
        "Проверим результат: выведем возраст самого молодого заявителя."
      ]
    },
    {
      "cell_type": "code",
      "execution_count": 13,
      "metadata": {
        "id": "JU1RcS9DYI9F",
        "outputId": "efe108c2-7976-4b6e-e024-0a85aa3eec98",
        "colab": {
          "base_uri": "https://localhost:8080/"
        }
      },
      "outputs": [
        {
          "output_type": "execute_result",
          "data": {
            "text/plain": [
              "19.0"
            ]
          },
          "metadata": {},
          "execution_count": 13
        }
      ],
      "source": [
        "df['dob_years'].min()"
      ]
    },
    {
      "cell_type": "markdown",
      "metadata": {
        "id": "MDGOGOhhYI9F"
      },
      "source": [
        "Отлично! Поправим ошибку в днях работы. Для этого найдём всех заявителей у которых трудовой стаж превышает возраст и разделим на 24, тем самым приведём данные к нужному виду."
      ]
    },
    {
      "cell_type": "code",
      "execution_count": 14,
      "metadata": {
        "id": "znsUIZFdYI9F"
      },
      "outputs": [],
      "source": [
        "df.loc[df['days_employed'] > df['dob_years'] * 365, 'days_employed'] =\\\n",
        " df.loc[df['days_employed'] > df['dob_years'] * 365, 'days_employed'] / 24"
      ]
    },
    {
      "cell_type": "markdown",
      "metadata": {
        "id": "4AQ0GH9FYI9G"
      },
      "source": [
        "### Обработка пропусков"
      ]
    },
    {
      "cell_type": "code",
      "execution_count": 15,
      "metadata": {
        "id": "g8gsbm9cYI9G",
        "outputId": "7fa89b77-de4e-4e77-e294-a638ffd7726e",
        "colab": {
          "base_uri": "https://localhost:8080/"
        }
      },
      "outputs": [
        {
          "output_type": "execute_result",
          "data": {
            "text/plain": [
              "children               0\n",
              "days_employed       2174\n",
              "dob_years              0\n",
              "education              0\n",
              "education_id           0\n",
              "family_status          0\n",
              "family_status_id       0\n",
              "gender                 0\n",
              "income_type            0\n",
              "debt                   0\n",
              "total_income        2174\n",
              "purpose                0\n",
              "dtype: int64"
            ]
          },
          "metadata": {},
          "execution_count": 15
        }
      ],
      "source": [
        "df.isna().sum()"
      ]
    },
    {
      "cell_type": "markdown",
      "metadata": {
        "id": "vccugMakYI9G"
      },
      "source": [
        "Значения в стобцах `days_employed`, `total_income` отличаются на равную величину, это колличественые переменные. Посмотрим на них поближе. Для этого создадим новую таблицу со всеми пропущенными значениями."
      ]
    },
    {
      "cell_type": "code",
      "execution_count": 16,
      "metadata": {
        "id": "VQWBABTDYI9G",
        "colab": {
          "base_uri": "https://localhost:8080/",
          "height": 206
        },
        "outputId": "187f8f0d-4899-4ed9-ad37-f4348635ace3"
      },
      "outputs": [
        {
          "output_type": "execute_result",
          "data": {
            "text/plain": [
              "    children  days_employed  dob_years education  education_id  \\\n",
              "12         0            NaN       65.0   среднее             1   \n",
              "26         0            NaN       41.0   среднее             1   \n",
              "29         0            NaN       63.0   среднее             1   \n",
              "41         0            NaN       50.0   среднее             1   \n",
              "55         0            NaN       54.0   среднее             1   \n",
              "\n",
              "            family_status  family_status_id gender  income_type  debt  \\\n",
              "12       гражданский брак                 1      M    пенсионер     0   \n",
              "26        женат / замужем                 0      M  госслужащий     0   \n",
              "29  не женат / не замужем                 4      F    пенсионер     0   \n",
              "41        женат / замужем                 0      F  госслужащий     0   \n",
              "55       гражданский брак                 1      F    пенсионер     1   \n",
              "\n",
              "    total_income                           purpose  \n",
              "12           NaN                   сыграть свадьбу  \n",
              "26           NaN                       образование  \n",
              "29           NaN  строительство жилой недвижимости  \n",
              "41           NaN  сделка с подержанным автомобилем  \n",
              "55           NaN                   сыграть свадьбу  "
            ],
            "text/html": [
              "\n",
              "  <div id=\"df-950e35f2-6c12-40c9-b0d4-7c674e377a01\">\n",
              "    <div class=\"colab-df-container\">\n",
              "      <div>\n",
              "<style scoped>\n",
              "    .dataframe tbody tr th:only-of-type {\n",
              "        vertical-align: middle;\n",
              "    }\n",
              "\n",
              "    .dataframe tbody tr th {\n",
              "        vertical-align: top;\n",
              "    }\n",
              "\n",
              "    .dataframe thead th {\n",
              "        text-align: right;\n",
              "    }\n",
              "</style>\n",
              "<table border=\"1\" class=\"dataframe\">\n",
              "  <thead>\n",
              "    <tr style=\"text-align: right;\">\n",
              "      <th></th>\n",
              "      <th>children</th>\n",
              "      <th>days_employed</th>\n",
              "      <th>dob_years</th>\n",
              "      <th>education</th>\n",
              "      <th>education_id</th>\n",
              "      <th>family_status</th>\n",
              "      <th>family_status_id</th>\n",
              "      <th>gender</th>\n",
              "      <th>income_type</th>\n",
              "      <th>debt</th>\n",
              "      <th>total_income</th>\n",
              "      <th>purpose</th>\n",
              "    </tr>\n",
              "  </thead>\n",
              "  <tbody>\n",
              "    <tr>\n",
              "      <th>12</th>\n",
              "      <td>0</td>\n",
              "      <td>NaN</td>\n",
              "      <td>65.0</td>\n",
              "      <td>среднее</td>\n",
              "      <td>1</td>\n",
              "      <td>гражданский брак</td>\n",
              "      <td>1</td>\n",
              "      <td>M</td>\n",
              "      <td>пенсионер</td>\n",
              "      <td>0</td>\n",
              "      <td>NaN</td>\n",
              "      <td>сыграть свадьбу</td>\n",
              "    </tr>\n",
              "    <tr>\n",
              "      <th>26</th>\n",
              "      <td>0</td>\n",
              "      <td>NaN</td>\n",
              "      <td>41.0</td>\n",
              "      <td>среднее</td>\n",
              "      <td>1</td>\n",
              "      <td>женат / замужем</td>\n",
              "      <td>0</td>\n",
              "      <td>M</td>\n",
              "      <td>госслужащий</td>\n",
              "      <td>0</td>\n",
              "      <td>NaN</td>\n",
              "      <td>образование</td>\n",
              "    </tr>\n",
              "    <tr>\n",
              "      <th>29</th>\n",
              "      <td>0</td>\n",
              "      <td>NaN</td>\n",
              "      <td>63.0</td>\n",
              "      <td>среднее</td>\n",
              "      <td>1</td>\n",
              "      <td>не женат / не замужем</td>\n",
              "      <td>4</td>\n",
              "      <td>F</td>\n",
              "      <td>пенсионер</td>\n",
              "      <td>0</td>\n",
              "      <td>NaN</td>\n",
              "      <td>строительство жилой недвижимости</td>\n",
              "    </tr>\n",
              "    <tr>\n",
              "      <th>41</th>\n",
              "      <td>0</td>\n",
              "      <td>NaN</td>\n",
              "      <td>50.0</td>\n",
              "      <td>среднее</td>\n",
              "      <td>1</td>\n",
              "      <td>женат / замужем</td>\n",
              "      <td>0</td>\n",
              "      <td>F</td>\n",
              "      <td>госслужащий</td>\n",
              "      <td>0</td>\n",
              "      <td>NaN</td>\n",
              "      <td>сделка с подержанным автомобилем</td>\n",
              "    </tr>\n",
              "    <tr>\n",
              "      <th>55</th>\n",
              "      <td>0</td>\n",
              "      <td>NaN</td>\n",
              "      <td>54.0</td>\n",
              "      <td>среднее</td>\n",
              "      <td>1</td>\n",
              "      <td>гражданский брак</td>\n",
              "      <td>1</td>\n",
              "      <td>F</td>\n",
              "      <td>пенсионер</td>\n",
              "      <td>1</td>\n",
              "      <td>NaN</td>\n",
              "      <td>сыграть свадьбу</td>\n",
              "    </tr>\n",
              "  </tbody>\n",
              "</table>\n",
              "</div>\n",
              "      <button class=\"colab-df-convert\" onclick=\"convertToInteractive('df-950e35f2-6c12-40c9-b0d4-7c674e377a01')\"\n",
              "              title=\"Convert this dataframe to an interactive table.\"\n",
              "              style=\"display:none;\">\n",
              "        \n",
              "  <svg xmlns=\"http://www.w3.org/2000/svg\" height=\"24px\"viewBox=\"0 0 24 24\"\n",
              "       width=\"24px\">\n",
              "    <path d=\"M0 0h24v24H0V0z\" fill=\"none\"/>\n",
              "    <path d=\"M18.56 5.44l.94 2.06.94-2.06 2.06-.94-2.06-.94-.94-2.06-.94 2.06-2.06.94zm-11 1L8.5 8.5l.94-2.06 2.06-.94-2.06-.94L8.5 2.5l-.94 2.06-2.06.94zm10 10l.94 2.06.94-2.06 2.06-.94-2.06-.94-.94-2.06-.94 2.06-2.06.94z\"/><path d=\"M17.41 7.96l-1.37-1.37c-.4-.4-.92-.59-1.43-.59-.52 0-1.04.2-1.43.59L10.3 9.45l-7.72 7.72c-.78.78-.78 2.05 0 2.83L4 21.41c.39.39.9.59 1.41.59.51 0 1.02-.2 1.41-.59l7.78-7.78 2.81-2.81c.8-.78.8-2.07 0-2.86zM5.41 20L4 18.59l7.72-7.72 1.47 1.35L5.41 20z\"/>\n",
              "  </svg>\n",
              "      </button>\n",
              "      \n",
              "  <style>\n",
              "    .colab-df-container {\n",
              "      display:flex;\n",
              "      flex-wrap:wrap;\n",
              "      gap: 12px;\n",
              "    }\n",
              "\n",
              "    .colab-df-convert {\n",
              "      background-color: #E8F0FE;\n",
              "      border: none;\n",
              "      border-radius: 50%;\n",
              "      cursor: pointer;\n",
              "      display: none;\n",
              "      fill: #1967D2;\n",
              "      height: 32px;\n",
              "      padding: 0 0 0 0;\n",
              "      width: 32px;\n",
              "    }\n",
              "\n",
              "    .colab-df-convert:hover {\n",
              "      background-color: #E2EBFA;\n",
              "      box-shadow: 0px 1px 2px rgba(60, 64, 67, 0.3), 0px 1px 3px 1px rgba(60, 64, 67, 0.15);\n",
              "      fill: #174EA6;\n",
              "    }\n",
              "\n",
              "    [theme=dark] .colab-df-convert {\n",
              "      background-color: #3B4455;\n",
              "      fill: #D2E3FC;\n",
              "    }\n",
              "\n",
              "    [theme=dark] .colab-df-convert:hover {\n",
              "      background-color: #434B5C;\n",
              "      box-shadow: 0px 1px 3px 1px rgba(0, 0, 0, 0.15);\n",
              "      filter: drop-shadow(0px 1px 2px rgba(0, 0, 0, 0.3));\n",
              "      fill: #FFFFFF;\n",
              "    }\n",
              "  </style>\n",
              "\n",
              "      <script>\n",
              "        const buttonEl =\n",
              "          document.querySelector('#df-950e35f2-6c12-40c9-b0d4-7c674e377a01 button.colab-df-convert');\n",
              "        buttonEl.style.display =\n",
              "          google.colab.kernel.accessAllowed ? 'block' : 'none';\n",
              "\n",
              "        async function convertToInteractive(key) {\n",
              "          const element = document.querySelector('#df-950e35f2-6c12-40c9-b0d4-7c674e377a01');\n",
              "          const dataTable =\n",
              "            await google.colab.kernel.invokeFunction('convertToInteractive',\n",
              "                                                     [key], {});\n",
              "          if (!dataTable) return;\n",
              "\n",
              "          const docLinkHtml = 'Like what you see? Visit the ' +\n",
              "            '<a target=\"_blank\" href=https://colab.research.google.com/notebooks/data_table.ipynb>data table notebook</a>'\n",
              "            + ' to learn more about interactive tables.';\n",
              "          element.innerHTML = '';\n",
              "          dataTable['output_type'] = 'display_data';\n",
              "          await google.colab.output.renderOutput(dataTable, element);\n",
              "          const docLink = document.createElement('div');\n",
              "          docLink.innerHTML = docLinkHtml;\n",
              "          element.appendChild(docLink);\n",
              "        }\n",
              "      </script>\n",
              "    </div>\n",
              "  </div>\n",
              "  "
            ]
          },
          "metadata": {},
          "execution_count": 16
        }
      ],
      "source": [
        "df[df['days_employed'].isna() == True].head()"
      ]
    },
    {
      "cell_type": "markdown",
      "metadata": {
        "id": "5zwJOZKIYI9G"
      },
      "source": [
        "Думаю, эти пропуски обусловлены тем, что заявитель не захотел раскрывать информацию о себе или он не имеет стажа/дохода. Их нужно заполнить характерными значениями. Cтроки с пропускми заполним медианным значением по типу занятости."
      ]
    },
    {
      "cell_type": "markdown",
      "metadata": {
        "id": "2KHEC9m9YI9G"
      },
      "source": [
        "Пройдёмся циклом по каждой колонке с пропусками (`columns_to_replace`) и по каждому типу занятости из таблицы `df_median`"
      ]
    },
    {
      "cell_type": "code",
      "execution_count": 17,
      "metadata": {
        "id": "15RVgWoxYI9G"
      },
      "outputs": [],
      "source": [
        "columns_to_replace = ['days_employed', 'total_income']"
      ]
    },
    {
      "cell_type": "code",
      "execution_count": 18,
      "metadata": {
        "id": "VE2_aKijYI9G"
      },
      "outputs": [],
      "source": [
        "for col in columns_to_replace:\n",
        "    for income_type in df_median.index:\n",
        "        df.loc[df['income_type'] == income_type, col] = df \\\n",
        "          .loc[df['income_type'] == income_type, col] \\\n",
        "          .fillna(df_median.loc[income_type, col])   "
      ]
    },
    {
      "cell_type": "markdown",
      "metadata": {
        "id": "Dh_7RtiPYI9G"
      },
      "source": [
        "Проверим наличие пропусков после замены."
      ]
    },
    {
      "cell_type": "code",
      "execution_count": 19,
      "metadata": {
        "scrolled": true,
        "id": "MgrEm939YI9G",
        "outputId": "cb6ac2b8-5d07-4226-c0fb-1aa3a9fe8522",
        "colab": {
          "base_uri": "https://localhost:8080/"
        }
      },
      "outputs": [
        {
          "output_type": "execute_result",
          "data": {
            "text/plain": [
              "children            0\n",
              "days_employed       0\n",
              "dob_years           0\n",
              "education           0\n",
              "education_id        0\n",
              "family_status       0\n",
              "family_status_id    0\n",
              "gender              0\n",
              "income_type         0\n",
              "debt                0\n",
              "total_income        0\n",
              "purpose             0\n",
              "dtype: int64"
            ]
          },
          "metadata": {},
          "execution_count": 19
        }
      ],
      "source": [
        "df.isna().sum()"
      ]
    },
    {
      "cell_type": "markdown",
      "metadata": {
        "id": "kM_mjLilYI9G"
      },
      "source": [
        "Все пропуски в данных устранены."
      ]
    },
    {
      "cell_type": "markdown",
      "metadata": {
        "id": "kcfZII24YI9H"
      },
      "source": [
        "### Замена типа данных"
      ]
    },
    {
      "cell_type": "markdown",
      "metadata": {
        "id": "6vDTPs5hYI9H"
      },
      "source": [
        "Теперь нам нужно изменить вещественный тип данных на целочисленный. Столбцы с типом данных `float`: `days_employed` и `total_income`.\n",
        "Подходящий способ для такого преобразования: `astype()`.\n",
        "Столбцы с подлежащими замене данными уже лежат в переменной `columns_to_replace`, осталось написать цикл."
      ]
    },
    {
      "cell_type": "code",
      "execution_count": 20,
      "metadata": {
        "id": "ZqAOD3n_YI9H"
      },
      "outputs": [],
      "source": [
        "columns_to_replace = ['days_employed', 'total_income']\n",
        "for col in columns_to_replace:\n",
        "    df[col] = df[col].astype('int')"
      ]
    },
    {
      "cell_type": "markdown",
      "metadata": {
        "id": "3F7nEL_NYI9H"
      },
      "source": [
        "Проверим."
      ]
    },
    {
      "cell_type": "code",
      "execution_count": 21,
      "metadata": {
        "id": "PJ8PVK6SYI9H",
        "outputId": "4525a5ec-2be2-4da1-d0a1-af035684545a",
        "colab": {
          "base_uri": "https://localhost:8080/"
        }
      },
      "outputs": [
        {
          "output_type": "stream",
          "name": "stdout",
          "text": [
            "<class 'pandas.core.frame.DataFrame'>\n",
            "RangeIndex: 21525 entries, 0 to 21524\n",
            "Data columns (total 12 columns):\n",
            " #   Column            Non-Null Count  Dtype  \n",
            "---  ------            --------------  -----  \n",
            " 0   children          21525 non-null  int64  \n",
            " 1   days_employed     21525 non-null  int64  \n",
            " 2   dob_years         21525 non-null  float64\n",
            " 3   education         21525 non-null  object \n",
            " 4   education_id      21525 non-null  int64  \n",
            " 5   family_status     21525 non-null  object \n",
            " 6   family_status_id  21525 non-null  int64  \n",
            " 7   gender            21525 non-null  object \n",
            " 8   income_type       21525 non-null  object \n",
            " 9   debt              21525 non-null  int64  \n",
            " 10  total_income      21525 non-null  int64  \n",
            " 11  purpose           21525 non-null  object \n",
            "dtypes: float64(1), int64(6), object(5)\n",
            "memory usage: 2.0+ MB\n"
          ]
        }
      ],
      "source": [
        "df.info()"
      ]
    },
    {
      "cell_type": "markdown",
      "metadata": {
        "id": "LKv-y4GuYI9H"
      },
      "source": [
        "Тип данных успешно преобразован методом `astype()`."
      ]
    },
    {
      "cell_type": "markdown",
      "metadata": {
        "id": "TGS6shJ0YI9H"
      },
      "source": [
        "### Обработка дубликатов"
      ]
    },
    {
      "cell_type": "markdown",
      "metadata": {
        "id": "RxhqYo20YI9H"
      },
      "source": [
        "Взглянем на значения `education`, на этот раз отсортированные."
      ]
    },
    {
      "cell_type": "code",
      "execution_count": 22,
      "metadata": {
        "id": "vucFAvVgYI9I",
        "outputId": "f474d1ed-8ab6-416c-e0a5-b62127213f39",
        "colab": {
          "base_uri": "https://localhost:8080/"
        }
      },
      "outputs": [
        {
          "output_type": "execute_result",
          "data": {
            "text/plain": [
              "['ВЫСШЕЕ',\n",
              " 'Высшее',\n",
              " 'НАЧАЛЬНОЕ',\n",
              " 'НЕОКОНЧЕННОЕ ВЫСШЕЕ',\n",
              " 'Начальное',\n",
              " 'Неоконченное высшее',\n",
              " 'СРЕДНЕЕ',\n",
              " 'Среднее',\n",
              " 'УЧЕНАЯ СТЕПЕНЬ',\n",
              " 'Ученая степень',\n",
              " 'высшее',\n",
              " 'начальное',\n",
              " 'неоконченное высшее',\n",
              " 'среднее',\n",
              " 'ученая степень']"
            ]
          },
          "metadata": {},
          "execution_count": 22
        }
      ],
      "source": [
        "sorted(df['education'].unique())"
      ]
    },
    {
      "cell_type": "markdown",
      "metadata": {
        "id": "HuJh7gv5YI9I"
      },
      "source": [
        "В столбце `education` явное наличие одинаковых значений, записанных разным способом, исправим это. Достаточно будет привести все значения к нижнему регистру."
      ]
    },
    {
      "cell_type": "code",
      "execution_count": 23,
      "metadata": {
        "id": "MahrOerwYI9I",
        "colab": {
          "base_uri": "https://localhost:8080/"
        },
        "outputId": "4a4972d2-00ab-47c5-f3e0-958fffb7f427"
      },
      "outputs": [
        {
          "output_type": "execute_result",
          "data": {
            "text/plain": [
              "['высшее', 'начальное', 'неоконченное высшее', 'среднее', 'ученая степень']"
            ]
          },
          "metadata": {},
          "execution_count": 23
        }
      ],
      "source": [
        "df['education'] = df['education'].str.lower()\n",
        "sorted(df['education'].unique())"
      ]
    },
    {
      "cell_type": "markdown",
      "metadata": {
        "id": "DPcEmVtiYI9I"
      },
      "source": [
        "Отлично!Теперь посчитаем количество явных дубликатов в таблице"
      ]
    },
    {
      "cell_type": "code",
      "execution_count": 24,
      "metadata": {
        "id": "fgpxI9-1YI9I",
        "outputId": "4293e276-f74a-4be9-8342-7c35c7cb2e05",
        "colab": {
          "base_uri": "https://localhost:8080/"
        }
      },
      "outputs": [
        {
          "output_type": "execute_result",
          "data": {
            "text/plain": [
              "71"
            ]
          },
          "metadata": {},
          "execution_count": 24
        }
      ],
      "source": [
        "df.duplicated().sum()"
      ]
    },
    {
      "cell_type": "markdown",
      "metadata": {
        "id": "6subg1rLYI9I"
      },
      "source": [
        "Обнаружен 71 дубликат. Избавимся от них методом `drop_duplicates()`"
      ]
    },
    {
      "cell_type": "code",
      "execution_count": 25,
      "metadata": {
        "id": "mxp84hSJYI9I",
        "colab": {
          "base_uri": "https://localhost:8080/"
        },
        "outputId": "f16f0e82-5aef-4f69-eebc-210058eeeed5"
      },
      "outputs": [
        {
          "output_type": "execute_result",
          "data": {
            "text/plain": [
              "0"
            ]
          },
          "metadata": {},
          "execution_count": 25
        }
      ],
      "source": [
        "df = df.drop_duplicates().reset_index(drop=True)\n",
        "df.duplicated().sum()"
      ]
    },
    {
      "cell_type": "markdown",
      "metadata": {
        "id": "zRENVhnkYI9I"
      },
      "source": [
        "Мы успешно избавились от всех дубликатов одним махом, заранее отыскав неявные. Дубликаты могли появиться в результате повторного заявления или потому что сотрудник банка по ошибке ввёл заявление в базу дважды."
      ]
    },
    {
      "cell_type": "markdown",
      "metadata": {
        "id": "1F5CbsATYI9I"
      },
      "source": [
        "### Лемматизация"
      ]
    },
    {
      "cell_type": "code",
      "execution_count": 26,
      "metadata": {
        "id": "9MFSWbXMYI9I",
        "colab": {
          "base_uri": "https://localhost:8080/"
        },
        "outputId": "4e974843-969b-409b-f310-68729f3bd4cd"
      },
      "outputs": [
        {
          "output_type": "stream",
          "name": "stderr",
          "text": [
            "Installing mystem to /root/.local/bin/mystem from http://download.cdn.yandex.net/mystem/mystem-3.1-linux-64bit.tar.gz\n"
          ]
        }
      ],
      "source": [
        "m = Mystem()"
      ]
    },
    {
      "cell_type": "markdown",
      "metadata": {
        "id": "YvEoabAyYI9I"
      },
      "source": [
        "Посмотрим ещё раз на уникальные значения в столбце `purpose`, отсортируем."
      ]
    },
    {
      "cell_type": "code",
      "execution_count": 27,
      "metadata": {
        "id": "SRp1vD-DYI9I",
        "outputId": "3fb24db4-16e3-4bf9-94f1-8e2f71956482",
        "colab": {
          "base_uri": "https://localhost:8080/"
        }
      },
      "outputs": [
        {
          "output_type": "execute_result",
          "data": {
            "text/plain": [
              "['автомобили',\n",
              " 'автомобиль',\n",
              " 'высшее образование',\n",
              " 'дополнительное образование',\n",
              " 'жилье',\n",
              " 'заняться высшим образованием',\n",
              " 'заняться образованием',\n",
              " 'на покупку автомобиля',\n",
              " 'на покупку подержанного автомобиля',\n",
              " 'на покупку своего автомобиля',\n",
              " 'на проведение свадьбы',\n",
              " 'недвижимость',\n",
              " 'образование',\n",
              " 'операции с жильем',\n",
              " 'операции с коммерческой недвижимостью',\n",
              " 'операции с недвижимостью',\n",
              " 'операции со своей недвижимостью',\n",
              " 'покупка жилой недвижимости',\n",
              " 'покупка жилья',\n",
              " 'покупка жилья для сдачи',\n",
              " 'покупка жилья для семьи',\n",
              " 'покупка коммерческой недвижимости',\n",
              " 'покупка недвижимости',\n",
              " 'покупка своего жилья',\n",
              " 'получение высшего образования',\n",
              " 'получение дополнительного образования',\n",
              " 'получение образования',\n",
              " 'приобретение автомобиля',\n",
              " 'профильное образование',\n",
              " 'ремонт жилью',\n",
              " 'свадьба',\n",
              " 'свой автомобиль',\n",
              " 'сделка с автомобилем',\n",
              " 'сделка с подержанным автомобилем',\n",
              " 'строительство жилой недвижимости',\n",
              " 'строительство недвижимости',\n",
              " 'строительство собственной недвижимости',\n",
              " 'сыграть свадьбу']"
            ]
          },
          "metadata": {},
          "execution_count": 27
        }
      ],
      "source": [
        "sorted(df['purpose'].unique())"
      ]
    },
    {
      "cell_type": "markdown",
      "metadata": {
        "id": "3du353WwYI9J"
      },
      "source": [
        "Давайте лемматизируем столбец `purpose`. Лемматизацию проведём с помощью метода `Mystem()` из библиотеки `pymystem3` она приведёт все слова к единому виду и выведет в список. Создадим цикл который пройдётся по всем строкам, соединим вывод метода `Mystem()` метедом `.join()` и запишем лемматизированные строки в новый столбец `purpose_lemmas`"
      ]
    },
    {
      "cell_type": "code",
      "execution_count": 28,
      "metadata": {
        "id": "ofALq2dpYI9J",
        "colab": {
          "base_uri": "https://localhost:8080/"
        },
        "outputId": "ce170cc4-1170-4a4d-d7ca-80a409f33f60"
      },
      "outputs": [
        {
          "output_type": "stream",
          "name": "stderr",
          "text": [
            "100%|██████████| 21454/21454 [00:26<00:00, 799.14it/s]\n"
          ]
        }
      ],
      "source": [
        "for index in tqdm(range(len(df['purpose']))):\n",
        "    lemmas = ' '.join(m.lemmatize(df.loc[index,'purpose']))\n",
        "    df.loc[index,'purpose_lemmas'] = lemmas"
      ]
    },
    {
      "cell_type": "markdown",
      "metadata": {
        "id": "CxrVogn3YI9J"
      },
      "source": [
        "Проверим результат."
      ]
    },
    {
      "cell_type": "code",
      "execution_count": 29,
      "metadata": {
        "id": "i58i6BGHYI9J",
        "outputId": "cc02df20-8a03-4558-8bd3-601767a96038",
        "colab": {
          "base_uri": "https://localhost:8080/"
        }
      },
      "outputs": [
        {
          "output_type": "execute_result",
          "data": {
            "text/plain": [
              "['автомобиль \\n',\n",
              " 'высокий   образование \\n',\n",
              " 'дополнительный   образование \\n',\n",
              " 'жилье \\n',\n",
              " 'заниматься   высокий   образование \\n',\n",
              " 'заниматься   образование \\n',\n",
              " 'на   покупка   автомобиль \\n',\n",
              " 'на   покупка   подержать   автомобиль \\n',\n",
              " 'на   покупка   свой   автомобиль \\n',\n",
              " 'на   проведение   свадьба \\n',\n",
              " 'недвижимость \\n',\n",
              " 'образование \\n',\n",
              " 'операция   с   жилье \\n',\n",
              " 'операция   с   коммерческий   недвижимость \\n',\n",
              " 'операция   с   недвижимость \\n',\n",
              " 'операция   со   свой   недвижимость \\n',\n",
              " 'покупка   жилой   недвижимость \\n',\n",
              " 'покупка   жилье \\n',\n",
              " 'покупка   жилье   для   сдача \\n',\n",
              " 'покупка   жилье   для   семья \\n',\n",
              " 'покупка   коммерческий   недвижимость \\n',\n",
              " 'покупка   недвижимость \\n',\n",
              " 'покупка   свой   жилье \\n',\n",
              " 'получение   высокий   образование \\n',\n",
              " 'получение   дополнительный   образование \\n',\n",
              " 'получение   образование \\n',\n",
              " 'приобретение   автомобиль \\n',\n",
              " 'профильный   образование \\n',\n",
              " 'ремонт   жилье \\n',\n",
              " 'свадьба \\n',\n",
              " 'свой   автомобиль \\n',\n",
              " 'сделка   с   автомобиль \\n',\n",
              " 'сделка   с   подержанный   автомобиль \\n',\n",
              " 'строительство   жилой   недвижимость \\n',\n",
              " 'строительство   недвижимость \\n',\n",
              " 'строительство   собственный   недвижимость \\n',\n",
              " 'сыграть   свадьба \\n']"
            ]
          },
          "metadata": {},
          "execution_count": 29
        }
      ],
      "source": [
        "sorted(df['purpose_lemmas'].unique())"
      ]
    },
    {
      "cell_type": "markdown",
      "metadata": {
        "id": "yeJmq-gZYI9J"
      },
      "source": [
        "Давайте определим группы методом поиска наиболее встречающихся слов."
      ]
    },
    {
      "cell_type": "code",
      "execution_count": 30,
      "metadata": {
        "id": "InwAtof6YI9J"
      },
      "outputs": [],
      "source": [
        "joined_lemmas = ' '.join(df['purpose_lemmas']).split()"
      ]
    },
    {
      "cell_type": "code",
      "execution_count": 31,
      "metadata": {
        "scrolled": true,
        "id": "IJezInzkYI9J",
        "outputId": "9d3b064b-7fb0-4cee-9daa-a4c98668a458",
        "colab": {
          "base_uri": "https://localhost:8080/"
        }
      },
      "outputs": [
        {
          "output_type": "execute_result",
          "data": {
            "text/plain": [
              "[('недвижимость', 6351),\n",
              " ('покупка', 5897),\n",
              " ('жилье', 4460),\n",
              " ('автомобиль', 4306),\n",
              " ('образование', 4013),\n",
              " ('с', 2918),\n",
              " ('операция', 2604),\n",
              " ('свадьба', 2324),\n",
              " ('свой', 2230),\n",
              " ('на', 2222)]"
            ]
          },
          "metadata": {},
          "execution_count": 31
        }
      ],
      "source": [
        "Counter(joined_lemmas).most_common(10)"
      ]
    },
    {
      "cell_type": "markdown",
      "metadata": {
        "id": "J5TyjOH7YI9J"
      },
      "source": [
        "Из списка мы можем выделить несколько групп: \"автомобиль\", \"образование\", \"жилье\"/\"недвижимость\" и \"свадьба\".\n",
        "Эта информация пригодится нам дальше для группировки данных."
      ]
    },
    {
      "cell_type": "code",
      "execution_count": 32,
      "metadata": {
        "scrolled": false,
        "id": "6HBsd7jxYI9J",
        "outputId": "ebccfa11-bc1c-4afd-ef99-07c85d213a05",
        "colab": {
          "base_uri": "https://localhost:8080/",
          "height": 206
        }
      },
      "outputs": [
        {
          "output_type": "execute_result",
          "data": {
            "text/plain": [
              "   children  days_employed  dob_years education  education_id  \\\n",
              "0         1           8437       42.0    высшее             0   \n",
              "1         1           4024       36.0   среднее             1   \n",
              "2         0           5623       33.0   среднее             1   \n",
              "3         3           4124       32.0   среднее             1   \n",
              "4         0          14177       53.0   среднее             1   \n",
              "\n",
              "      family_status  family_status_id gender income_type  debt  total_income  \\\n",
              "0   женат / замужем                 0      F   сотрудник     0        253875   \n",
              "1   женат / замужем                 0      F   сотрудник     0        112080   \n",
              "2   женат / замужем                 0      M   сотрудник     0        145885   \n",
              "3   женат / замужем                 0      M   сотрудник     0        267628   \n",
              "4  гражданский брак                 1      F   пенсионер     0        158616   \n",
              "\n",
              "                      purpose                   purpose_lemmas  \n",
              "0               покупка жилья               покупка   жилье \\n  \n",
              "1     приобретение автомобиля     приобретение   автомобиль \\n  \n",
              "2               покупка жилья               покупка   жилье \\n  \n",
              "3  дополнительное образование  дополнительный   образование \\n  \n",
              "4             сыграть свадьбу             сыграть   свадьба \\n  "
            ],
            "text/html": [
              "\n",
              "  <div id=\"df-40b475c3-ad84-4f12-a37e-73a94e805525\">\n",
              "    <div class=\"colab-df-container\">\n",
              "      <div>\n",
              "<style scoped>\n",
              "    .dataframe tbody tr th:only-of-type {\n",
              "        vertical-align: middle;\n",
              "    }\n",
              "\n",
              "    .dataframe tbody tr th {\n",
              "        vertical-align: top;\n",
              "    }\n",
              "\n",
              "    .dataframe thead th {\n",
              "        text-align: right;\n",
              "    }\n",
              "</style>\n",
              "<table border=\"1\" class=\"dataframe\">\n",
              "  <thead>\n",
              "    <tr style=\"text-align: right;\">\n",
              "      <th></th>\n",
              "      <th>children</th>\n",
              "      <th>days_employed</th>\n",
              "      <th>dob_years</th>\n",
              "      <th>education</th>\n",
              "      <th>education_id</th>\n",
              "      <th>family_status</th>\n",
              "      <th>family_status_id</th>\n",
              "      <th>gender</th>\n",
              "      <th>income_type</th>\n",
              "      <th>debt</th>\n",
              "      <th>total_income</th>\n",
              "      <th>purpose</th>\n",
              "      <th>purpose_lemmas</th>\n",
              "    </tr>\n",
              "  </thead>\n",
              "  <tbody>\n",
              "    <tr>\n",
              "      <th>0</th>\n",
              "      <td>1</td>\n",
              "      <td>8437</td>\n",
              "      <td>42.0</td>\n",
              "      <td>высшее</td>\n",
              "      <td>0</td>\n",
              "      <td>женат / замужем</td>\n",
              "      <td>0</td>\n",
              "      <td>F</td>\n",
              "      <td>сотрудник</td>\n",
              "      <td>0</td>\n",
              "      <td>253875</td>\n",
              "      <td>покупка жилья</td>\n",
              "      <td>покупка   жилье \\n</td>\n",
              "    </tr>\n",
              "    <tr>\n",
              "      <th>1</th>\n",
              "      <td>1</td>\n",
              "      <td>4024</td>\n",
              "      <td>36.0</td>\n",
              "      <td>среднее</td>\n",
              "      <td>1</td>\n",
              "      <td>женат / замужем</td>\n",
              "      <td>0</td>\n",
              "      <td>F</td>\n",
              "      <td>сотрудник</td>\n",
              "      <td>0</td>\n",
              "      <td>112080</td>\n",
              "      <td>приобретение автомобиля</td>\n",
              "      <td>приобретение   автомобиль \\n</td>\n",
              "    </tr>\n",
              "    <tr>\n",
              "      <th>2</th>\n",
              "      <td>0</td>\n",
              "      <td>5623</td>\n",
              "      <td>33.0</td>\n",
              "      <td>среднее</td>\n",
              "      <td>1</td>\n",
              "      <td>женат / замужем</td>\n",
              "      <td>0</td>\n",
              "      <td>M</td>\n",
              "      <td>сотрудник</td>\n",
              "      <td>0</td>\n",
              "      <td>145885</td>\n",
              "      <td>покупка жилья</td>\n",
              "      <td>покупка   жилье \\n</td>\n",
              "    </tr>\n",
              "    <tr>\n",
              "      <th>3</th>\n",
              "      <td>3</td>\n",
              "      <td>4124</td>\n",
              "      <td>32.0</td>\n",
              "      <td>среднее</td>\n",
              "      <td>1</td>\n",
              "      <td>женат / замужем</td>\n",
              "      <td>0</td>\n",
              "      <td>M</td>\n",
              "      <td>сотрудник</td>\n",
              "      <td>0</td>\n",
              "      <td>267628</td>\n",
              "      <td>дополнительное образование</td>\n",
              "      <td>дополнительный   образование \\n</td>\n",
              "    </tr>\n",
              "    <tr>\n",
              "      <th>4</th>\n",
              "      <td>0</td>\n",
              "      <td>14177</td>\n",
              "      <td>53.0</td>\n",
              "      <td>среднее</td>\n",
              "      <td>1</td>\n",
              "      <td>гражданский брак</td>\n",
              "      <td>1</td>\n",
              "      <td>F</td>\n",
              "      <td>пенсионер</td>\n",
              "      <td>0</td>\n",
              "      <td>158616</td>\n",
              "      <td>сыграть свадьбу</td>\n",
              "      <td>сыграть   свадьба \\n</td>\n",
              "    </tr>\n",
              "  </tbody>\n",
              "</table>\n",
              "</div>\n",
              "      <button class=\"colab-df-convert\" onclick=\"convertToInteractive('df-40b475c3-ad84-4f12-a37e-73a94e805525')\"\n",
              "              title=\"Convert this dataframe to an interactive table.\"\n",
              "              style=\"display:none;\">\n",
              "        \n",
              "  <svg xmlns=\"http://www.w3.org/2000/svg\" height=\"24px\"viewBox=\"0 0 24 24\"\n",
              "       width=\"24px\">\n",
              "    <path d=\"M0 0h24v24H0V0z\" fill=\"none\"/>\n",
              "    <path d=\"M18.56 5.44l.94 2.06.94-2.06 2.06-.94-2.06-.94-.94-2.06-.94 2.06-2.06.94zm-11 1L8.5 8.5l.94-2.06 2.06-.94-2.06-.94L8.5 2.5l-.94 2.06-2.06.94zm10 10l.94 2.06.94-2.06 2.06-.94-2.06-.94-.94-2.06-.94 2.06-2.06.94z\"/><path d=\"M17.41 7.96l-1.37-1.37c-.4-.4-.92-.59-1.43-.59-.52 0-1.04.2-1.43.59L10.3 9.45l-7.72 7.72c-.78.78-.78 2.05 0 2.83L4 21.41c.39.39.9.59 1.41.59.51 0 1.02-.2 1.41-.59l7.78-7.78 2.81-2.81c.8-.78.8-2.07 0-2.86zM5.41 20L4 18.59l7.72-7.72 1.47 1.35L5.41 20z\"/>\n",
              "  </svg>\n",
              "      </button>\n",
              "      \n",
              "  <style>\n",
              "    .colab-df-container {\n",
              "      display:flex;\n",
              "      flex-wrap:wrap;\n",
              "      gap: 12px;\n",
              "    }\n",
              "\n",
              "    .colab-df-convert {\n",
              "      background-color: #E8F0FE;\n",
              "      border: none;\n",
              "      border-radius: 50%;\n",
              "      cursor: pointer;\n",
              "      display: none;\n",
              "      fill: #1967D2;\n",
              "      height: 32px;\n",
              "      padding: 0 0 0 0;\n",
              "      width: 32px;\n",
              "    }\n",
              "\n",
              "    .colab-df-convert:hover {\n",
              "      background-color: #E2EBFA;\n",
              "      box-shadow: 0px 1px 2px rgba(60, 64, 67, 0.3), 0px 1px 3px 1px rgba(60, 64, 67, 0.15);\n",
              "      fill: #174EA6;\n",
              "    }\n",
              "\n",
              "    [theme=dark] .colab-df-convert {\n",
              "      background-color: #3B4455;\n",
              "      fill: #D2E3FC;\n",
              "    }\n",
              "\n",
              "    [theme=dark] .colab-df-convert:hover {\n",
              "      background-color: #434B5C;\n",
              "      box-shadow: 0px 1px 3px 1px rgba(0, 0, 0, 0.15);\n",
              "      filter: drop-shadow(0px 1px 2px rgba(0, 0, 0, 0.3));\n",
              "      fill: #FFFFFF;\n",
              "    }\n",
              "  </style>\n",
              "\n",
              "      <script>\n",
              "        const buttonEl =\n",
              "          document.querySelector('#df-40b475c3-ad84-4f12-a37e-73a94e805525 button.colab-df-convert');\n",
              "        buttonEl.style.display =\n",
              "          google.colab.kernel.accessAllowed ? 'block' : 'none';\n",
              "\n",
              "        async function convertToInteractive(key) {\n",
              "          const element = document.querySelector('#df-40b475c3-ad84-4f12-a37e-73a94e805525');\n",
              "          const dataTable =\n",
              "            await google.colab.kernel.invokeFunction('convertToInteractive',\n",
              "                                                     [key], {});\n",
              "          if (!dataTable) return;\n",
              "\n",
              "          const docLinkHtml = 'Like what you see? Visit the ' +\n",
              "            '<a target=\"_blank\" href=https://colab.research.google.com/notebooks/data_table.ipynb>data table notebook</a>'\n",
              "            + ' to learn more about interactive tables.';\n",
              "          element.innerHTML = '';\n",
              "          dataTable['output_type'] = 'display_data';\n",
              "          await google.colab.output.renderOutput(dataTable, element);\n",
              "          const docLink = document.createElement('div');\n",
              "          docLink.innerHTML = docLinkHtml;\n",
              "          element.appendChild(docLink);\n",
              "        }\n",
              "      </script>\n",
              "    </div>\n",
              "  </div>\n",
              "  "
            ]
          },
          "metadata": {},
          "execution_count": 32
        }
      ],
      "source": [
        "df.head()"
      ]
    },
    {
      "cell_type": "markdown",
      "metadata": {
        "id": "U8jJmPLTYI9J"
      },
      "source": [
        "Мы успешно лемматизировали данные в столбце `purpose` с помощью `Mystem()`. Лемматизированные данные будут необходимы нам далее для ответа на вопрос \"Как разные цели кредита влияют на его возврат в срок?\""
      ]
    },
    {
      "cell_type": "markdown",
      "metadata": {
        "id": "7QorPRHmYI9J"
      },
      "source": [
        "### Категоризация данных"
      ]
    },
    {
      "cell_type": "markdown",
      "metadata": {
        "id": "GG26TsszYI9K"
      },
      "source": [
        "#### Цель получения кредита"
      ]
    },
    {
      "cell_type": "markdown",
      "metadata": {
        "id": "gZua0ap0YI9K"
      },
      "source": [
        "Добавим столбец с категорией назначения кредита в основную таблицу. Для этого создадим функцию с обработкой ошибок.\n",
        "\n",
        "Ранее мы выделили из списка несколько групп: \"автомобиль\", \"образование\", \"жилье\"/\"недвижимость\" и \"свадьба\"."
      ]
    },
    {
      "cell_type": "code",
      "execution_count": 33,
      "metadata": {
        "id": "kqd2PyfLYI9K"
      },
      "outputs": [],
      "source": [
        "def purpose_group(purpose):\n",
        "    try:\n",
        "        if 'автомобиль' in purpose:\n",
        "            return 'автомобиль'\n",
        "        elif 'образование' in purpose:\n",
        "            return 'образование'\n",
        "        elif 'жилье' in purpose or 'недвижимость' in purpose:\n",
        "            return 'жилье/недвижимость'\n",
        "        elif 'свадьба' in purpose:\n",
        "            return 'свадьба'\n",
        "        else:\n",
        "            return 'другое'\n",
        "    except:\n",
        "        return 'error'"
      ]
    },
    {
      "cell_type": "markdown",
      "metadata": {
        "id": "WywkoTUHYI9K"
      },
      "source": [
        "Применим функцию к столбцу `purpose_lemmas` и сохраним результат в столбце `purpose_group`"
      ]
    },
    {
      "cell_type": "code",
      "execution_count": 34,
      "metadata": {
        "id": "JVdcdWxOYI9K"
      },
      "outputs": [],
      "source": [
        "df['purpose_group'] = df['purpose_lemmas'].apply(purpose_group)"
      ]
    },
    {
      "cell_type": "markdown",
      "metadata": {
        "id": "Ovyz7ZkfYI9K"
      },
      "source": [
        "Проверим результат"
      ]
    },
    {
      "cell_type": "code",
      "execution_count": 35,
      "metadata": {
        "id": "Mbnu4L_kYI9K",
        "outputId": "fc3de9fc-a084-477c-ce1c-e80e24f083ef",
        "colab": {
          "base_uri": "https://localhost:8080/",
          "height": 337
        }
      },
      "outputs": [
        {
          "output_type": "execute_result",
          "data": {
            "text/plain": [
              "   children  days_employed  dob_years education  education_id  \\\n",
              "0         1           8437       42.0    высшее             0   \n",
              "1         1           4024       36.0   среднее             1   \n",
              "2         0           5623       33.0   среднее             1   \n",
              "3         3           4124       32.0   среднее             1   \n",
              "4         0          14177       53.0   среднее             1   \n",
              "\n",
              "      family_status  family_status_id gender income_type  debt  total_income  \\\n",
              "0   женат / замужем                 0      F   сотрудник     0        253875   \n",
              "1   женат / замужем                 0      F   сотрудник     0        112080   \n",
              "2   женат / замужем                 0      M   сотрудник     0        145885   \n",
              "3   женат / замужем                 0      M   сотрудник     0        267628   \n",
              "4  гражданский брак                 1      F   пенсионер     0        158616   \n",
              "\n",
              "                      purpose                   purpose_lemmas  \\\n",
              "0               покупка жилья               покупка   жилье \\n   \n",
              "1     приобретение автомобиля     приобретение   автомобиль \\n   \n",
              "2               покупка жилья               покупка   жилье \\n   \n",
              "3  дополнительное образование  дополнительный   образование \\n   \n",
              "4             сыграть свадьбу             сыграть   свадьба \\n   \n",
              "\n",
              "        purpose_group  \n",
              "0  жилье/недвижимость  \n",
              "1          автомобиль  \n",
              "2  жилье/недвижимость  \n",
              "3         образование  \n",
              "4             свадьба  "
            ],
            "text/html": [
              "\n",
              "  <div id=\"df-73f5cf8f-dd34-4ce8-aca0-6d6de36312ee\">\n",
              "    <div class=\"colab-df-container\">\n",
              "      <div>\n",
              "<style scoped>\n",
              "    .dataframe tbody tr th:only-of-type {\n",
              "        vertical-align: middle;\n",
              "    }\n",
              "\n",
              "    .dataframe tbody tr th {\n",
              "        vertical-align: top;\n",
              "    }\n",
              "\n",
              "    .dataframe thead th {\n",
              "        text-align: right;\n",
              "    }\n",
              "</style>\n",
              "<table border=\"1\" class=\"dataframe\">\n",
              "  <thead>\n",
              "    <tr style=\"text-align: right;\">\n",
              "      <th></th>\n",
              "      <th>children</th>\n",
              "      <th>days_employed</th>\n",
              "      <th>dob_years</th>\n",
              "      <th>education</th>\n",
              "      <th>education_id</th>\n",
              "      <th>family_status</th>\n",
              "      <th>family_status_id</th>\n",
              "      <th>gender</th>\n",
              "      <th>income_type</th>\n",
              "      <th>debt</th>\n",
              "      <th>total_income</th>\n",
              "      <th>purpose</th>\n",
              "      <th>purpose_lemmas</th>\n",
              "      <th>purpose_group</th>\n",
              "    </tr>\n",
              "  </thead>\n",
              "  <tbody>\n",
              "    <tr>\n",
              "      <th>0</th>\n",
              "      <td>1</td>\n",
              "      <td>8437</td>\n",
              "      <td>42.0</td>\n",
              "      <td>высшее</td>\n",
              "      <td>0</td>\n",
              "      <td>женат / замужем</td>\n",
              "      <td>0</td>\n",
              "      <td>F</td>\n",
              "      <td>сотрудник</td>\n",
              "      <td>0</td>\n",
              "      <td>253875</td>\n",
              "      <td>покупка жилья</td>\n",
              "      <td>покупка   жилье \\n</td>\n",
              "      <td>жилье/недвижимость</td>\n",
              "    </tr>\n",
              "    <tr>\n",
              "      <th>1</th>\n",
              "      <td>1</td>\n",
              "      <td>4024</td>\n",
              "      <td>36.0</td>\n",
              "      <td>среднее</td>\n",
              "      <td>1</td>\n",
              "      <td>женат / замужем</td>\n",
              "      <td>0</td>\n",
              "      <td>F</td>\n",
              "      <td>сотрудник</td>\n",
              "      <td>0</td>\n",
              "      <td>112080</td>\n",
              "      <td>приобретение автомобиля</td>\n",
              "      <td>приобретение   автомобиль \\n</td>\n",
              "      <td>автомобиль</td>\n",
              "    </tr>\n",
              "    <tr>\n",
              "      <th>2</th>\n",
              "      <td>0</td>\n",
              "      <td>5623</td>\n",
              "      <td>33.0</td>\n",
              "      <td>среднее</td>\n",
              "      <td>1</td>\n",
              "      <td>женат / замужем</td>\n",
              "      <td>0</td>\n",
              "      <td>M</td>\n",
              "      <td>сотрудник</td>\n",
              "      <td>0</td>\n",
              "      <td>145885</td>\n",
              "      <td>покупка жилья</td>\n",
              "      <td>покупка   жилье \\n</td>\n",
              "      <td>жилье/недвижимость</td>\n",
              "    </tr>\n",
              "    <tr>\n",
              "      <th>3</th>\n",
              "      <td>3</td>\n",
              "      <td>4124</td>\n",
              "      <td>32.0</td>\n",
              "      <td>среднее</td>\n",
              "      <td>1</td>\n",
              "      <td>женат / замужем</td>\n",
              "      <td>0</td>\n",
              "      <td>M</td>\n",
              "      <td>сотрудник</td>\n",
              "      <td>0</td>\n",
              "      <td>267628</td>\n",
              "      <td>дополнительное образование</td>\n",
              "      <td>дополнительный   образование \\n</td>\n",
              "      <td>образование</td>\n",
              "    </tr>\n",
              "    <tr>\n",
              "      <th>4</th>\n",
              "      <td>0</td>\n",
              "      <td>14177</td>\n",
              "      <td>53.0</td>\n",
              "      <td>среднее</td>\n",
              "      <td>1</td>\n",
              "      <td>гражданский брак</td>\n",
              "      <td>1</td>\n",
              "      <td>F</td>\n",
              "      <td>пенсионер</td>\n",
              "      <td>0</td>\n",
              "      <td>158616</td>\n",
              "      <td>сыграть свадьбу</td>\n",
              "      <td>сыграть   свадьба \\n</td>\n",
              "      <td>свадьба</td>\n",
              "    </tr>\n",
              "  </tbody>\n",
              "</table>\n",
              "</div>\n",
              "      <button class=\"colab-df-convert\" onclick=\"convertToInteractive('df-73f5cf8f-dd34-4ce8-aca0-6d6de36312ee')\"\n",
              "              title=\"Convert this dataframe to an interactive table.\"\n",
              "              style=\"display:none;\">\n",
              "        \n",
              "  <svg xmlns=\"http://www.w3.org/2000/svg\" height=\"24px\"viewBox=\"0 0 24 24\"\n",
              "       width=\"24px\">\n",
              "    <path d=\"M0 0h24v24H0V0z\" fill=\"none\"/>\n",
              "    <path d=\"M18.56 5.44l.94 2.06.94-2.06 2.06-.94-2.06-.94-.94-2.06-.94 2.06-2.06.94zm-11 1L8.5 8.5l.94-2.06 2.06-.94-2.06-.94L8.5 2.5l-.94 2.06-2.06.94zm10 10l.94 2.06.94-2.06 2.06-.94-2.06-.94-.94-2.06-.94 2.06-2.06.94z\"/><path d=\"M17.41 7.96l-1.37-1.37c-.4-.4-.92-.59-1.43-.59-.52 0-1.04.2-1.43.59L10.3 9.45l-7.72 7.72c-.78.78-.78 2.05 0 2.83L4 21.41c.39.39.9.59 1.41.59.51 0 1.02-.2 1.41-.59l7.78-7.78 2.81-2.81c.8-.78.8-2.07 0-2.86zM5.41 20L4 18.59l7.72-7.72 1.47 1.35L5.41 20z\"/>\n",
              "  </svg>\n",
              "      </button>\n",
              "      \n",
              "  <style>\n",
              "    .colab-df-container {\n",
              "      display:flex;\n",
              "      flex-wrap:wrap;\n",
              "      gap: 12px;\n",
              "    }\n",
              "\n",
              "    .colab-df-convert {\n",
              "      background-color: #E8F0FE;\n",
              "      border: none;\n",
              "      border-radius: 50%;\n",
              "      cursor: pointer;\n",
              "      display: none;\n",
              "      fill: #1967D2;\n",
              "      height: 32px;\n",
              "      padding: 0 0 0 0;\n",
              "      width: 32px;\n",
              "    }\n",
              "\n",
              "    .colab-df-convert:hover {\n",
              "      background-color: #E2EBFA;\n",
              "      box-shadow: 0px 1px 2px rgba(60, 64, 67, 0.3), 0px 1px 3px 1px rgba(60, 64, 67, 0.15);\n",
              "      fill: #174EA6;\n",
              "    }\n",
              "\n",
              "    [theme=dark] .colab-df-convert {\n",
              "      background-color: #3B4455;\n",
              "      fill: #D2E3FC;\n",
              "    }\n",
              "\n",
              "    [theme=dark] .colab-df-convert:hover {\n",
              "      background-color: #434B5C;\n",
              "      box-shadow: 0px 1px 3px 1px rgba(0, 0, 0, 0.15);\n",
              "      filter: drop-shadow(0px 1px 2px rgba(0, 0, 0, 0.3));\n",
              "      fill: #FFFFFF;\n",
              "    }\n",
              "  </style>\n",
              "\n",
              "      <script>\n",
              "        const buttonEl =\n",
              "          document.querySelector('#df-73f5cf8f-dd34-4ce8-aca0-6d6de36312ee button.colab-df-convert');\n",
              "        buttonEl.style.display =\n",
              "          google.colab.kernel.accessAllowed ? 'block' : 'none';\n",
              "\n",
              "        async function convertToInteractive(key) {\n",
              "          const element = document.querySelector('#df-73f5cf8f-dd34-4ce8-aca0-6d6de36312ee');\n",
              "          const dataTable =\n",
              "            await google.colab.kernel.invokeFunction('convertToInteractive',\n",
              "                                                     [key], {});\n",
              "          if (!dataTable) return;\n",
              "\n",
              "          const docLinkHtml = 'Like what you see? Visit the ' +\n",
              "            '<a target=\"_blank\" href=https://colab.research.google.com/notebooks/data_table.ipynb>data table notebook</a>'\n",
              "            + ' to learn more about interactive tables.';\n",
              "          element.innerHTML = '';\n",
              "          dataTable['output_type'] = 'display_data';\n",
              "          await google.colab.output.renderOutput(dataTable, element);\n",
              "          const docLink = document.createElement('div');\n",
              "          docLink.innerHTML = docLinkHtml;\n",
              "          element.appendChild(docLink);\n",
              "        }\n",
              "      </script>\n",
              "    </div>\n",
              "  </div>\n",
              "  "
            ]
          },
          "metadata": {},
          "execution_count": 35
        }
      ],
      "source": [
        "df.head()"
      ]
    },
    {
      "cell_type": "code",
      "execution_count": 36,
      "metadata": {
        "id": "0tbGlc_cYI9K",
        "outputId": "afe861ed-5eee-44dd-d560-4958c3d40ee0",
        "colab": {
          "base_uri": "https://localhost:8080/"
        }
      },
      "outputs": [
        {
          "output_type": "execute_result",
          "data": {
            "text/plain": [
              "жилье/недвижимость    10811\n",
              "автомобиль             4306\n",
              "образование            4013\n",
              "свадьба                2324\n",
              "Name: purpose_group, dtype: int64"
            ]
          },
          "metadata": {},
          "execution_count": 36
        }
      ],
      "source": [
        "df['purpose_group'].value_counts()"
      ]
    },
    {
      "cell_type": "markdown",
      "metadata": {
        "id": "KFGbXpj3YI9K"
      },
      "source": [
        "Ошибок в категориях нет. Мы успешно создали ключевое слово для каждого заявления."
      ]
    },
    {
      "cell_type": "markdown",
      "metadata": {
        "id": "0XnASl40YI9K"
      },
      "source": [
        "#### Дети"
      ]
    },
    {
      "cell_type": "markdown",
      "metadata": {
        "id": "QugeXBTyYI9K"
      },
      "source": [
        "Теперь взглянем на распределение кол-ва детей среди заявителей."
      ]
    },
    {
      "cell_type": "code",
      "execution_count": 37,
      "metadata": {
        "id": "kRzIZ-dMYI9K",
        "outputId": "d57b00ce-6c48-4e5d-d7eb-1cc3362cf5a1",
        "colab": {
          "base_uri": "https://localhost:8080/",
          "height": 269
        }
      },
      "outputs": [
        {
          "output_type": "execute_result",
          "data": {
            "text/plain": [
              "           debt\n",
              "children       \n",
              "0         14091\n",
              "1          4855\n",
              "2          2128\n",
              "3           330\n",
              "4            41\n",
              "5             9"
            ],
            "text/html": [
              "\n",
              "  <div id=\"df-9660042c-d3ed-4e62-b76e-07143256b606\">\n",
              "    <div class=\"colab-df-container\">\n",
              "      <div>\n",
              "<style scoped>\n",
              "    .dataframe tbody tr th:only-of-type {\n",
              "        vertical-align: middle;\n",
              "    }\n",
              "\n",
              "    .dataframe tbody tr th {\n",
              "        vertical-align: top;\n",
              "    }\n",
              "\n",
              "    .dataframe thead th {\n",
              "        text-align: right;\n",
              "    }\n",
              "</style>\n",
              "<table border=\"1\" class=\"dataframe\">\n",
              "  <thead>\n",
              "    <tr style=\"text-align: right;\">\n",
              "      <th></th>\n",
              "      <th>debt</th>\n",
              "    </tr>\n",
              "    <tr>\n",
              "      <th>children</th>\n",
              "      <th></th>\n",
              "    </tr>\n",
              "  </thead>\n",
              "  <tbody>\n",
              "    <tr>\n",
              "      <th>0</th>\n",
              "      <td>14091</td>\n",
              "    </tr>\n",
              "    <tr>\n",
              "      <th>1</th>\n",
              "      <td>4855</td>\n",
              "    </tr>\n",
              "    <tr>\n",
              "      <th>2</th>\n",
              "      <td>2128</td>\n",
              "    </tr>\n",
              "    <tr>\n",
              "      <th>3</th>\n",
              "      <td>330</td>\n",
              "    </tr>\n",
              "    <tr>\n",
              "      <th>4</th>\n",
              "      <td>41</td>\n",
              "    </tr>\n",
              "    <tr>\n",
              "      <th>5</th>\n",
              "      <td>9</td>\n",
              "    </tr>\n",
              "  </tbody>\n",
              "</table>\n",
              "</div>\n",
              "      <button class=\"colab-df-convert\" onclick=\"convertToInteractive('df-9660042c-d3ed-4e62-b76e-07143256b606')\"\n",
              "              title=\"Convert this dataframe to an interactive table.\"\n",
              "              style=\"display:none;\">\n",
              "        \n",
              "  <svg xmlns=\"http://www.w3.org/2000/svg\" height=\"24px\"viewBox=\"0 0 24 24\"\n",
              "       width=\"24px\">\n",
              "    <path d=\"M0 0h24v24H0V0z\" fill=\"none\"/>\n",
              "    <path d=\"M18.56 5.44l.94 2.06.94-2.06 2.06-.94-2.06-.94-.94-2.06-.94 2.06-2.06.94zm-11 1L8.5 8.5l.94-2.06 2.06-.94-2.06-.94L8.5 2.5l-.94 2.06-2.06.94zm10 10l.94 2.06.94-2.06 2.06-.94-2.06-.94-.94-2.06-.94 2.06-2.06.94z\"/><path d=\"M17.41 7.96l-1.37-1.37c-.4-.4-.92-.59-1.43-.59-.52 0-1.04.2-1.43.59L10.3 9.45l-7.72 7.72c-.78.78-.78 2.05 0 2.83L4 21.41c.39.39.9.59 1.41.59.51 0 1.02-.2 1.41-.59l7.78-7.78 2.81-2.81c.8-.78.8-2.07 0-2.86zM5.41 20L4 18.59l7.72-7.72 1.47 1.35L5.41 20z\"/>\n",
              "  </svg>\n",
              "      </button>\n",
              "      \n",
              "  <style>\n",
              "    .colab-df-container {\n",
              "      display:flex;\n",
              "      flex-wrap:wrap;\n",
              "      gap: 12px;\n",
              "    }\n",
              "\n",
              "    .colab-df-convert {\n",
              "      background-color: #E8F0FE;\n",
              "      border: none;\n",
              "      border-radius: 50%;\n",
              "      cursor: pointer;\n",
              "      display: none;\n",
              "      fill: #1967D2;\n",
              "      height: 32px;\n",
              "      padding: 0 0 0 0;\n",
              "      width: 32px;\n",
              "    }\n",
              "\n",
              "    .colab-df-convert:hover {\n",
              "      background-color: #E2EBFA;\n",
              "      box-shadow: 0px 1px 2px rgba(60, 64, 67, 0.3), 0px 1px 3px 1px rgba(60, 64, 67, 0.15);\n",
              "      fill: #174EA6;\n",
              "    }\n",
              "\n",
              "    [theme=dark] .colab-df-convert {\n",
              "      background-color: #3B4455;\n",
              "      fill: #D2E3FC;\n",
              "    }\n",
              "\n",
              "    [theme=dark] .colab-df-convert:hover {\n",
              "      background-color: #434B5C;\n",
              "      box-shadow: 0px 1px 3px 1px rgba(0, 0, 0, 0.15);\n",
              "      filter: drop-shadow(0px 1px 2px rgba(0, 0, 0, 0.3));\n",
              "      fill: #FFFFFF;\n",
              "    }\n",
              "  </style>\n",
              "\n",
              "      <script>\n",
              "        const buttonEl =\n",
              "          document.querySelector('#df-9660042c-d3ed-4e62-b76e-07143256b606 button.colab-df-convert');\n",
              "        buttonEl.style.display =\n",
              "          google.colab.kernel.accessAllowed ? 'block' : 'none';\n",
              "\n",
              "        async function convertToInteractive(key) {\n",
              "          const element = document.querySelector('#df-9660042c-d3ed-4e62-b76e-07143256b606');\n",
              "          const dataTable =\n",
              "            await google.colab.kernel.invokeFunction('convertToInteractive',\n",
              "                                                     [key], {});\n",
              "          if (!dataTable) return;\n",
              "\n",
              "          const docLinkHtml = 'Like what you see? Visit the ' +\n",
              "            '<a target=\"_blank\" href=https://colab.research.google.com/notebooks/data_table.ipynb>data table notebook</a>'\n",
              "            + ' to learn more about interactive tables.';\n",
              "          element.innerHTML = '';\n",
              "          dataTable['output_type'] = 'display_data';\n",
              "          await google.colab.output.renderOutput(dataTable, element);\n",
              "          const docLink = document.createElement('div');\n",
              "          docLink.innerHTML = docLinkHtml;\n",
              "          element.appendChild(docLink);\n",
              "        }\n",
              "      </script>\n",
              "    </div>\n",
              "  </div>\n",
              "  "
            ]
          },
          "metadata": {},
          "execution_count": 37
        }
      ],
      "source": [
        "df[['children', 'debt']].groupby('children').count()"
      ]
    },
    {
      "cell_type": "markdown",
      "metadata": {
        "id": "5NGGkK9YYI9K"
      },
      "source": [
        "Почти две трети заявителей без детей. Подобрать группы будет сложно, так как распределение будет не равным. Для достижения максимально возможной достоверности определим три группы:\n",
        "- `0` - Люди не имеющие детей\n",
        "- `1` - Люди с одним ребёнком в семье\n",
        "- `2` - Люди у которых 2 ребёнка и более\n",
        "Внесём группы в таблицу и посмотрим на распределение."
      ]
    },
    {
      "cell_type": "markdown",
      "metadata": {
        "id": "9LsdidssYI9K"
      },
      "source": [
        "Напишем функцию с обработкой ошибок..."
      ]
    },
    {
      "cell_type": "code",
      "execution_count": 38,
      "metadata": {
        "id": "VEgAzGfzYI9K"
      },
      "outputs": [],
      "source": [
        "def children_group(children):\n",
        "    try:\n",
        "        if children == 0:\n",
        "            return 0\n",
        "        elif children == 1:\n",
        "            return 1\n",
        "        elif children >= 2:\n",
        "            return 2\n",
        "        else:\n",
        "            return 'error'\n",
        "    except:\n",
        "        return 'error'"
      ]
    },
    {
      "cell_type": "markdown",
      "metadata": {
        "id": "lhUfHSY4YI9K"
      },
      "source": [
        "... и применим к стобцу `children`."
      ]
    },
    {
      "cell_type": "code",
      "execution_count": 39,
      "metadata": {
        "id": "DQXC3-aDYI9L"
      },
      "outputs": [],
      "source": [
        "df['children_group'] = df['children'].apply(children_group)"
      ]
    },
    {
      "cell_type": "markdown",
      "metadata": {
        "id": "PptsJR8nYI9L"
      },
      "source": [
        "Посмотрим на новый столбец `children_group` в таблице"
      ]
    },
    {
      "cell_type": "code",
      "execution_count": 40,
      "metadata": {
        "id": "5LiCzWogYI9L",
        "outputId": "8a2ee7f0-7f6a-46a3-99e2-62fd479c5c7d",
        "colab": {
          "base_uri": "https://localhost:8080/",
          "height": 337
        }
      },
      "outputs": [
        {
          "output_type": "execute_result",
          "data": {
            "text/plain": [
              "   children  days_employed  dob_years education  education_id  \\\n",
              "0         1           8437       42.0    высшее             0   \n",
              "1         1           4024       36.0   среднее             1   \n",
              "2         0           5623       33.0   среднее             1   \n",
              "3         3           4124       32.0   среднее             1   \n",
              "4         0          14177       53.0   среднее             1   \n",
              "\n",
              "      family_status  family_status_id gender income_type  debt  total_income  \\\n",
              "0   женат / замужем                 0      F   сотрудник     0        253875   \n",
              "1   женат / замужем                 0      F   сотрудник     0        112080   \n",
              "2   женат / замужем                 0      M   сотрудник     0        145885   \n",
              "3   женат / замужем                 0      M   сотрудник     0        267628   \n",
              "4  гражданский брак                 1      F   пенсионер     0        158616   \n",
              "\n",
              "                      purpose                   purpose_lemmas  \\\n",
              "0               покупка жилья               покупка   жилье \\n   \n",
              "1     приобретение автомобиля     приобретение   автомобиль \\n   \n",
              "2               покупка жилья               покупка   жилье \\n   \n",
              "3  дополнительное образование  дополнительный   образование \\n   \n",
              "4             сыграть свадьбу             сыграть   свадьба \\n   \n",
              "\n",
              "        purpose_group  children_group  \n",
              "0  жилье/недвижимость               1  \n",
              "1          автомобиль               1  \n",
              "2  жилье/недвижимость               0  \n",
              "3         образование               2  \n",
              "4             свадьба               0  "
            ],
            "text/html": [
              "\n",
              "  <div id=\"df-eede9fd2-7241-4a07-b764-4505b962129f\">\n",
              "    <div class=\"colab-df-container\">\n",
              "      <div>\n",
              "<style scoped>\n",
              "    .dataframe tbody tr th:only-of-type {\n",
              "        vertical-align: middle;\n",
              "    }\n",
              "\n",
              "    .dataframe tbody tr th {\n",
              "        vertical-align: top;\n",
              "    }\n",
              "\n",
              "    .dataframe thead th {\n",
              "        text-align: right;\n",
              "    }\n",
              "</style>\n",
              "<table border=\"1\" class=\"dataframe\">\n",
              "  <thead>\n",
              "    <tr style=\"text-align: right;\">\n",
              "      <th></th>\n",
              "      <th>children</th>\n",
              "      <th>days_employed</th>\n",
              "      <th>dob_years</th>\n",
              "      <th>education</th>\n",
              "      <th>education_id</th>\n",
              "      <th>family_status</th>\n",
              "      <th>family_status_id</th>\n",
              "      <th>gender</th>\n",
              "      <th>income_type</th>\n",
              "      <th>debt</th>\n",
              "      <th>total_income</th>\n",
              "      <th>purpose</th>\n",
              "      <th>purpose_lemmas</th>\n",
              "      <th>purpose_group</th>\n",
              "      <th>children_group</th>\n",
              "    </tr>\n",
              "  </thead>\n",
              "  <tbody>\n",
              "    <tr>\n",
              "      <th>0</th>\n",
              "      <td>1</td>\n",
              "      <td>8437</td>\n",
              "      <td>42.0</td>\n",
              "      <td>высшее</td>\n",
              "      <td>0</td>\n",
              "      <td>женат / замужем</td>\n",
              "      <td>0</td>\n",
              "      <td>F</td>\n",
              "      <td>сотрудник</td>\n",
              "      <td>0</td>\n",
              "      <td>253875</td>\n",
              "      <td>покупка жилья</td>\n",
              "      <td>покупка   жилье \\n</td>\n",
              "      <td>жилье/недвижимость</td>\n",
              "      <td>1</td>\n",
              "    </tr>\n",
              "    <tr>\n",
              "      <th>1</th>\n",
              "      <td>1</td>\n",
              "      <td>4024</td>\n",
              "      <td>36.0</td>\n",
              "      <td>среднее</td>\n",
              "      <td>1</td>\n",
              "      <td>женат / замужем</td>\n",
              "      <td>0</td>\n",
              "      <td>F</td>\n",
              "      <td>сотрудник</td>\n",
              "      <td>0</td>\n",
              "      <td>112080</td>\n",
              "      <td>приобретение автомобиля</td>\n",
              "      <td>приобретение   автомобиль \\n</td>\n",
              "      <td>автомобиль</td>\n",
              "      <td>1</td>\n",
              "    </tr>\n",
              "    <tr>\n",
              "      <th>2</th>\n",
              "      <td>0</td>\n",
              "      <td>5623</td>\n",
              "      <td>33.0</td>\n",
              "      <td>среднее</td>\n",
              "      <td>1</td>\n",
              "      <td>женат / замужем</td>\n",
              "      <td>0</td>\n",
              "      <td>M</td>\n",
              "      <td>сотрудник</td>\n",
              "      <td>0</td>\n",
              "      <td>145885</td>\n",
              "      <td>покупка жилья</td>\n",
              "      <td>покупка   жилье \\n</td>\n",
              "      <td>жилье/недвижимость</td>\n",
              "      <td>0</td>\n",
              "    </tr>\n",
              "    <tr>\n",
              "      <th>3</th>\n",
              "      <td>3</td>\n",
              "      <td>4124</td>\n",
              "      <td>32.0</td>\n",
              "      <td>среднее</td>\n",
              "      <td>1</td>\n",
              "      <td>женат / замужем</td>\n",
              "      <td>0</td>\n",
              "      <td>M</td>\n",
              "      <td>сотрудник</td>\n",
              "      <td>0</td>\n",
              "      <td>267628</td>\n",
              "      <td>дополнительное образование</td>\n",
              "      <td>дополнительный   образование \\n</td>\n",
              "      <td>образование</td>\n",
              "      <td>2</td>\n",
              "    </tr>\n",
              "    <tr>\n",
              "      <th>4</th>\n",
              "      <td>0</td>\n",
              "      <td>14177</td>\n",
              "      <td>53.0</td>\n",
              "      <td>среднее</td>\n",
              "      <td>1</td>\n",
              "      <td>гражданский брак</td>\n",
              "      <td>1</td>\n",
              "      <td>F</td>\n",
              "      <td>пенсионер</td>\n",
              "      <td>0</td>\n",
              "      <td>158616</td>\n",
              "      <td>сыграть свадьбу</td>\n",
              "      <td>сыграть   свадьба \\n</td>\n",
              "      <td>свадьба</td>\n",
              "      <td>0</td>\n",
              "    </tr>\n",
              "  </tbody>\n",
              "</table>\n",
              "</div>\n",
              "      <button class=\"colab-df-convert\" onclick=\"convertToInteractive('df-eede9fd2-7241-4a07-b764-4505b962129f')\"\n",
              "              title=\"Convert this dataframe to an interactive table.\"\n",
              "              style=\"display:none;\">\n",
              "        \n",
              "  <svg xmlns=\"http://www.w3.org/2000/svg\" height=\"24px\"viewBox=\"0 0 24 24\"\n",
              "       width=\"24px\">\n",
              "    <path d=\"M0 0h24v24H0V0z\" fill=\"none\"/>\n",
              "    <path d=\"M18.56 5.44l.94 2.06.94-2.06 2.06-.94-2.06-.94-.94-2.06-.94 2.06-2.06.94zm-11 1L8.5 8.5l.94-2.06 2.06-.94-2.06-.94L8.5 2.5l-.94 2.06-2.06.94zm10 10l.94 2.06.94-2.06 2.06-.94-2.06-.94-.94-2.06-.94 2.06-2.06.94z\"/><path d=\"M17.41 7.96l-1.37-1.37c-.4-.4-.92-.59-1.43-.59-.52 0-1.04.2-1.43.59L10.3 9.45l-7.72 7.72c-.78.78-.78 2.05 0 2.83L4 21.41c.39.39.9.59 1.41.59.51 0 1.02-.2 1.41-.59l7.78-7.78 2.81-2.81c.8-.78.8-2.07 0-2.86zM5.41 20L4 18.59l7.72-7.72 1.47 1.35L5.41 20z\"/>\n",
              "  </svg>\n",
              "      </button>\n",
              "      \n",
              "  <style>\n",
              "    .colab-df-container {\n",
              "      display:flex;\n",
              "      flex-wrap:wrap;\n",
              "      gap: 12px;\n",
              "    }\n",
              "\n",
              "    .colab-df-convert {\n",
              "      background-color: #E8F0FE;\n",
              "      border: none;\n",
              "      border-radius: 50%;\n",
              "      cursor: pointer;\n",
              "      display: none;\n",
              "      fill: #1967D2;\n",
              "      height: 32px;\n",
              "      padding: 0 0 0 0;\n",
              "      width: 32px;\n",
              "    }\n",
              "\n",
              "    .colab-df-convert:hover {\n",
              "      background-color: #E2EBFA;\n",
              "      box-shadow: 0px 1px 2px rgba(60, 64, 67, 0.3), 0px 1px 3px 1px rgba(60, 64, 67, 0.15);\n",
              "      fill: #174EA6;\n",
              "    }\n",
              "\n",
              "    [theme=dark] .colab-df-convert {\n",
              "      background-color: #3B4455;\n",
              "      fill: #D2E3FC;\n",
              "    }\n",
              "\n",
              "    [theme=dark] .colab-df-convert:hover {\n",
              "      background-color: #434B5C;\n",
              "      box-shadow: 0px 1px 3px 1px rgba(0, 0, 0, 0.15);\n",
              "      filter: drop-shadow(0px 1px 2px rgba(0, 0, 0, 0.3));\n",
              "      fill: #FFFFFF;\n",
              "    }\n",
              "  </style>\n",
              "\n",
              "      <script>\n",
              "        const buttonEl =\n",
              "          document.querySelector('#df-eede9fd2-7241-4a07-b764-4505b962129f button.colab-df-convert');\n",
              "        buttonEl.style.display =\n",
              "          google.colab.kernel.accessAllowed ? 'block' : 'none';\n",
              "\n",
              "        async function convertToInteractive(key) {\n",
              "          const element = document.querySelector('#df-eede9fd2-7241-4a07-b764-4505b962129f');\n",
              "          const dataTable =\n",
              "            await google.colab.kernel.invokeFunction('convertToInteractive',\n",
              "                                                     [key], {});\n",
              "          if (!dataTable) return;\n",
              "\n",
              "          const docLinkHtml = 'Like what you see? Visit the ' +\n",
              "            '<a target=\"_blank\" href=https://colab.research.google.com/notebooks/data_table.ipynb>data table notebook</a>'\n",
              "            + ' to learn more about interactive tables.';\n",
              "          element.innerHTML = '';\n",
              "          dataTable['output_type'] = 'display_data';\n",
              "          await google.colab.output.renderOutput(dataTable, element);\n",
              "          const docLink = document.createElement('div');\n",
              "          docLink.innerHTML = docLinkHtml;\n",
              "          element.appendChild(docLink);\n",
              "        }\n",
              "      </script>\n",
              "    </div>\n",
              "  </div>\n",
              "  "
            ]
          },
          "metadata": {},
          "execution_count": 40
        }
      ],
      "source": [
        "df.head()"
      ]
    },
    {
      "cell_type": "markdown",
      "metadata": {
        "id": "TLTMmxhdYI9L"
      },
      "source": [
        "Выведем на экран распределение по группам"
      ]
    },
    {
      "cell_type": "code",
      "execution_count": 41,
      "metadata": {
        "id": "oYo_FwPcYI9L",
        "outputId": "e962bad3-e1fd-4f7f-a0b1-4a9dee7db8a3",
        "colab": {
          "base_uri": "https://localhost:8080/"
        }
      },
      "outputs": [
        {
          "output_type": "execute_result",
          "data": {
            "text/plain": [
              "0    14091\n",
              "1     4855\n",
              "2     2508\n",
              "Name: children_group, dtype: int64"
            ]
          },
          "metadata": {},
          "execution_count": 41
        }
      ],
      "source": [
        "df['children_group'].value_counts()"
      ]
    },
    {
      "cell_type": "markdown",
      "metadata": {
        "id": "Fo1C1oUeYI9L"
      },
      "source": [
        "Распределение далеко не идеальное. Меньшее значение из трёх групп составляет почти что одну пятую от значения самой большой. Выводы, полученные с помощью такой группировки будут вызывать сомнения."
      ]
    },
    {
      "cell_type": "markdown",
      "metadata": {
        "id": "lZnEZmkRYI9L"
      },
      "source": [
        "#### Деньги"
      ]
    },
    {
      "cell_type": "markdown",
      "metadata": {
        "id": "4h2oi2ynYI9L"
      },
      "source": [
        "Разобьём доходы на 5 групп методом `pd.qcut()`, для этого создадим колонку `income_group_raw`"
      ]
    },
    {
      "cell_type": "code",
      "execution_count": 42,
      "metadata": {
        "id": "4RtL_vg8YI9L"
      },
      "outputs": [],
      "source": [
        "df['income_group_raw'] = pd.qcut(df['total_income'],5,duplicates='drop')"
      ]
    },
    {
      "cell_type": "markdown",
      "metadata": {
        "id": "CdPmtI-sYI9L"
      },
      "source": [
        "Посмотрим на результат."
      ]
    },
    {
      "cell_type": "code",
      "execution_count": 43,
      "metadata": {
        "id": "yESIUJE3YI9L",
        "outputId": "178a290b-04e9-4675-a4a0-5ea94ad8d38d",
        "colab": {
          "base_uri": "https://localhost:8080/",
          "height": 238
        }
      },
      "outputs": [
        {
          "output_type": "execute_result",
          "data": {
            "text/plain": [
              "                       count\n",
              "income_group_raw            \n",
              "(20666.999, 98537.6]    4291\n",
              "(98537.6, 132134.4]     4291\n",
              "(132134.4, 161335.0]    4290\n",
              "(161335.0, 214618.2]    4291\n",
              "(214618.2, 2265604.0]   4291"
            ],
            "text/html": [
              "\n",
              "  <div id=\"df-278cd022-2b57-4c2a-a7e1-50818da7fdf2\">\n",
              "    <div class=\"colab-df-container\">\n",
              "      <div>\n",
              "<style scoped>\n",
              "    .dataframe tbody tr th:only-of-type {\n",
              "        vertical-align: middle;\n",
              "    }\n",
              "\n",
              "    .dataframe tbody tr th {\n",
              "        vertical-align: top;\n",
              "    }\n",
              "\n",
              "    .dataframe thead th {\n",
              "        text-align: right;\n",
              "    }\n",
              "</style>\n",
              "<table border=\"1\" class=\"dataframe\">\n",
              "  <thead>\n",
              "    <tr style=\"text-align: right;\">\n",
              "      <th></th>\n",
              "      <th>count</th>\n",
              "    </tr>\n",
              "    <tr>\n",
              "      <th>income_group_raw</th>\n",
              "      <th></th>\n",
              "    </tr>\n",
              "  </thead>\n",
              "  <tbody>\n",
              "    <tr>\n",
              "      <th>(20666.999, 98537.6]</th>\n",
              "      <td>4291</td>\n",
              "    </tr>\n",
              "    <tr>\n",
              "      <th>(98537.6, 132134.4]</th>\n",
              "      <td>4291</td>\n",
              "    </tr>\n",
              "    <tr>\n",
              "      <th>(132134.4, 161335.0]</th>\n",
              "      <td>4290</td>\n",
              "    </tr>\n",
              "    <tr>\n",
              "      <th>(161335.0, 214618.2]</th>\n",
              "      <td>4291</td>\n",
              "    </tr>\n",
              "    <tr>\n",
              "      <th>(214618.2, 2265604.0]</th>\n",
              "      <td>4291</td>\n",
              "    </tr>\n",
              "  </tbody>\n",
              "</table>\n",
              "</div>\n",
              "      <button class=\"colab-df-convert\" onclick=\"convertToInteractive('df-278cd022-2b57-4c2a-a7e1-50818da7fdf2')\"\n",
              "              title=\"Convert this dataframe to an interactive table.\"\n",
              "              style=\"display:none;\">\n",
              "        \n",
              "  <svg xmlns=\"http://www.w3.org/2000/svg\" height=\"24px\"viewBox=\"0 0 24 24\"\n",
              "       width=\"24px\">\n",
              "    <path d=\"M0 0h24v24H0V0z\" fill=\"none\"/>\n",
              "    <path d=\"M18.56 5.44l.94 2.06.94-2.06 2.06-.94-2.06-.94-.94-2.06-.94 2.06-2.06.94zm-11 1L8.5 8.5l.94-2.06 2.06-.94-2.06-.94L8.5 2.5l-.94 2.06-2.06.94zm10 10l.94 2.06.94-2.06 2.06-.94-2.06-.94-.94-2.06-.94 2.06-2.06.94z\"/><path d=\"M17.41 7.96l-1.37-1.37c-.4-.4-.92-.59-1.43-.59-.52 0-1.04.2-1.43.59L10.3 9.45l-7.72 7.72c-.78.78-.78 2.05 0 2.83L4 21.41c.39.39.9.59 1.41.59.51 0 1.02-.2 1.41-.59l7.78-7.78 2.81-2.81c.8-.78.8-2.07 0-2.86zM5.41 20L4 18.59l7.72-7.72 1.47 1.35L5.41 20z\"/>\n",
              "  </svg>\n",
              "      </button>\n",
              "      \n",
              "  <style>\n",
              "    .colab-df-container {\n",
              "      display:flex;\n",
              "      flex-wrap:wrap;\n",
              "      gap: 12px;\n",
              "    }\n",
              "\n",
              "    .colab-df-convert {\n",
              "      background-color: #E8F0FE;\n",
              "      border: none;\n",
              "      border-radius: 50%;\n",
              "      cursor: pointer;\n",
              "      display: none;\n",
              "      fill: #1967D2;\n",
              "      height: 32px;\n",
              "      padding: 0 0 0 0;\n",
              "      width: 32px;\n",
              "    }\n",
              "\n",
              "    .colab-df-convert:hover {\n",
              "      background-color: #E2EBFA;\n",
              "      box-shadow: 0px 1px 2px rgba(60, 64, 67, 0.3), 0px 1px 3px 1px rgba(60, 64, 67, 0.15);\n",
              "      fill: #174EA6;\n",
              "    }\n",
              "\n",
              "    [theme=dark] .colab-df-convert {\n",
              "      background-color: #3B4455;\n",
              "      fill: #D2E3FC;\n",
              "    }\n",
              "\n",
              "    [theme=dark] .colab-df-convert:hover {\n",
              "      background-color: #434B5C;\n",
              "      box-shadow: 0px 1px 3px 1px rgba(0, 0, 0, 0.15);\n",
              "      filter: drop-shadow(0px 1px 2px rgba(0, 0, 0, 0.3));\n",
              "      fill: #FFFFFF;\n",
              "    }\n",
              "  </style>\n",
              "\n",
              "      <script>\n",
              "        const buttonEl =\n",
              "          document.querySelector('#df-278cd022-2b57-4c2a-a7e1-50818da7fdf2 button.colab-df-convert');\n",
              "        buttonEl.style.display =\n",
              "          google.colab.kernel.accessAllowed ? 'block' : 'none';\n",
              "\n",
              "        async function convertToInteractive(key) {\n",
              "          const element = document.querySelector('#df-278cd022-2b57-4c2a-a7e1-50818da7fdf2');\n",
              "          const dataTable =\n",
              "            await google.colab.kernel.invokeFunction('convertToInteractive',\n",
              "                                                     [key], {});\n",
              "          if (!dataTable) return;\n",
              "\n",
              "          const docLinkHtml = 'Like what you see? Visit the ' +\n",
              "            '<a target=\"_blank\" href=https://colab.research.google.com/notebooks/data_table.ipynb>data table notebook</a>'\n",
              "            + ' to learn more about interactive tables.';\n",
              "          element.innerHTML = '';\n",
              "          dataTable['output_type'] = 'display_data';\n",
              "          await google.colab.output.renderOutput(dataTable, element);\n",
              "          const docLink = document.createElement('div');\n",
              "          docLink.innerHTML = docLinkHtml;\n",
              "          element.appendChild(docLink);\n",
              "        }\n",
              "      </script>\n",
              "    </div>\n",
              "  </div>\n",
              "  "
            ]
          },
          "metadata": {},
          "execution_count": 43
        }
      ],
      "source": [
        "df.groupby('income_group_raw')['debt'].agg(['count']).sort_values(by='income_group_raw')"
      ]
    },
    {
      "cell_type": "markdown",
      "metadata": {
        "id": "ei5XB_XQYI9L"
      },
      "source": [
        "`qcut` справился и разбил нам столбец `total_income` на 5 почти идеально равных столбцов. Смущают сами интервалы, попробуем выровнять. Посмотрим на распределение на интервалах: `0`: `20000 - 100000`,`1`: `100000 - 140000`,`2`: `140000 -160000`,`3`: `160000 - 220000`,`4`: `220000 - 2300000`. Для этого создадим функцию с обработкой ошибок и пременим её к столбцу `total_income`, а данные сохраним в столбец `income_group`."
      ]
    },
    {
      "cell_type": "code",
      "execution_count": 44,
      "metadata": {
        "id": "U3imuFCBYI9L"
      },
      "outputs": [],
      "source": [
        "def income_group(income):\n",
        "    try:\n",
        "        if 20000 < income <= 100000:\n",
        "            return 0\n",
        "        elif 100000 < income <= 140000:\n",
        "            return 1\n",
        "        elif 140000 < income <= 160000:\n",
        "            return 2\n",
        "        elif 160000 < income <= 220000:\n",
        "            return 3\n",
        "        elif 220000 < income <= 2300000:\n",
        "            return 4    \n",
        "        else:\n",
        "            return 'error'\n",
        "    except:\n",
        "        return 'error'"
      ]
    },
    {
      "cell_type": "code",
      "execution_count": 45,
      "metadata": {
        "id": "h3MBtf0iYI9L"
      },
      "outputs": [],
      "source": [
        "df['income_group'] = df['total_income'].apply(income_group)"
      ]
    },
    {
      "cell_type": "code",
      "execution_count": 46,
      "metadata": {
        "id": "QV0KEMqwYI9L",
        "outputId": "ef9832ee-d6fe-4c6a-e9b3-bd819371f1d6",
        "colab": {
          "base_uri": "https://localhost:8080/",
          "height": 238
        }
      },
      "outputs": [
        {
          "output_type": "execute_result",
          "data": {
            "text/plain": [
              "              count\n",
              "income_group       \n",
              "0              4463\n",
              "1              5028\n",
              "2              3243\n",
              "3              4712\n",
              "4              4008"
            ],
            "text/html": [
              "\n",
              "  <div id=\"df-55470079-48c3-4353-a2fb-72981205c668\">\n",
              "    <div class=\"colab-df-container\">\n",
              "      <div>\n",
              "<style scoped>\n",
              "    .dataframe tbody tr th:only-of-type {\n",
              "        vertical-align: middle;\n",
              "    }\n",
              "\n",
              "    .dataframe tbody tr th {\n",
              "        vertical-align: top;\n",
              "    }\n",
              "\n",
              "    .dataframe thead th {\n",
              "        text-align: right;\n",
              "    }\n",
              "</style>\n",
              "<table border=\"1\" class=\"dataframe\">\n",
              "  <thead>\n",
              "    <tr style=\"text-align: right;\">\n",
              "      <th></th>\n",
              "      <th>count</th>\n",
              "    </tr>\n",
              "    <tr>\n",
              "      <th>income_group</th>\n",
              "      <th></th>\n",
              "    </tr>\n",
              "  </thead>\n",
              "  <tbody>\n",
              "    <tr>\n",
              "      <th>0</th>\n",
              "      <td>4463</td>\n",
              "    </tr>\n",
              "    <tr>\n",
              "      <th>1</th>\n",
              "      <td>5028</td>\n",
              "    </tr>\n",
              "    <tr>\n",
              "      <th>2</th>\n",
              "      <td>3243</td>\n",
              "    </tr>\n",
              "    <tr>\n",
              "      <th>3</th>\n",
              "      <td>4712</td>\n",
              "    </tr>\n",
              "    <tr>\n",
              "      <th>4</th>\n",
              "      <td>4008</td>\n",
              "    </tr>\n",
              "  </tbody>\n",
              "</table>\n",
              "</div>\n",
              "      <button class=\"colab-df-convert\" onclick=\"convertToInteractive('df-55470079-48c3-4353-a2fb-72981205c668')\"\n",
              "              title=\"Convert this dataframe to an interactive table.\"\n",
              "              style=\"display:none;\">\n",
              "        \n",
              "  <svg xmlns=\"http://www.w3.org/2000/svg\" height=\"24px\"viewBox=\"0 0 24 24\"\n",
              "       width=\"24px\">\n",
              "    <path d=\"M0 0h24v24H0V0z\" fill=\"none\"/>\n",
              "    <path d=\"M18.56 5.44l.94 2.06.94-2.06 2.06-.94-2.06-.94-.94-2.06-.94 2.06-2.06.94zm-11 1L8.5 8.5l.94-2.06 2.06-.94-2.06-.94L8.5 2.5l-.94 2.06-2.06.94zm10 10l.94 2.06.94-2.06 2.06-.94-2.06-.94-.94-2.06-.94 2.06-2.06.94z\"/><path d=\"M17.41 7.96l-1.37-1.37c-.4-.4-.92-.59-1.43-.59-.52 0-1.04.2-1.43.59L10.3 9.45l-7.72 7.72c-.78.78-.78 2.05 0 2.83L4 21.41c.39.39.9.59 1.41.59.51 0 1.02-.2 1.41-.59l7.78-7.78 2.81-2.81c.8-.78.8-2.07 0-2.86zM5.41 20L4 18.59l7.72-7.72 1.47 1.35L5.41 20z\"/>\n",
              "  </svg>\n",
              "      </button>\n",
              "      \n",
              "  <style>\n",
              "    .colab-df-container {\n",
              "      display:flex;\n",
              "      flex-wrap:wrap;\n",
              "      gap: 12px;\n",
              "    }\n",
              "\n",
              "    .colab-df-convert {\n",
              "      background-color: #E8F0FE;\n",
              "      border: none;\n",
              "      border-radius: 50%;\n",
              "      cursor: pointer;\n",
              "      display: none;\n",
              "      fill: #1967D2;\n",
              "      height: 32px;\n",
              "      padding: 0 0 0 0;\n",
              "      width: 32px;\n",
              "    }\n",
              "\n",
              "    .colab-df-convert:hover {\n",
              "      background-color: #E2EBFA;\n",
              "      box-shadow: 0px 1px 2px rgba(60, 64, 67, 0.3), 0px 1px 3px 1px rgba(60, 64, 67, 0.15);\n",
              "      fill: #174EA6;\n",
              "    }\n",
              "\n",
              "    [theme=dark] .colab-df-convert {\n",
              "      background-color: #3B4455;\n",
              "      fill: #D2E3FC;\n",
              "    }\n",
              "\n",
              "    [theme=dark] .colab-df-convert:hover {\n",
              "      background-color: #434B5C;\n",
              "      box-shadow: 0px 1px 3px 1px rgba(0, 0, 0, 0.15);\n",
              "      filter: drop-shadow(0px 1px 2px rgba(0, 0, 0, 0.3));\n",
              "      fill: #FFFFFF;\n",
              "    }\n",
              "  </style>\n",
              "\n",
              "      <script>\n",
              "        const buttonEl =\n",
              "          document.querySelector('#df-55470079-48c3-4353-a2fb-72981205c668 button.colab-df-convert');\n",
              "        buttonEl.style.display =\n",
              "          google.colab.kernel.accessAllowed ? 'block' : 'none';\n",
              "\n",
              "        async function convertToInteractive(key) {\n",
              "          const element = document.querySelector('#df-55470079-48c3-4353-a2fb-72981205c668');\n",
              "          const dataTable =\n",
              "            await google.colab.kernel.invokeFunction('convertToInteractive',\n",
              "                                                     [key], {});\n",
              "          if (!dataTable) return;\n",
              "\n",
              "          const docLinkHtml = 'Like what you see? Visit the ' +\n",
              "            '<a target=\"_blank\" href=https://colab.research.google.com/notebooks/data_table.ipynb>data table notebook</a>'\n",
              "            + ' to learn more about interactive tables.';\n",
              "          element.innerHTML = '';\n",
              "          dataTable['output_type'] = 'display_data';\n",
              "          await google.colab.output.renderOutput(dataTable, element);\n",
              "          const docLink = document.createElement('div');\n",
              "          docLink.innerHTML = docLinkHtml;\n",
              "          element.appendChild(docLink);\n",
              "        }\n",
              "      </script>\n",
              "    </div>\n",
              "  </div>\n",
              "  "
            ]
          },
          "metadata": {},
          "execution_count": 46
        }
      ],
      "source": [
        "df.groupby('income_group')['debt'].agg(['count']).sort_values(by='income_group')"
      ]
    },
    {
      "cell_type": "markdown",
      "metadata": {
        "id": "93G68wSXYI9L"
      },
      "source": [
        "Восхитительно! Отличия в количестве заявителей не критичны, а сами интервалы красивые и без долей."
      ]
    },
    {
      "cell_type": "markdown",
      "metadata": {
        "id": "S9qE2bAVYI9L"
      },
      "source": [
        "Мы провели категоризацию для детей, денег и целей получения кредита. Процент должников в зависимости от семейного положения мы получим и так, ведь данные уже категоризированы. Можно приступать к финальным вычеслениям и выводам."
      ]
    },
    {
      "cell_type": "markdown",
      "metadata": {
        "id": "KO8rS-q-YI9M"
      },
      "source": [
        "## Анализ"
      ]
    },
    {
      "cell_type": "markdown",
      "metadata": {
        "id": "Yulmw_dyYI9M"
      },
      "source": [
        "Для помощи в интерпретации полученных метрик мы введём переменную `total_debt` отражающую средний процент должников среди всех заявителей."
      ]
    },
    {
      "cell_type": "code",
      "execution_count": 47,
      "metadata": {
        "id": "dZWiqsd5YI9M"
      },
      "outputs": [],
      "source": [
        "total_debt = df['debt'].mean()"
      ]
    },
    {
      "cell_type": "markdown",
      "metadata": {
        "id": "d-IXI1d9YI9M"
      },
      "source": [
        "Также выведем первые 5 строк финальной таблицы."
      ]
    },
    {
      "cell_type": "code",
      "execution_count": 48,
      "metadata": {
        "id": "NMjIOSXmYI9M",
        "outputId": "2a3731e6-d974-43a5-fe86-fcb983928394",
        "colab": {
          "base_uri": "https://localhost:8080/",
          "height": 357
        }
      },
      "outputs": [
        {
          "output_type": "execute_result",
          "data": {
            "text/plain": [
              "   children  days_employed  dob_years education  education_id  \\\n",
              "0         1           8437       42.0    высшее             0   \n",
              "1         1           4024       36.0   среднее             1   \n",
              "2         0           5623       33.0   среднее             1   \n",
              "3         3           4124       32.0   среднее             1   \n",
              "4         0          14177       53.0   среднее             1   \n",
              "\n",
              "      family_status  family_status_id gender income_type  debt  total_income  \\\n",
              "0   женат / замужем                 0      F   сотрудник     0        253875   \n",
              "1   женат / замужем                 0      F   сотрудник     0        112080   \n",
              "2   женат / замужем                 0      M   сотрудник     0        145885   \n",
              "3   женат / замужем                 0      M   сотрудник     0        267628   \n",
              "4  гражданский брак                 1      F   пенсионер     0        158616   \n",
              "\n",
              "                      purpose                   purpose_lemmas  \\\n",
              "0               покупка жилья               покупка   жилье \\n   \n",
              "1     приобретение автомобиля     приобретение   автомобиль \\n   \n",
              "2               покупка жилья               покупка   жилье \\n   \n",
              "3  дополнительное образование  дополнительный   образование \\n   \n",
              "4             сыграть свадьбу             сыграть   свадьба \\n   \n",
              "\n",
              "        purpose_group  children_group       income_group_raw  income_group  \n",
              "0  жилье/недвижимость               1  (214618.2, 2265604.0]             4  \n",
              "1          автомобиль               1    (98537.6, 132134.4]             1  \n",
              "2  жилье/недвижимость               0   (132134.4, 161335.0]             2  \n",
              "3         образование               2  (214618.2, 2265604.0]             4  \n",
              "4             свадьба               0   (132134.4, 161335.0]             2  "
            ],
            "text/html": [
              "\n",
              "  <div id=\"df-9254c5c9-3eae-4ba7-bf1d-b64d0fbc8363\">\n",
              "    <div class=\"colab-df-container\">\n",
              "      <div>\n",
              "<style scoped>\n",
              "    .dataframe tbody tr th:only-of-type {\n",
              "        vertical-align: middle;\n",
              "    }\n",
              "\n",
              "    .dataframe tbody tr th {\n",
              "        vertical-align: top;\n",
              "    }\n",
              "\n",
              "    .dataframe thead th {\n",
              "        text-align: right;\n",
              "    }\n",
              "</style>\n",
              "<table border=\"1\" class=\"dataframe\">\n",
              "  <thead>\n",
              "    <tr style=\"text-align: right;\">\n",
              "      <th></th>\n",
              "      <th>children</th>\n",
              "      <th>days_employed</th>\n",
              "      <th>dob_years</th>\n",
              "      <th>education</th>\n",
              "      <th>education_id</th>\n",
              "      <th>family_status</th>\n",
              "      <th>family_status_id</th>\n",
              "      <th>gender</th>\n",
              "      <th>income_type</th>\n",
              "      <th>debt</th>\n",
              "      <th>total_income</th>\n",
              "      <th>purpose</th>\n",
              "      <th>purpose_lemmas</th>\n",
              "      <th>purpose_group</th>\n",
              "      <th>children_group</th>\n",
              "      <th>income_group_raw</th>\n",
              "      <th>income_group</th>\n",
              "    </tr>\n",
              "  </thead>\n",
              "  <tbody>\n",
              "    <tr>\n",
              "      <th>0</th>\n",
              "      <td>1</td>\n",
              "      <td>8437</td>\n",
              "      <td>42.0</td>\n",
              "      <td>высшее</td>\n",
              "      <td>0</td>\n",
              "      <td>женат / замужем</td>\n",
              "      <td>0</td>\n",
              "      <td>F</td>\n",
              "      <td>сотрудник</td>\n",
              "      <td>0</td>\n",
              "      <td>253875</td>\n",
              "      <td>покупка жилья</td>\n",
              "      <td>покупка   жилье \\n</td>\n",
              "      <td>жилье/недвижимость</td>\n",
              "      <td>1</td>\n",
              "      <td>(214618.2, 2265604.0]</td>\n",
              "      <td>4</td>\n",
              "    </tr>\n",
              "    <tr>\n",
              "      <th>1</th>\n",
              "      <td>1</td>\n",
              "      <td>4024</td>\n",
              "      <td>36.0</td>\n",
              "      <td>среднее</td>\n",
              "      <td>1</td>\n",
              "      <td>женат / замужем</td>\n",
              "      <td>0</td>\n",
              "      <td>F</td>\n",
              "      <td>сотрудник</td>\n",
              "      <td>0</td>\n",
              "      <td>112080</td>\n",
              "      <td>приобретение автомобиля</td>\n",
              "      <td>приобретение   автомобиль \\n</td>\n",
              "      <td>автомобиль</td>\n",
              "      <td>1</td>\n",
              "      <td>(98537.6, 132134.4]</td>\n",
              "      <td>1</td>\n",
              "    </tr>\n",
              "    <tr>\n",
              "      <th>2</th>\n",
              "      <td>0</td>\n",
              "      <td>5623</td>\n",
              "      <td>33.0</td>\n",
              "      <td>среднее</td>\n",
              "      <td>1</td>\n",
              "      <td>женат / замужем</td>\n",
              "      <td>0</td>\n",
              "      <td>M</td>\n",
              "      <td>сотрудник</td>\n",
              "      <td>0</td>\n",
              "      <td>145885</td>\n",
              "      <td>покупка жилья</td>\n",
              "      <td>покупка   жилье \\n</td>\n",
              "      <td>жилье/недвижимость</td>\n",
              "      <td>0</td>\n",
              "      <td>(132134.4, 161335.0]</td>\n",
              "      <td>2</td>\n",
              "    </tr>\n",
              "    <tr>\n",
              "      <th>3</th>\n",
              "      <td>3</td>\n",
              "      <td>4124</td>\n",
              "      <td>32.0</td>\n",
              "      <td>среднее</td>\n",
              "      <td>1</td>\n",
              "      <td>женат / замужем</td>\n",
              "      <td>0</td>\n",
              "      <td>M</td>\n",
              "      <td>сотрудник</td>\n",
              "      <td>0</td>\n",
              "      <td>267628</td>\n",
              "      <td>дополнительное образование</td>\n",
              "      <td>дополнительный   образование \\n</td>\n",
              "      <td>образование</td>\n",
              "      <td>2</td>\n",
              "      <td>(214618.2, 2265604.0]</td>\n",
              "      <td>4</td>\n",
              "    </tr>\n",
              "    <tr>\n",
              "      <th>4</th>\n",
              "      <td>0</td>\n",
              "      <td>14177</td>\n",
              "      <td>53.0</td>\n",
              "      <td>среднее</td>\n",
              "      <td>1</td>\n",
              "      <td>гражданский брак</td>\n",
              "      <td>1</td>\n",
              "      <td>F</td>\n",
              "      <td>пенсионер</td>\n",
              "      <td>0</td>\n",
              "      <td>158616</td>\n",
              "      <td>сыграть свадьбу</td>\n",
              "      <td>сыграть   свадьба \\n</td>\n",
              "      <td>свадьба</td>\n",
              "      <td>0</td>\n",
              "      <td>(132134.4, 161335.0]</td>\n",
              "      <td>2</td>\n",
              "    </tr>\n",
              "  </tbody>\n",
              "</table>\n",
              "</div>\n",
              "      <button class=\"colab-df-convert\" onclick=\"convertToInteractive('df-9254c5c9-3eae-4ba7-bf1d-b64d0fbc8363')\"\n",
              "              title=\"Convert this dataframe to an interactive table.\"\n",
              "              style=\"display:none;\">\n",
              "        \n",
              "  <svg xmlns=\"http://www.w3.org/2000/svg\" height=\"24px\"viewBox=\"0 0 24 24\"\n",
              "       width=\"24px\">\n",
              "    <path d=\"M0 0h24v24H0V0z\" fill=\"none\"/>\n",
              "    <path d=\"M18.56 5.44l.94 2.06.94-2.06 2.06-.94-2.06-.94-.94-2.06-.94 2.06-2.06.94zm-11 1L8.5 8.5l.94-2.06 2.06-.94-2.06-.94L8.5 2.5l-.94 2.06-2.06.94zm10 10l.94 2.06.94-2.06 2.06-.94-2.06-.94-.94-2.06-.94 2.06-2.06.94z\"/><path d=\"M17.41 7.96l-1.37-1.37c-.4-.4-.92-.59-1.43-.59-.52 0-1.04.2-1.43.59L10.3 9.45l-7.72 7.72c-.78.78-.78 2.05 0 2.83L4 21.41c.39.39.9.59 1.41.59.51 0 1.02-.2 1.41-.59l7.78-7.78 2.81-2.81c.8-.78.8-2.07 0-2.86zM5.41 20L4 18.59l7.72-7.72 1.47 1.35L5.41 20z\"/>\n",
              "  </svg>\n",
              "      </button>\n",
              "      \n",
              "  <style>\n",
              "    .colab-df-container {\n",
              "      display:flex;\n",
              "      flex-wrap:wrap;\n",
              "      gap: 12px;\n",
              "    }\n",
              "\n",
              "    .colab-df-convert {\n",
              "      background-color: #E8F0FE;\n",
              "      border: none;\n",
              "      border-radius: 50%;\n",
              "      cursor: pointer;\n",
              "      display: none;\n",
              "      fill: #1967D2;\n",
              "      height: 32px;\n",
              "      padding: 0 0 0 0;\n",
              "      width: 32px;\n",
              "    }\n",
              "\n",
              "    .colab-df-convert:hover {\n",
              "      background-color: #E2EBFA;\n",
              "      box-shadow: 0px 1px 2px rgba(60, 64, 67, 0.3), 0px 1px 3px 1px rgba(60, 64, 67, 0.15);\n",
              "      fill: #174EA6;\n",
              "    }\n",
              "\n",
              "    [theme=dark] .colab-df-convert {\n",
              "      background-color: #3B4455;\n",
              "      fill: #D2E3FC;\n",
              "    }\n",
              "\n",
              "    [theme=dark] .colab-df-convert:hover {\n",
              "      background-color: #434B5C;\n",
              "      box-shadow: 0px 1px 3px 1px rgba(0, 0, 0, 0.15);\n",
              "      filter: drop-shadow(0px 1px 2px rgba(0, 0, 0, 0.3));\n",
              "      fill: #FFFFFF;\n",
              "    }\n",
              "  </style>\n",
              "\n",
              "      <script>\n",
              "        const buttonEl =\n",
              "          document.querySelector('#df-9254c5c9-3eae-4ba7-bf1d-b64d0fbc8363 button.colab-df-convert');\n",
              "        buttonEl.style.display =\n",
              "          google.colab.kernel.accessAllowed ? 'block' : 'none';\n",
              "\n",
              "        async function convertToInteractive(key) {\n",
              "          const element = document.querySelector('#df-9254c5c9-3eae-4ba7-bf1d-b64d0fbc8363');\n",
              "          const dataTable =\n",
              "            await google.colab.kernel.invokeFunction('convertToInteractive',\n",
              "                                                     [key], {});\n",
              "          if (!dataTable) return;\n",
              "\n",
              "          const docLinkHtml = 'Like what you see? Visit the ' +\n",
              "            '<a target=\"_blank\" href=https://colab.research.google.com/notebooks/data_table.ipynb>data table notebook</a>'\n",
              "            + ' to learn more about interactive tables.';\n",
              "          element.innerHTML = '';\n",
              "          dataTable['output_type'] = 'display_data';\n",
              "          await google.colab.output.renderOutput(dataTable, element);\n",
              "          const docLink = document.createElement('div');\n",
              "          docLink.innerHTML = docLinkHtml;\n",
              "          element.appendChild(docLink);\n",
              "        }\n",
              "      </script>\n",
              "    </div>\n",
              "  </div>\n",
              "  "
            ]
          },
          "metadata": {},
          "execution_count": 48
        }
      ],
      "source": [
        "df.head()"
      ]
    },
    {
      "cell_type": "markdown",
      "metadata": {
        "id": "KGGvea_1YI9M"
      },
      "source": [
        "### Зависимость между наличием детей и возвратом кредита в срок"
      ]
    },
    {
      "cell_type": "markdown",
      "metadata": {
        "id": "tsfZWUmnYI9M"
      },
      "source": [
        "Выведем процент должников в каждой из категорий.\n",
        "Легенда:\n",
        "- `0` - Люди не имеющие детей\n",
        "- `1` - Люди с одним ребёнком в семье\n",
        "- `2` - Люди у которых 2 ребёнка и более"
      ]
    },
    {
      "cell_type": "code",
      "execution_count": 49,
      "metadata": {
        "id": "_6bmkhDHYI9M",
        "outputId": "23421bfa-81b4-4d0e-e200-b116c1cbc460",
        "colab": {
          "base_uri": "https://localhost:8080/",
          "height": 175
        }
      },
      "outputs": [
        {
          "output_type": "execute_result",
          "data": {
            "text/plain": [
              "                    mean\n",
              "children_group          \n",
              "0               0.075438\n",
              "1               0.091658\n",
              "2               0.092903"
            ],
            "text/html": [
              "\n",
              "  <div id=\"df-26d4d6cb-6ccd-4a6a-a126-ee55f442e138\">\n",
              "    <div class=\"colab-df-container\">\n",
              "      <div>\n",
              "<style scoped>\n",
              "    .dataframe tbody tr th:only-of-type {\n",
              "        vertical-align: middle;\n",
              "    }\n",
              "\n",
              "    .dataframe tbody tr th {\n",
              "        vertical-align: top;\n",
              "    }\n",
              "\n",
              "    .dataframe thead th {\n",
              "        text-align: right;\n",
              "    }\n",
              "</style>\n",
              "<table border=\"1\" class=\"dataframe\">\n",
              "  <thead>\n",
              "    <tr style=\"text-align: right;\">\n",
              "      <th></th>\n",
              "      <th>mean</th>\n",
              "    </tr>\n",
              "    <tr>\n",
              "      <th>children_group</th>\n",
              "      <th></th>\n",
              "    </tr>\n",
              "  </thead>\n",
              "  <tbody>\n",
              "    <tr>\n",
              "      <th>0</th>\n",
              "      <td>0.075438</td>\n",
              "    </tr>\n",
              "    <tr>\n",
              "      <th>1</th>\n",
              "      <td>0.091658</td>\n",
              "    </tr>\n",
              "    <tr>\n",
              "      <th>2</th>\n",
              "      <td>0.092903</td>\n",
              "    </tr>\n",
              "  </tbody>\n",
              "</table>\n",
              "</div>\n",
              "      <button class=\"colab-df-convert\" onclick=\"convertToInteractive('df-26d4d6cb-6ccd-4a6a-a126-ee55f442e138')\"\n",
              "              title=\"Convert this dataframe to an interactive table.\"\n",
              "              style=\"display:none;\">\n",
              "        \n",
              "  <svg xmlns=\"http://www.w3.org/2000/svg\" height=\"24px\"viewBox=\"0 0 24 24\"\n",
              "       width=\"24px\">\n",
              "    <path d=\"M0 0h24v24H0V0z\" fill=\"none\"/>\n",
              "    <path d=\"M18.56 5.44l.94 2.06.94-2.06 2.06-.94-2.06-.94-.94-2.06-.94 2.06-2.06.94zm-11 1L8.5 8.5l.94-2.06 2.06-.94-2.06-.94L8.5 2.5l-.94 2.06-2.06.94zm10 10l.94 2.06.94-2.06 2.06-.94-2.06-.94-.94-2.06-.94 2.06-2.06.94z\"/><path d=\"M17.41 7.96l-1.37-1.37c-.4-.4-.92-.59-1.43-.59-.52 0-1.04.2-1.43.59L10.3 9.45l-7.72 7.72c-.78.78-.78 2.05 0 2.83L4 21.41c.39.39.9.59 1.41.59.51 0 1.02-.2 1.41-.59l7.78-7.78 2.81-2.81c.8-.78.8-2.07 0-2.86zM5.41 20L4 18.59l7.72-7.72 1.47 1.35L5.41 20z\"/>\n",
              "  </svg>\n",
              "      </button>\n",
              "      \n",
              "  <style>\n",
              "    .colab-df-container {\n",
              "      display:flex;\n",
              "      flex-wrap:wrap;\n",
              "      gap: 12px;\n",
              "    }\n",
              "\n",
              "    .colab-df-convert {\n",
              "      background-color: #E8F0FE;\n",
              "      border: none;\n",
              "      border-radius: 50%;\n",
              "      cursor: pointer;\n",
              "      display: none;\n",
              "      fill: #1967D2;\n",
              "      height: 32px;\n",
              "      padding: 0 0 0 0;\n",
              "      width: 32px;\n",
              "    }\n",
              "\n",
              "    .colab-df-convert:hover {\n",
              "      background-color: #E2EBFA;\n",
              "      box-shadow: 0px 1px 2px rgba(60, 64, 67, 0.3), 0px 1px 3px 1px rgba(60, 64, 67, 0.15);\n",
              "      fill: #174EA6;\n",
              "    }\n",
              "\n",
              "    [theme=dark] .colab-df-convert {\n",
              "      background-color: #3B4455;\n",
              "      fill: #D2E3FC;\n",
              "    }\n",
              "\n",
              "    [theme=dark] .colab-df-convert:hover {\n",
              "      background-color: #434B5C;\n",
              "      box-shadow: 0px 1px 3px 1px rgba(0, 0, 0, 0.15);\n",
              "      filter: drop-shadow(0px 1px 2px rgba(0, 0, 0, 0.3));\n",
              "      fill: #FFFFFF;\n",
              "    }\n",
              "  </style>\n",
              "\n",
              "      <script>\n",
              "        const buttonEl =\n",
              "          document.querySelector('#df-26d4d6cb-6ccd-4a6a-a126-ee55f442e138 button.colab-df-convert');\n",
              "        buttonEl.style.display =\n",
              "          google.colab.kernel.accessAllowed ? 'block' : 'none';\n",
              "\n",
              "        async function convertToInteractive(key) {\n",
              "          const element = document.querySelector('#df-26d4d6cb-6ccd-4a6a-a126-ee55f442e138');\n",
              "          const dataTable =\n",
              "            await google.colab.kernel.invokeFunction('convertToInteractive',\n",
              "                                                     [key], {});\n",
              "          if (!dataTable) return;\n",
              "\n",
              "          const docLinkHtml = 'Like what you see? Visit the ' +\n",
              "            '<a target=\"_blank\" href=https://colab.research.google.com/notebooks/data_table.ipynb>data table notebook</a>'\n",
              "            + ' to learn more about interactive tables.';\n",
              "          element.innerHTML = '';\n",
              "          dataTable['output_type'] = 'display_data';\n",
              "          await google.colab.output.renderOutput(dataTable, element);\n",
              "          const docLink = document.createElement('div');\n",
              "          docLink.innerHTML = docLinkHtml;\n",
              "          element.appendChild(docLink);\n",
              "        }\n",
              "      </script>\n",
              "    </div>\n",
              "  </div>\n",
              "  "
            ]
          },
          "metadata": {},
          "execution_count": 49
        }
      ],
      "source": [
        "df.groupby('children_group')['debt'].agg(['mean']).sort_values(by='children_group')"
      ]
    },
    {
      "cell_type": "markdown",
      "metadata": {
        "id": "YYS8dOwhYI9M"
      },
      "source": [
        "Теперь взглянем на график изменения процента должников в зависимости от категории"
      ]
    },
    {
      "cell_type": "code",
      "source": [
        "a = sns.barplot(data=df, estimator=np.mean,\n",
        "            x='children_group', y='debt', palette='muted')\n",
        "a.set(xlabel='Категория', ylabel='Доля должников', title='Доля должников по количеству детей')\n",
        "plt.show()"
      ],
      "metadata": {
        "colab": {
          "base_uri": "https://localhost:8080/",
          "height": 301
        },
        "id": "weD-DizI18wS",
        "outputId": "c2c3dcb8-6500-4dc8-b152-de4aee7e16b0"
      },
      "execution_count": 50,
      "outputs": [
        {
          "output_type": "display_data",
          "data": {
            "text/plain": [
              "<Figure size 432x288 with 1 Axes>"
            ],
            "image/png": "[encoded data removed]"
          },
          "metadata": {}
        }
      ]
    },
    {
      "cell_type": "markdown",
      "metadata": {
        "id": "Gcj-TnbFYI9M"
      },
      "source": [
        "Выведем средний процент должников из переменной `total_debt`"
      ]
    },
    {
      "cell_type": "code",
      "execution_count": 51,
      "metadata": {
        "id": "BznRIdEoYI9M",
        "outputId": "7005de48-da83-483c-a073-6a419fc80deb",
        "colab": {
          "base_uri": "https://localhost:8080/"
        }
      },
      "outputs": [
        {
          "output_type": "execute_result",
          "data": {
            "text/plain": [
              "0.08115036822970076"
            ]
          },
          "metadata": {},
          "execution_count": 51
        }
      ],
      "source": [
        "total_debt"
      ]
    },
    {
      "cell_type": "markdown",
      "metadata": {
        "id": "Ic1SJ6RGYI9M"
      },
      "source": [
        "Как мы видим из графика, зависимость между наличием детей и возвратом кредита в срок есть. \n",
        "Люди без детей чаще возвращают деньги в срок, процент должников в этой группе почти на 0,6% меньше среднего показателя. Показатели заявителей с детьми превышают среднюю на 1% и более.\n",
        "Общая тенденция - увеличение должников пропорционально увеличению числа детей в семье, однако так как распределение было далеко от равного, я сомневаюсь в достоверности этого вывода."
      ]
    },
    {
      "cell_type": "markdown",
      "metadata": {
        "id": "rJxfzoiaYI9N"
      },
      "source": [
        "### Зависимость между семейным положением и возвратом кредита в срок"
      ]
    },
    {
      "cell_type": "code",
      "execution_count": 52,
      "metadata": {
        "id": "j-3La7uDYI9N",
        "outputId": "01ede0e8-c4f4-4e26-d296-4a1f044f6374",
        "colab": {
          "base_uri": "https://localhost:8080/",
          "height": 238
        }
      },
      "outputs": [
        {
          "output_type": "execute_result",
          "data": {
            "text/plain": [
              "                           debt\n",
              "family_status                  \n",
              "вдовец / вдова         0.065693\n",
              "в разводе              0.071130\n",
              "женат / замужем        0.075452\n",
              "гражданский брак       0.093471\n",
              "не женат / не замужем  0.097509"
            ],
            "text/html": [
              "\n",
              "  <div id=\"df-7bc0c701-b103-4518-9c87-a6babb93f789\">\n",
              "    <div class=\"colab-df-container\">\n",
              "      <div>\n",
              "<style scoped>\n",
              "    .dataframe tbody tr th:only-of-type {\n",
              "        vertical-align: middle;\n",
              "    }\n",
              "\n",
              "    .dataframe tbody tr th {\n",
              "        vertical-align: top;\n",
              "    }\n",
              "\n",
              "    .dataframe thead th {\n",
              "        text-align: right;\n",
              "    }\n",
              "</style>\n",
              "<table border=\"1\" class=\"dataframe\">\n",
              "  <thead>\n",
              "    <tr style=\"text-align: right;\">\n",
              "      <th></th>\n",
              "      <th>debt</th>\n",
              "    </tr>\n",
              "    <tr>\n",
              "      <th>family_status</th>\n",
              "      <th></th>\n",
              "    </tr>\n",
              "  </thead>\n",
              "  <tbody>\n",
              "    <tr>\n",
              "      <th>вдовец / вдова</th>\n",
              "      <td>0.065693</td>\n",
              "    </tr>\n",
              "    <tr>\n",
              "      <th>в разводе</th>\n",
              "      <td>0.071130</td>\n",
              "    </tr>\n",
              "    <tr>\n",
              "      <th>женат / замужем</th>\n",
              "      <td>0.075452</td>\n",
              "    </tr>\n",
              "    <tr>\n",
              "      <th>гражданский брак</th>\n",
              "      <td>0.093471</td>\n",
              "    </tr>\n",
              "    <tr>\n",
              "      <th>не женат / не замужем</th>\n",
              "      <td>0.097509</td>\n",
              "    </tr>\n",
              "  </tbody>\n",
              "</table>\n",
              "</div>\n",
              "      <button class=\"colab-df-convert\" onclick=\"convertToInteractive('df-7bc0c701-b103-4518-9c87-a6babb93f789')\"\n",
              "              title=\"Convert this dataframe to an interactive table.\"\n",
              "              style=\"display:none;\">\n",
              "        \n",
              "  <svg xmlns=\"http://www.w3.org/2000/svg\" height=\"24px\"viewBox=\"0 0 24 24\"\n",
              "       width=\"24px\">\n",
              "    <path d=\"M0 0h24v24H0V0z\" fill=\"none\"/>\n",
              "    <path d=\"M18.56 5.44l.94 2.06.94-2.06 2.06-.94-2.06-.94-.94-2.06-.94 2.06-2.06.94zm-11 1L8.5 8.5l.94-2.06 2.06-.94-2.06-.94L8.5 2.5l-.94 2.06-2.06.94zm10 10l.94 2.06.94-2.06 2.06-.94-2.06-.94-.94-2.06-.94 2.06-2.06.94z\"/><path d=\"M17.41 7.96l-1.37-1.37c-.4-.4-.92-.59-1.43-.59-.52 0-1.04.2-1.43.59L10.3 9.45l-7.72 7.72c-.78.78-.78 2.05 0 2.83L4 21.41c.39.39.9.59 1.41.59.51 0 1.02-.2 1.41-.59l7.78-7.78 2.81-2.81c.8-.78.8-2.07 0-2.86zM5.41 20L4 18.59l7.72-7.72 1.47 1.35L5.41 20z\"/>\n",
              "  </svg>\n",
              "      </button>\n",
              "      \n",
              "  <style>\n",
              "    .colab-df-container {\n",
              "      display:flex;\n",
              "      flex-wrap:wrap;\n",
              "      gap: 12px;\n",
              "    }\n",
              "\n",
              "    .colab-df-convert {\n",
              "      background-color: #E8F0FE;\n",
              "      border: none;\n",
              "      border-radius: 50%;\n",
              "      cursor: pointer;\n",
              "      display: none;\n",
              "      fill: #1967D2;\n",
              "      height: 32px;\n",
              "      padding: 0 0 0 0;\n",
              "      width: 32px;\n",
              "    }\n",
              "\n",
              "    .colab-df-convert:hover {\n",
              "      background-color: #E2EBFA;\n",
              "      box-shadow: 0px 1px 2px rgba(60, 64, 67, 0.3), 0px 1px 3px 1px rgba(60, 64, 67, 0.15);\n",
              "      fill: #174EA6;\n",
              "    }\n",
              "\n",
              "    [theme=dark] .colab-df-convert {\n",
              "      background-color: #3B4455;\n",
              "      fill: #D2E3FC;\n",
              "    }\n",
              "\n",
              "    [theme=dark] .colab-df-convert:hover {\n",
              "      background-color: #434B5C;\n",
              "      box-shadow: 0px 1px 3px 1px rgba(0, 0, 0, 0.15);\n",
              "      filter: drop-shadow(0px 1px 2px rgba(0, 0, 0, 0.3));\n",
              "      fill: #FFFFFF;\n",
              "    }\n",
              "  </style>\n",
              "\n",
              "      <script>\n",
              "        const buttonEl =\n",
              "          document.querySelector('#df-7bc0c701-b103-4518-9c87-a6babb93f789 button.colab-df-convert');\n",
              "        buttonEl.style.display =\n",
              "          google.colab.kernel.accessAllowed ? 'block' : 'none';\n",
              "\n",
              "        async function convertToInteractive(key) {\n",
              "          const element = document.querySelector('#df-7bc0c701-b103-4518-9c87-a6babb93f789');\n",
              "          const dataTable =\n",
              "            await google.colab.kernel.invokeFunction('convertToInteractive',\n",
              "                                                     [key], {});\n",
              "          if (!dataTable) return;\n",
              "\n",
              "          const docLinkHtml = 'Like what you see? Visit the ' +\n",
              "            '<a target=\"_blank\" href=https://colab.research.google.com/notebooks/data_table.ipynb>data table notebook</a>'\n",
              "            + ' to learn more about interactive tables.';\n",
              "          element.innerHTML = '';\n",
              "          dataTable['output_type'] = 'display_data';\n",
              "          await google.colab.output.renderOutput(dataTable, element);\n",
              "          const docLink = document.createElement('div');\n",
              "          docLink.innerHTML = docLinkHtml;\n",
              "          element.appendChild(docLink);\n",
              "        }\n",
              "      </script>\n",
              "    </div>\n",
              "  </div>\n",
              "  "
            ]
          },
          "metadata": {},
          "execution_count": 52
        }
      ],
      "source": [
        "df[['family_status', 'debt']].groupby('family_status').mean()\\\n",
        ".sort_values(by='debt', ascending=True)"
      ]
    },
    {
      "cell_type": "markdown",
      "metadata": {
        "id": "Vrt1DWZsYI9N"
      },
      "source": [
        "Можно было бы искать зависимость в покупательской способности этих разных групп, но тогда непонятно почему не женатые люди возвращают деньги в срок реже чем разведённые. Думаю, это тема для отдельного исследования.\n",
        "\n",
        "Вывод - Между крайними значениями есть разница порядка 3%, это существенная разница и нужно сделать дополнительное исследование чтобы установить зависимости (по полу заявителя, например)."
      ]
    },
    {
      "cell_type": "markdown",
      "metadata": {
        "id": "xppm7WKIYI9N"
      },
      "source": [
        "### Зависимость между уровнем дохода и возвратом кредита в срок"
      ]
    },
    {
      "cell_type": "markdown",
      "metadata": {
        "id": "DtAoSGSjYI9N"
      },
      "source": [
        "Выведем процент должников в каждой из категорий.\n",
        "Легенда групп по доходам:\n",
        "- `0`: `20000 - 100000`\n",
        "- `1`: `100000 - 140000`\n",
        "- `2`: `140000 -160000`\n",
        "- `3`: `160000 - 220000`\n",
        "- `4`: `220000 - 2300000`\n"
      ]
    },
    {
      "cell_type": "code",
      "execution_count": 53,
      "metadata": {
        "id": "8hBtflv5YI9N",
        "outputId": "838b2994-4fb1-487e-91f7-2279161d6e02",
        "colab": {
          "base_uri": "https://localhost:8080/",
          "height": 238
        }
      },
      "outputs": [
        {
          "output_type": "execute_result",
          "data": {
            "text/plain": [
              "                  mean\n",
              "income_group          \n",
              "0             0.079319\n",
              "1             0.084924\n",
              "2             0.090040\n",
              "3             0.081494\n",
              "4             0.070858"
            ],
            "text/html": [
              "\n",
              "  <div id=\"df-c973fe06-8f19-4bcb-a959-a92846e27bde\">\n",
              "    <div class=\"colab-df-container\">\n",
              "      <div>\n",
              "<style scoped>\n",
              "    .dataframe tbody tr th:only-of-type {\n",
              "        vertical-align: middle;\n",
              "    }\n",
              "\n",
              "    .dataframe tbody tr th {\n",
              "        vertical-align: top;\n",
              "    }\n",
              "\n",
              "    .dataframe thead th {\n",
              "        text-align: right;\n",
              "    }\n",
              "</style>\n",
              "<table border=\"1\" class=\"dataframe\">\n",
              "  <thead>\n",
              "    <tr style=\"text-align: right;\">\n",
              "      <th></th>\n",
              "      <th>mean</th>\n",
              "    </tr>\n",
              "    <tr>\n",
              "      <th>income_group</th>\n",
              "      <th></th>\n",
              "    </tr>\n",
              "  </thead>\n",
              "  <tbody>\n",
              "    <tr>\n",
              "      <th>0</th>\n",
              "      <td>0.079319</td>\n",
              "    </tr>\n",
              "    <tr>\n",
              "      <th>1</th>\n",
              "      <td>0.084924</td>\n",
              "    </tr>\n",
              "    <tr>\n",
              "      <th>2</th>\n",
              "      <td>0.090040</td>\n",
              "    </tr>\n",
              "    <tr>\n",
              "      <th>3</th>\n",
              "      <td>0.081494</td>\n",
              "    </tr>\n",
              "    <tr>\n",
              "      <th>4</th>\n",
              "      <td>0.070858</td>\n",
              "    </tr>\n",
              "  </tbody>\n",
              "</table>\n",
              "</div>\n",
              "      <button class=\"colab-df-convert\" onclick=\"convertToInteractive('df-c973fe06-8f19-4bcb-a959-a92846e27bde')\"\n",
              "              title=\"Convert this dataframe to an interactive table.\"\n",
              "              style=\"display:none;\">\n",
              "        \n",
              "  <svg xmlns=\"http://www.w3.org/2000/svg\" height=\"24px\"viewBox=\"0 0 24 24\"\n",
              "       width=\"24px\">\n",
              "    <path d=\"M0 0h24v24H0V0z\" fill=\"none\"/>\n",
              "    <path d=\"M18.56 5.44l.94 2.06.94-2.06 2.06-.94-2.06-.94-.94-2.06-.94 2.06-2.06.94zm-11 1L8.5 8.5l.94-2.06 2.06-.94-2.06-.94L8.5 2.5l-.94 2.06-2.06.94zm10 10l.94 2.06.94-2.06 2.06-.94-2.06-.94-.94-2.06-.94 2.06-2.06.94z\"/><path d=\"M17.41 7.96l-1.37-1.37c-.4-.4-.92-.59-1.43-.59-.52 0-1.04.2-1.43.59L10.3 9.45l-7.72 7.72c-.78.78-.78 2.05 0 2.83L4 21.41c.39.39.9.59 1.41.59.51 0 1.02-.2 1.41-.59l7.78-7.78 2.81-2.81c.8-.78.8-2.07 0-2.86zM5.41 20L4 18.59l7.72-7.72 1.47 1.35L5.41 20z\"/>\n",
              "  </svg>\n",
              "      </button>\n",
              "      \n",
              "  <style>\n",
              "    .colab-df-container {\n",
              "      display:flex;\n",
              "      flex-wrap:wrap;\n",
              "      gap: 12px;\n",
              "    }\n",
              "\n",
              "    .colab-df-convert {\n",
              "      background-color: #E8F0FE;\n",
              "      border: none;\n",
              "      border-radius: 50%;\n",
              "      cursor: pointer;\n",
              "      display: none;\n",
              "      fill: #1967D2;\n",
              "      height: 32px;\n",
              "      padding: 0 0 0 0;\n",
              "      width: 32px;\n",
              "    }\n",
              "\n",
              "    .colab-df-convert:hover {\n",
              "      background-color: #E2EBFA;\n",
              "      box-shadow: 0px 1px 2px rgba(60, 64, 67, 0.3), 0px 1px 3px 1px rgba(60, 64, 67, 0.15);\n",
              "      fill: #174EA6;\n",
              "    }\n",
              "\n",
              "    [theme=dark] .colab-df-convert {\n",
              "      background-color: #3B4455;\n",
              "      fill: #D2E3FC;\n",
              "    }\n",
              "\n",
              "    [theme=dark] .colab-df-convert:hover {\n",
              "      background-color: #434B5C;\n",
              "      box-shadow: 0px 1px 3px 1px rgba(0, 0, 0, 0.15);\n",
              "      filter: drop-shadow(0px 1px 2px rgba(0, 0, 0, 0.3));\n",
              "      fill: #FFFFFF;\n",
              "    }\n",
              "  </style>\n",
              "\n",
              "      <script>\n",
              "        const buttonEl =\n",
              "          document.querySelector('#df-c973fe06-8f19-4bcb-a959-a92846e27bde button.colab-df-convert');\n",
              "        buttonEl.style.display =\n",
              "          google.colab.kernel.accessAllowed ? 'block' : 'none';\n",
              "\n",
              "        async function convertToInteractive(key) {\n",
              "          const element = document.querySelector('#df-c973fe06-8f19-4bcb-a959-a92846e27bde');\n",
              "          const dataTable =\n",
              "            await google.colab.kernel.invokeFunction('convertToInteractive',\n",
              "                                                     [key], {});\n",
              "          if (!dataTable) return;\n",
              "\n",
              "          const docLinkHtml = 'Like what you see? Visit the ' +\n",
              "            '<a target=\"_blank\" href=https://colab.research.google.com/notebooks/data_table.ipynb>data table notebook</a>'\n",
              "            + ' to learn more about interactive tables.';\n",
              "          element.innerHTML = '';\n",
              "          dataTable['output_type'] = 'display_data';\n",
              "          await google.colab.output.renderOutput(dataTable, element);\n",
              "          const docLink = document.createElement('div');\n",
              "          docLink.innerHTML = docLinkHtml;\n",
              "          element.appendChild(docLink);\n",
              "        }\n",
              "      </script>\n",
              "    </div>\n",
              "  </div>\n",
              "  "
            ]
          },
          "metadata": {},
          "execution_count": 53
        }
      ],
      "source": [
        "df.groupby('income_group')['debt'].agg(['mean']).sort_values(by='income_group')"
      ]
    },
    {
      "cell_type": "markdown",
      "metadata": {
        "id": "9fvK4Q60YI9N"
      },
      "source": [
        "Теперь взглянем на график изменения процента должников в зависимости от категории"
      ]
    },
    {
      "cell_type": "code",
      "source": [
        "a = sns.barplot(data=df, estimator=np.mean,\n",
        "            x='income_group', y='debt', palette='muted')\n",
        "a.set(xlabel='Категория дохода', ylabel='Доля должников', title='Доля должников по категории дохода')\n",
        "plt.show()"
      ],
      "metadata": {
        "colab": {
          "base_uri": "https://localhost:8080/",
          "height": 301
        },
        "id": "0VV_JllFC6OX",
        "outputId": "8afdc107-421d-45d8-9628-5d5835c6e742"
      },
      "execution_count": 54,
      "outputs": [
        {
          "output_type": "display_data",
          "data": {
            "text/plain": [
              "<Figure size 432x288 with 1 Axes>"
            ],
            "image/png": "[encoded data removed]"
          },
          "metadata": {}
        }
      ]
    },
    {
      "cell_type": "markdown",
      "metadata": {
        "id": "JavqlLf_YI9O"
      },
      "source": [
        "Выведем средний процент должников из переменной `total_debt`"
      ]
    },
    {
      "cell_type": "code",
      "execution_count": 55,
      "metadata": {
        "id": "pxvhvKFWYI9O",
        "outputId": "d89148b4-fe4e-4a16-a484-58ebfcb1ccd6",
        "colab": {
          "base_uri": "https://localhost:8080/"
        }
      },
      "outputs": [
        {
          "output_type": "execute_result",
          "data": {
            "text/plain": [
              "0.08115036822970076"
            ]
          },
          "metadata": {},
          "execution_count": 55
        }
      ],
      "source": [
        "total_debt"
      ]
    },
    {
      "cell_type": "markdown",
      "metadata": {
        "id": "n6YlIzTOYI9O"
      },
      "source": [
        "Видна зависимость на графике. 1, 2 и 3 группы превышают средний процент должников среди заявителей. То есть люди с доходом от 100000 до 220000 в среднем чаще просрачивают выплату кредита чем люди с доходом до 100000 и люди с доходом более 220000."
      ]
    },
    {
      "cell_type": "markdown",
      "metadata": {
        "id": "kaQ8OrqXYI9O"
      },
      "source": [
        "### Зависимость между целью получения кредита и возвратом кредита в срок"
      ]
    },
    {
      "cell_type": "code",
      "execution_count": 56,
      "metadata": {
        "id": "clPqVLgcYI9O",
        "outputId": "3712288f-57a5-457c-c7cc-23a2d75c8551",
        "colab": {
          "base_uri": "https://localhost:8080/",
          "height": 206
        }
      },
      "outputs": [
        {
          "output_type": "execute_result",
          "data": {
            "text/plain": [
              "                        debt\n",
              "purpose_group               \n",
              "жилье/недвижимость  0.072334\n",
              "свадьба             0.080034\n",
              "образование         0.092200\n",
              "автомобиль          0.093590"
            ],
            "text/html": [
              "\n",
              "  <div id=\"df-ea855338-4dec-41dc-aeda-b9424e34f2f4\">\n",
              "    <div class=\"colab-df-container\">\n",
              "      <div>\n",
              "<style scoped>\n",
              "    .dataframe tbody tr th:only-of-type {\n",
              "        vertical-align: middle;\n",
              "    }\n",
              "\n",
              "    .dataframe tbody tr th {\n",
              "        vertical-align: top;\n",
              "    }\n",
              "\n",
              "    .dataframe thead th {\n",
              "        text-align: right;\n",
              "    }\n",
              "</style>\n",
              "<table border=\"1\" class=\"dataframe\">\n",
              "  <thead>\n",
              "    <tr style=\"text-align: right;\">\n",
              "      <th></th>\n",
              "      <th>debt</th>\n",
              "    </tr>\n",
              "    <tr>\n",
              "      <th>purpose_group</th>\n",
              "      <th></th>\n",
              "    </tr>\n",
              "  </thead>\n",
              "  <tbody>\n",
              "    <tr>\n",
              "      <th>жилье/недвижимость</th>\n",
              "      <td>0.072334</td>\n",
              "    </tr>\n",
              "    <tr>\n",
              "      <th>свадьба</th>\n",
              "      <td>0.080034</td>\n",
              "    </tr>\n",
              "    <tr>\n",
              "      <th>образование</th>\n",
              "      <td>0.092200</td>\n",
              "    </tr>\n",
              "    <tr>\n",
              "      <th>автомобиль</th>\n",
              "      <td>0.093590</td>\n",
              "    </tr>\n",
              "  </tbody>\n",
              "</table>\n",
              "</div>\n",
              "      <button class=\"colab-df-convert\" onclick=\"convertToInteractive('df-ea855338-4dec-41dc-aeda-b9424e34f2f4')\"\n",
              "              title=\"Convert this dataframe to an interactive table.\"\n",
              "              style=\"display:none;\">\n",
              "        \n",
              "  <svg xmlns=\"http://www.w3.org/2000/svg\" height=\"24px\"viewBox=\"0 0 24 24\"\n",
              "       width=\"24px\">\n",
              "    <path d=\"M0 0h24v24H0V0z\" fill=\"none\"/>\n",
              "    <path d=\"M18.56 5.44l.94 2.06.94-2.06 2.06-.94-2.06-.94-.94-2.06-.94 2.06-2.06.94zm-11 1L8.5 8.5l.94-2.06 2.06-.94-2.06-.94L8.5 2.5l-.94 2.06-2.06.94zm10 10l.94 2.06.94-2.06 2.06-.94-2.06-.94-.94-2.06-.94 2.06-2.06.94z\"/><path d=\"M17.41 7.96l-1.37-1.37c-.4-.4-.92-.59-1.43-.59-.52 0-1.04.2-1.43.59L10.3 9.45l-7.72 7.72c-.78.78-.78 2.05 0 2.83L4 21.41c.39.39.9.59 1.41.59.51 0 1.02-.2 1.41-.59l7.78-7.78 2.81-2.81c.8-.78.8-2.07 0-2.86zM5.41 20L4 18.59l7.72-7.72 1.47 1.35L5.41 20z\"/>\n",
              "  </svg>\n",
              "      </button>\n",
              "      \n",
              "  <style>\n",
              "    .colab-df-container {\n",
              "      display:flex;\n",
              "      flex-wrap:wrap;\n",
              "      gap: 12px;\n",
              "    }\n",
              "\n",
              "    .colab-df-convert {\n",
              "      background-color: #E8F0FE;\n",
              "      border: none;\n",
              "      border-radius: 50%;\n",
              "      cursor: pointer;\n",
              "      display: none;\n",
              "      fill: #1967D2;\n",
              "      height: 32px;\n",
              "      padding: 0 0 0 0;\n",
              "      width: 32px;\n",
              "    }\n",
              "\n",
              "    .colab-df-convert:hover {\n",
              "      background-color: #E2EBFA;\n",
              "      box-shadow: 0px 1px 2px rgba(60, 64, 67, 0.3), 0px 1px 3px 1px rgba(60, 64, 67, 0.15);\n",
              "      fill: #174EA6;\n",
              "    }\n",
              "\n",
              "    [theme=dark] .colab-df-convert {\n",
              "      background-color: #3B4455;\n",
              "      fill: #D2E3FC;\n",
              "    }\n",
              "\n",
              "    [theme=dark] .colab-df-convert:hover {\n",
              "      background-color: #434B5C;\n",
              "      box-shadow: 0px 1px 3px 1px rgba(0, 0, 0, 0.15);\n",
              "      filter: drop-shadow(0px 1px 2px rgba(0, 0, 0, 0.3));\n",
              "      fill: #FFFFFF;\n",
              "    }\n",
              "  </style>\n",
              "\n",
              "      <script>\n",
              "        const buttonEl =\n",
              "          document.querySelector('#df-ea855338-4dec-41dc-aeda-b9424e34f2f4 button.colab-df-convert');\n",
              "        buttonEl.style.display =\n",
              "          google.colab.kernel.accessAllowed ? 'block' : 'none';\n",
              "\n",
              "        async function convertToInteractive(key) {\n",
              "          const element = document.querySelector('#df-ea855338-4dec-41dc-aeda-b9424e34f2f4');\n",
              "          const dataTable =\n",
              "            await google.colab.kernel.invokeFunction('convertToInteractive',\n",
              "                                                     [key], {});\n",
              "          if (!dataTable) return;\n",
              "\n",
              "          const docLinkHtml = 'Like what you see? Visit the ' +\n",
              "            '<a target=\"_blank\" href=https://colab.research.google.com/notebooks/data_table.ipynb>data table notebook</a>'\n",
              "            + ' to learn more about interactive tables.';\n",
              "          element.innerHTML = '';\n",
              "          dataTable['output_type'] = 'display_data';\n",
              "          await google.colab.output.renderOutput(dataTable, element);\n",
              "          const docLink = document.createElement('div');\n",
              "          docLink.innerHTML = docLinkHtml;\n",
              "          element.appendChild(docLink);\n",
              "        }\n",
              "      </script>\n",
              "    </div>\n",
              "  </div>\n",
              "  "
            ]
          },
          "metadata": {},
          "execution_count": 56
        }
      ],
      "source": [
        "df[['purpose_group', 'debt']].groupby('purpose_group').mean().sort_values(by='debt', ascending=True)"
      ]
    },
    {
      "cell_type": "code",
      "source": [
        "a = sns.barplot(data=df, estimator=np.mean,\n",
        "            x='purpose_group', y='debt', palette='muted')\n",
        "a.set(xlabel='Цель получения кредита', ylabel='Доля должников', \n",
        "      title='Доля должников по цели получения кредита')\n",
        "plt.show()"
      ],
      "metadata": {
        "colab": {
          "base_uri": "https://localhost:8080/",
          "height": 301
        },
        "id": "VLnIBPs6bLRL",
        "outputId": "6ed7547f-44ec-4171-e5da-8e8fb16a2104"
      },
      "execution_count": 57,
      "outputs": [
        {
          "output_type": "display_data",
          "data": {
            "text/plain": [
              "<Figure size 432x288 with 1 Axes>"
            ],
            "image/png": "[encoded data removed]"
          },
          "metadata": {}
        }
      ]
    },
    {
      "cell_type": "markdown",
      "metadata": {
        "id": "BsATmkFBYI9O"
      },
      "source": [
        "Зависимость определённо есть. Мы видим что реже всего просрачивают выплату люди, покупающие жильё или другую недвижимость. Возможно, так происходит потому что эта самая недвижимость выступает залогом. Больше всего должников в категории людей которые берут кредит на покупку или другие операции с автомобилем."
      ]
    },
    {
      "cell_type": "markdown",
      "metadata": {
        "id": "bUUn3V7ZYI9O"
      },
      "source": [
        "## Общий вывод"
      ]
    },
    {
      "cell_type": "markdown",
      "metadata": {
        "id": "5RB7TkzcYI9O"
      },
      "source": [
        "В результате исследования мы нашли зависимость возврата денег в срок от трёх из чертырёх факторов:\n",
        "- **Дети.** Несмотря на сомнительность вывода из-за неравного рапределения групп мы можем заключить, что общая тенденция - увеличение должников пропорционально увеличению числа детей в семье.\n",
        "- **Семейное положение.** Да, для разных групп здесь разный процент должников, но зависимостей в рамках этого исследования не видно, нужно делать отдельное чтобы выявить зависимости.\n",
        "- **Деньги.** Построенный график показал, что люди со средним доходом для нашей группы (100000 - 220000) реже других возвращают кредит в срок.\n",
        "- **Цели получения кредита.** Люди с целью операций с недвижимостью самый надёжный заёмщик, из них 92.8% возвращают деньги в срок, а вот среди берущих кредит на операции с автомобилями надёжными являются только 90.6%."
      ]
    }
  ],
  "metadata": {
    "ExecuteTimeLog": [
      {
        "duration": 812,
        "start_time": "2021-11-15T19:20:24.246Z"
      },
      {
        "duration": 113,
        "start_time": "2021-11-15T19:21:20.987Z"
      },
      {
        "duration": 68,
        "start_time": "2021-11-15T19:21:34.878Z"
      },
      {
        "duration": 52,
        "start_time": "2021-11-15T19:21:51.494Z"
      },
      {
        "duration": 15,
        "start_time": "2021-11-15T19:22:18.043Z"
      },
      {
        "duration": 279,
        "start_time": "2021-11-22T18:38:50.508Z"
      },
      {
        "duration": 562,
        "start_time": "2021-11-22T18:39:12.272Z"
      },
      {
        "duration": 52,
        "start_time": "2021-11-22T18:39:12.835Z"
      },
      {
        "duration": 18,
        "start_time": "2021-11-22T18:39:12.889Z"
      },
      {
        "duration": 2,
        "start_time": "2021-11-22T18:39:17.936Z"
      },
      {
        "duration": 50,
        "start_time": "2021-11-22T18:39:19.756Z"
      },
      {
        "duration": 13,
        "start_time": "2021-11-22T18:39:22.267Z"
      },
      {
        "duration": 12,
        "start_time": "2021-11-22T18:40:41.447Z"
      },
      {
        "duration": 20,
        "start_time": "2021-11-22T18:51:22.359Z"
      },
      {
        "duration": 11,
        "start_time": "2021-11-22T18:52:08.511Z"
      },
      {
        "duration": 18,
        "start_time": "2021-11-22T18:56:28.286Z"
      },
      {
        "duration": 10,
        "start_time": "2021-11-22T18:56:53.518Z"
      },
      {
        "duration": 2158,
        "start_time": "2021-11-22T18:59:13.646Z"
      },
      {
        "duration": 1608,
        "start_time": "2021-11-22T19:00:13.374Z"
      },
      {
        "duration": 978,
        "start_time": "2021-11-22T19:00:21.502Z"
      },
      {
        "duration": 49,
        "start_time": "2021-11-22T19:00:22.481Z"
      },
      {
        "duration": 18,
        "start_time": "2021-11-22T19:00:22.532Z"
      },
      {
        "duration": 11,
        "start_time": "2021-11-22T19:00:23.502Z"
      },
      {
        "duration": 9,
        "start_time": "2021-11-22T19:00:26.366Z"
      },
      {
        "duration": 19,
        "start_time": "2021-11-22T19:00:27.942Z"
      },
      {
        "duration": 11,
        "start_time": "2021-11-22T19:03:11.367Z"
      },
      {
        "duration": 12,
        "start_time": "2021-11-22T19:03:42.614Z"
      },
      {
        "duration": 147,
        "start_time": "2021-11-22T19:04:29.014Z"
      },
      {
        "duration": 5,
        "start_time": "2021-11-22T19:05:06.118Z"
      },
      {
        "duration": 5,
        "start_time": "2021-11-22T19:05:31.470Z"
      },
      {
        "duration": 6,
        "start_time": "2021-11-22T19:06:28.246Z"
      },
      {
        "duration": 5,
        "start_time": "2021-11-22T19:06:36.558Z"
      },
      {
        "duration": 4,
        "start_time": "2021-11-22T19:08:24.622Z"
      },
      {
        "duration": 4,
        "start_time": "2021-11-22T19:08:33.743Z"
      },
      {
        "duration": 3,
        "start_time": "2021-11-22T19:11:53.694Z"
      },
      {
        "duration": 19,
        "start_time": "2021-11-22T19:14:17.039Z"
      },
      {
        "duration": 3,
        "start_time": "2021-11-22T19:14:32.422Z"
      },
      {
        "duration": 54,
        "start_time": "2021-11-22T19:14:32.831Z"
      },
      {
        "duration": 15,
        "start_time": "2021-11-22T19:14:33.823Z"
      },
      {
        "duration": 14,
        "start_time": "2021-11-22T19:15:17.119Z"
      },
      {
        "duration": 3,
        "start_time": "2021-11-22T19:25:50.103Z"
      },
      {
        "duration": 3,
        "start_time": "2021-11-22T19:26:06.526Z"
      },
      {
        "duration": 46,
        "start_time": "2021-11-22T19:26:06.670Z"
      },
      {
        "duration": 14,
        "start_time": "2021-11-22T19:26:06.820Z"
      },
      {
        "duration": 15,
        "start_time": "2021-11-22T19:26:06.950Z"
      },
      {
        "duration": 4,
        "start_time": "2021-11-22T19:26:12.366Z"
      },
      {
        "duration": 9,
        "start_time": "2021-11-22T19:26:14.702Z"
      },
      {
        "duration": 16,
        "start_time": "2021-11-22T19:26:31.935Z"
      },
      {
        "duration": 6,
        "start_time": "2021-11-22T19:30:34.414Z"
      },
      {
        "duration": 87,
        "start_time": "2021-11-22T19:31:02.159Z"
      },
      {
        "duration": 9,
        "start_time": "2021-11-22T19:31:24.390Z"
      },
      {
        "duration": 102,
        "start_time": "2021-11-22T19:38:00.620Z"
      },
      {
        "duration": 5,
        "start_time": "2021-11-22T19:41:31.758Z"
      },
      {
        "duration": 12,
        "start_time": "2021-11-22T19:42:12.982Z"
      },
      {
        "duration": 10,
        "start_time": "2021-11-22T19:42:26.751Z"
      },
      {
        "duration": 12,
        "start_time": "2021-11-22T19:42:47.134Z"
      },
      {
        "duration": 3,
        "start_time": "2021-11-22T19:42:50.710Z"
      },
      {
        "duration": 48,
        "start_time": "2021-11-22T19:42:50.847Z"
      },
      {
        "duration": 13,
        "start_time": "2021-11-22T19:42:50.966Z"
      },
      {
        "duration": 10,
        "start_time": "2021-11-22T19:42:51.111Z"
      },
      {
        "duration": 3,
        "start_time": "2021-11-22T19:42:51.838Z"
      },
      {
        "duration": 10,
        "start_time": "2021-11-22T19:42:52.582Z"
      },
      {
        "duration": 14,
        "start_time": "2021-11-22T19:42:53.511Z"
      },
      {
        "duration": 6,
        "start_time": "2021-11-22T19:42:54.062Z"
      },
      {
        "duration": 10,
        "start_time": "2021-11-22T19:42:54.517Z"
      },
      {
        "duration": 4,
        "start_time": "2021-11-22T19:42:56.816Z"
      },
      {
        "duration": 11,
        "start_time": "2021-11-22T19:42:57.366Z"
      },
      {
        "duration": 12,
        "start_time": "2021-11-22T19:43:15.694Z"
      },
      {
        "duration": 9,
        "start_time": "2021-11-22T19:43:26.711Z"
      },
      {
        "duration": 17,
        "start_time": "2021-11-22T19:47:10.879Z"
      },
      {
        "duration": 80,
        "start_time": "2021-11-22T19:48:14.614Z"
      },
      {
        "duration": 18,
        "start_time": "2021-11-22T19:48:55.718Z"
      },
      {
        "duration": 15,
        "start_time": "2021-11-22T19:49:48.110Z"
      },
      {
        "duration": 20,
        "start_time": "2021-11-22T19:50:16.751Z"
      },
      {
        "duration": 85,
        "start_time": "2021-11-22T19:52:33.661Z"
      },
      {
        "duration": 14,
        "start_time": "2021-11-22T19:56:02.100Z"
      },
      {
        "duration": 15,
        "start_time": "2021-11-22T19:58:16.478Z"
      },
      {
        "duration": 281,
        "start_time": "2021-11-22T20:03:15.159Z"
      },
      {
        "duration": 7,
        "start_time": "2021-11-22T20:05:52.206Z"
      },
      {
        "duration": 5,
        "start_time": "2021-11-22T20:06:14.237Z"
      },
      {
        "duration": 13,
        "start_time": "2021-11-22T20:08:00.678Z"
      },
      {
        "duration": 7,
        "start_time": "2021-11-22T20:08:00.829Z"
      },
      {
        "duration": 81,
        "start_time": "2021-11-22T20:08:22.086Z"
      },
      {
        "duration": 5,
        "start_time": "2021-11-22T20:08:27.573Z"
      },
      {
        "duration": 15,
        "start_time": "2021-11-22T20:08:43.502Z"
      },
      {
        "duration": 3,
        "start_time": "2021-11-22T20:08:52.013Z"
      },
      {
        "duration": 62,
        "start_time": "2021-11-22T20:08:52.333Z"
      },
      {
        "duration": 12,
        "start_time": "2021-11-22T20:08:52.651Z"
      },
      {
        "duration": 10,
        "start_time": "2021-11-22T20:08:52.974Z"
      },
      {
        "duration": 4,
        "start_time": "2021-11-22T20:08:53.613Z"
      },
      {
        "duration": 10,
        "start_time": "2021-11-22T20:08:54.253Z"
      },
      {
        "duration": 14,
        "start_time": "2021-11-22T20:08:54.701Z"
      },
      {
        "duration": 6,
        "start_time": "2021-11-22T20:08:55.273Z"
      },
      {
        "duration": 10,
        "start_time": "2021-11-22T20:08:55.717Z"
      },
      {
        "duration": 5,
        "start_time": "2021-11-22T20:08:57.054Z"
      },
      {
        "duration": 12,
        "start_time": "2021-11-22T20:08:57.637Z"
      },
      {
        "duration": 12,
        "start_time": "2021-11-22T20:08:57.941Z"
      },
      {
        "duration": 15,
        "start_time": "2021-11-22T20:09:01.050Z"
      },
      {
        "duration": 19,
        "start_time": "2021-11-22T20:09:04.693Z"
      },
      {
        "duration": 9,
        "start_time": "2021-11-22T20:09:06.573Z"
      },
      {
        "duration": 23,
        "start_time": "2021-11-22T20:09:07.741Z"
      },
      {
        "duration": 17,
        "start_time": "2021-11-22T20:09:24.495Z"
      },
      {
        "duration": 17,
        "start_time": "2021-11-22T20:09:25.461Z"
      },
      {
        "duration": 46,
        "start_time": "2021-11-22T20:23:37.902Z"
      },
      {
        "duration": 10239,
        "start_time": "2021-11-22T20:26:56.437Z"
      },
      {
        "duration": 5,
        "start_time": "2021-11-22T20:28:17.525Z"
      },
      {
        "duration": 18,
        "start_time": "2021-11-22T20:28:26.511Z"
      },
      {
        "duration": 247,
        "start_time": "2021-11-22T20:35:23.588Z"
      },
      {
        "duration": 2835,
        "start_time": "2021-11-22T20:35:34.558Z"
      },
      {
        "duration": 8,
        "start_time": "2021-11-22T20:35:40.333Z"
      },
      {
        "duration": 2889,
        "start_time": "2021-11-22T20:35:50.373Z"
      },
      {
        "duration": 6,
        "start_time": "2021-11-22T20:35:57.774Z"
      },
      {
        "duration": 32089,
        "start_time": "2021-11-22T20:40:55.732Z"
      },
      {
        "duration": 9,
        "start_time": "2021-11-22T20:41:27.823Z"
      },
      {
        "duration": 17,
        "start_time": "2021-11-22T20:41:47.983Z"
      },
      {
        "duration": 90,
        "start_time": "2021-11-22T20:43:47.279Z"
      },
      {
        "duration": 62,
        "start_time": "2021-11-22T20:48:58.445Z"
      },
      {
        "duration": 11,
        "start_time": "2021-11-22T20:49:05.639Z"
      },
      {
        "duration": 5,
        "start_time": "2021-11-22T21:16:30.854Z"
      },
      {
        "duration": 8,
        "start_time": "2021-11-22T21:16:38.516Z"
      },
      {
        "duration": 9,
        "start_time": "2021-11-22T21:17:31.207Z"
      },
      {
        "duration": 4,
        "start_time": "2021-11-22T21:21:33.470Z"
      },
      {
        "duration": 7,
        "start_time": "2021-11-22T21:21:43.006Z"
      },
      {
        "duration": 3,
        "start_time": "2021-11-22T21:23:12.918Z"
      },
      {
        "duration": 9,
        "start_time": "2021-11-22T21:23:13.062Z"
      },
      {
        "duration": 279,
        "start_time": "2021-11-22T21:24:13.855Z"
      },
      {
        "duration": 11,
        "start_time": "2021-11-22T21:24:37.070Z"
      },
      {
        "duration": 4,
        "start_time": "2021-11-22T21:27:58.439Z"
      },
      {
        "duration": 4,
        "start_time": "2021-11-22T21:28:47.328Z"
      },
      {
        "duration": 4,
        "start_time": "2021-11-22T21:29:13.110Z"
      },
      {
        "duration": 5,
        "start_time": "2021-11-22T21:29:25.366Z"
      },
      {
        "duration": 78,
        "start_time": "2021-11-23T15:13:01.787Z"
      },
      {
        "duration": 82,
        "start_time": "2021-11-23T15:13:53.075Z"
      },
      {
        "duration": 87,
        "start_time": "2021-11-23T15:14:06.875Z"
      },
      {
        "duration": 89,
        "start_time": "2021-11-23T15:14:30.523Z"
      },
      {
        "duration": 3,
        "start_time": "2021-11-23T15:15:04.800Z"
      },
      {
        "duration": 279,
        "start_time": "2021-11-23T15:16:16.758Z"
      },
      {
        "duration": 580,
        "start_time": "2021-11-23T15:16:26.553Z"
      },
      {
        "duration": 48,
        "start_time": "2021-11-23T15:16:27.383Z"
      },
      {
        "duration": 18,
        "start_time": "2021-11-23T15:16:28.116Z"
      },
      {
        "duration": 11,
        "start_time": "2021-11-23T15:16:28.721Z"
      },
      {
        "duration": 4,
        "start_time": "2021-11-23T15:16:29.902Z"
      },
      {
        "duration": 4,
        "start_time": "2021-11-23T15:16:30.481Z"
      },
      {
        "duration": 3,
        "start_time": "2021-11-23T15:16:32.202Z"
      },
      {
        "duration": 8,
        "start_time": "2021-11-23T15:16:33.773Z"
      },
      {
        "duration": 12,
        "start_time": "2021-11-23T15:16:34.160Z"
      },
      {
        "duration": 5,
        "start_time": "2021-11-23T15:16:34.542Z"
      },
      {
        "duration": 8,
        "start_time": "2021-11-23T15:16:34.880Z"
      },
      {
        "duration": 4,
        "start_time": "2021-11-23T15:16:35.808Z"
      },
      {
        "duration": 10,
        "start_time": "2021-11-23T15:16:36.180Z"
      },
      {
        "duration": 10,
        "start_time": "2021-11-23T15:16:36.340Z"
      },
      {
        "duration": 13,
        "start_time": "2021-11-23T15:16:37.255Z"
      },
      {
        "duration": 10,
        "start_time": "2021-11-23T15:16:37.620Z"
      },
      {
        "duration": 6,
        "start_time": "2021-11-23T15:16:39.121Z"
      },
      {
        "duration": 14,
        "start_time": "2021-11-23T15:16:39.129Z"
      },
      {
        "duration": 16,
        "start_time": "2021-11-23T15:16:39.145Z"
      },
      {
        "duration": 15,
        "start_time": "2021-11-23T15:16:39.419Z"
      },
      {
        "duration": 6,
        "start_time": "2021-11-23T15:16:40.171Z"
      },
      {
        "duration": 6,
        "start_time": "2021-11-23T15:16:41.171Z"
      },
      {
        "duration": 28307,
        "start_time": "2021-11-23T15:16:42.160Z"
      },
      {
        "duration": 9,
        "start_time": "2021-11-23T15:17:10.469Z"
      },
      {
        "duration": 11,
        "start_time": "2021-11-23T15:17:10.488Z"
      },
      {
        "duration": 5,
        "start_time": "2021-11-23T15:17:10.501Z"
      },
      {
        "duration": 11,
        "start_time": "2021-11-23T15:17:10.507Z"
      },
      {
        "duration": 3,
        "start_time": "2021-11-23T15:17:10.520Z"
      },
      {
        "duration": 14,
        "start_time": "2021-11-23T15:17:10.524Z"
      },
      {
        "duration": 12,
        "start_time": "2021-11-23T15:17:21.263Z"
      },
      {
        "duration": 2,
        "start_time": "2021-11-23T15:18:03.139Z"
      },
      {
        "duration": 9,
        "start_time": "2021-11-23T15:18:08.772Z"
      },
      {
        "duration": 12,
        "start_time": "2021-11-23T15:18:11.083Z"
      },
      {
        "duration": 11,
        "start_time": "2021-11-23T15:19:26.843Z"
      },
      {
        "duration": 6,
        "start_time": "2021-11-23T15:19:35.763Z"
      },
      {
        "duration": 6,
        "start_time": "2021-11-23T15:19:58.435Z"
      },
      {
        "duration": 5,
        "start_time": "2021-11-23T15:22:13.541Z"
      },
      {
        "duration": 4,
        "start_time": "2021-11-23T15:22:24.575Z"
      },
      {
        "duration": 4,
        "start_time": "2021-11-23T15:22:24.622Z"
      },
      {
        "duration": 5,
        "start_time": "2021-11-23T15:23:31.799Z"
      },
      {
        "duration": 2,
        "start_time": "2021-11-23T15:23:45.561Z"
      },
      {
        "duration": 47,
        "start_time": "2021-11-23T15:23:45.720Z"
      },
      {
        "duration": 11,
        "start_time": "2021-11-23T15:23:45.927Z"
      },
      {
        "duration": 10,
        "start_time": "2021-11-23T15:23:46.030Z"
      },
      {
        "duration": 3,
        "start_time": "2021-11-23T15:23:47.819Z"
      },
      {
        "duration": 3,
        "start_time": "2021-11-23T15:23:48.380Z"
      },
      {
        "duration": 5,
        "start_time": "2021-11-23T15:25:04.486Z"
      },
      {
        "duration": 13,
        "start_time": "2021-11-23T15:26:36.313Z"
      },
      {
        "duration": 23,
        "start_time": "2021-11-23T15:29:03.725Z"
      },
      {
        "duration": 17,
        "start_time": "2021-11-23T15:31:55.812Z"
      },
      {
        "duration": 25,
        "start_time": "2021-11-23T15:32:06.613Z"
      },
      {
        "duration": 14,
        "start_time": "2021-11-23T15:32:21.514Z"
      },
      {
        "duration": 4,
        "start_time": "2021-11-23T16:57:34.756Z"
      },
      {
        "duration": 4,
        "start_time": "2021-11-23T16:58:44.676Z"
      },
      {
        "duration": 10,
        "start_time": "2021-11-23T17:00:33.710Z"
      },
      {
        "duration": 12,
        "start_time": "2021-11-23T17:02:15.762Z"
      },
      {
        "duration": 78,
        "start_time": "2021-11-23T17:02:27.122Z"
      },
      {
        "duration": 8,
        "start_time": "2021-11-23T17:02:48.738Z"
      },
      {
        "duration": 3,
        "start_time": "2021-11-23T17:04:58.374Z"
      },
      {
        "duration": 10,
        "start_time": "2021-11-23T17:05:45.320Z"
      },
      {
        "duration": 3,
        "start_time": "2021-11-23T17:13:05.637Z"
      },
      {
        "duration": 10,
        "start_time": "2021-11-23T17:13:06.628Z"
      },
      {
        "duration": 12,
        "start_time": "2021-11-23T17:13:08.039Z"
      },
      {
        "duration": 2,
        "start_time": "2021-11-23T17:13:29.396Z"
      },
      {
        "duration": 58,
        "start_time": "2021-11-23T17:13:29.400Z"
      },
      {
        "duration": 11,
        "start_time": "2021-11-23T17:13:29.460Z"
      },
      {
        "duration": 17,
        "start_time": "2021-11-23T17:13:29.473Z"
      },
      {
        "duration": 22,
        "start_time": "2021-11-23T17:13:29.492Z"
      },
      {
        "duration": 3,
        "start_time": "2021-11-23T17:13:29.516Z"
      },
      {
        "duration": 4,
        "start_time": "2021-11-23T17:13:29.678Z"
      },
      {
        "duration": 12,
        "start_time": "2021-11-23T17:13:30.036Z"
      },
      {
        "duration": 7,
        "start_time": "2021-11-23T17:13:30.354Z"
      },
      {
        "duration": 3,
        "start_time": "2021-11-23T17:13:30.642Z"
      },
      {
        "duration": 10,
        "start_time": "2021-11-23T17:13:31.038Z"
      },
      {
        "duration": 9,
        "start_time": "2021-11-23T17:13:32.185Z"
      },
      {
        "duration": 12,
        "start_time": "2021-11-23T17:13:32.462Z"
      },
      {
        "duration": 5,
        "start_time": "2021-11-23T17:13:32.834Z"
      },
      {
        "duration": 9,
        "start_time": "2021-11-23T17:13:33.155Z"
      },
      {
        "duration": 5,
        "start_time": "2021-11-23T17:13:34.026Z"
      },
      {
        "duration": 12,
        "start_time": "2021-11-23T17:13:34.518Z"
      },
      {
        "duration": 10,
        "start_time": "2021-11-23T17:13:34.991Z"
      },
      {
        "duration": 13,
        "start_time": "2021-11-23T17:13:36.750Z"
      },
      {
        "duration": 10,
        "start_time": "2021-11-23T17:13:37.030Z"
      },
      {
        "duration": 6,
        "start_time": "2021-11-23T17:13:37.309Z"
      },
      {
        "duration": 15,
        "start_time": "2021-11-23T17:13:37.830Z"
      },
      {
        "duration": 17,
        "start_time": "2021-11-23T17:13:38.150Z"
      },
      {
        "duration": 14,
        "start_time": "2021-11-23T17:13:38.550Z"
      },
      {
        "duration": 22,
        "start_time": "2021-11-23T17:13:39.251Z"
      },
      {
        "duration": 6,
        "start_time": "2021-11-23T17:13:40.034Z"
      },
      {
        "duration": 28631,
        "start_time": "2021-11-23T17:13:40.770Z"
      },
      {
        "duration": 10,
        "start_time": "2021-11-23T17:14:09.404Z"
      },
      {
        "duration": 13,
        "start_time": "2021-11-23T17:14:09.416Z"
      },
      {
        "duration": 3,
        "start_time": "2021-11-23T17:14:38.392Z"
      },
      {
        "duration": 10,
        "start_time": "2021-11-23T17:14:38.879Z"
      },
      {
        "duration": 12,
        "start_time": "2021-11-23T17:14:39.899Z"
      },
      {
        "duration": 8,
        "start_time": "2021-11-23T17:14:47.751Z"
      },
      {
        "duration": 10,
        "start_time": "2021-11-23T17:58:47.710Z"
      },
      {
        "duration": 12,
        "start_time": "2021-11-23T17:58:49.917Z"
      },
      {
        "duration": 33341,
        "start_time": "2021-11-23T19:12:10.591Z"
      },
      {
        "duration": 9,
        "start_time": "2021-11-23T19:12:43.934Z"
      },
      {
        "duration": 12,
        "start_time": "2021-11-23T19:13:02.463Z"
      },
      {
        "duration": 2,
        "start_time": "2021-11-23T19:13:37.500Z"
      },
      {
        "duration": 50,
        "start_time": "2021-11-23T19:13:37.504Z"
      },
      {
        "duration": 10,
        "start_time": "2021-11-23T19:13:37.556Z"
      },
      {
        "duration": 11,
        "start_time": "2021-11-23T19:13:37.568Z"
      },
      {
        "duration": 22,
        "start_time": "2021-11-23T19:13:37.580Z"
      },
      {
        "duration": 3,
        "start_time": "2021-11-23T19:13:37.603Z"
      },
      {
        "duration": 5,
        "start_time": "2021-11-23T19:13:37.608Z"
      },
      {
        "duration": 13,
        "start_time": "2021-11-23T19:13:37.615Z"
      },
      {
        "duration": 8,
        "start_time": "2021-11-23T19:13:37.630Z"
      },
      {
        "duration": 3,
        "start_time": "2021-11-23T19:13:37.639Z"
      },
      {
        "duration": 55,
        "start_time": "2021-11-23T19:13:37.643Z"
      },
      {
        "duration": 10,
        "start_time": "2021-11-23T19:13:37.700Z"
      },
      {
        "duration": 14,
        "start_time": "2021-11-23T19:13:37.711Z"
      },
      {
        "duration": 4,
        "start_time": "2021-11-23T19:13:37.727Z"
      },
      {
        "duration": 9,
        "start_time": "2021-11-23T19:13:37.733Z"
      },
      {
        "duration": 9,
        "start_time": "2021-11-23T19:13:37.743Z"
      },
      {
        "duration": 42,
        "start_time": "2021-11-23T19:13:37.754Z"
      },
      {
        "duration": 9,
        "start_time": "2021-11-23T19:13:37.797Z"
      },
      {
        "duration": 14,
        "start_time": "2021-11-23T19:13:37.809Z"
      },
      {
        "duration": 11,
        "start_time": "2021-11-23T19:13:37.825Z"
      },
      {
        "duration": 7,
        "start_time": "2021-11-23T19:13:37.837Z"
      },
      {
        "duration": 14,
        "start_time": "2021-11-23T19:13:37.887Z"
      },
      {
        "duration": 15,
        "start_time": "2021-11-23T19:13:37.903Z"
      },
      {
        "duration": 15,
        "start_time": "2021-11-23T19:13:37.919Z"
      },
      {
        "duration": 53,
        "start_time": "2021-11-23T19:13:37.936Z"
      },
      {
        "duration": 7,
        "start_time": "2021-11-23T19:13:37.990Z"
      },
      {
        "duration": 34438,
        "start_time": "2021-11-23T19:13:37.999Z"
      },
      {
        "duration": 11,
        "start_time": "2021-11-23T19:14:12.439Z"
      },
      {
        "duration": 13,
        "start_time": "2021-11-23T19:14:12.451Z"
      },
      {
        "duration": 3,
        "start_time": "2021-11-23T19:14:12.466Z"
      },
      {
        "duration": 9,
        "start_time": "2021-11-23T19:14:12.488Z"
      },
      {
        "duration": 14,
        "start_time": "2021-11-23T19:14:12.498Z"
      },
      {
        "duration": 7,
        "start_time": "2021-11-23T19:14:12.513Z"
      },
      {
        "duration": 87,
        "start_time": "2021-11-23T19:14:12.521Z"
      },
      {
        "duration": 13,
        "start_time": "2021-11-23T19:15:34.671Z"
      },
      {
        "duration": 12,
        "start_time": "2021-11-23T19:15:36.434Z"
      },
      {
        "duration": 7,
        "start_time": "2021-11-23T19:15:51.687Z"
      },
      {
        "duration": 6370,
        "start_time": "2021-11-23T19:17:17.055Z"
      },
      {
        "duration": 9,
        "start_time": "2021-11-23T19:17:37.396Z"
      },
      {
        "duration": 310,
        "start_time": "2021-11-23T19:18:13.421Z"
      },
      {
        "duration": 6,
        "start_time": "2021-11-23T19:18:32.480Z"
      },
      {
        "duration": 256,
        "start_time": "2021-11-23T19:30:12.844Z"
      },
      {
        "duration": 250,
        "start_time": "2021-11-23T19:30:37.724Z"
      },
      {
        "duration": 12,
        "start_time": "2021-11-23T19:32:02.091Z"
      },
      {
        "duration": 16,
        "start_time": "2021-11-23T19:32:13.304Z"
      },
      {
        "duration": 12,
        "start_time": "2021-11-23T19:33:03.112Z"
      },
      {
        "duration": 10,
        "start_time": "2021-11-23T19:34:18.593Z"
      },
      {
        "duration": 6,
        "start_time": "2021-11-23T19:35:46.247Z"
      },
      {
        "duration": 5,
        "start_time": "2021-11-23T19:37:04.330Z"
      },
      {
        "duration": 5,
        "start_time": "2021-11-23T19:37:11.296Z"
      },
      {
        "duration": 8,
        "start_time": "2021-11-23T19:37:50.113Z"
      },
      {
        "duration": 10,
        "start_time": "2021-11-23T19:38:11.760Z"
      },
      {
        "duration": 236,
        "start_time": "2021-11-23T19:38:28.820Z"
      },
      {
        "duration": 239,
        "start_time": "2021-11-23T19:38:35.521Z"
      },
      {
        "duration": 10,
        "start_time": "2021-11-23T19:38:58.674Z"
      },
      {
        "duration": 8,
        "start_time": "2021-11-23T19:40:04.838Z"
      },
      {
        "duration": 9,
        "start_time": "2021-11-23T19:40:19.953Z"
      },
      {
        "duration": 7,
        "start_time": "2021-11-23T19:41:02.788Z"
      },
      {
        "duration": 246,
        "start_time": "2021-11-23T19:41:46.731Z"
      },
      {
        "duration": 7,
        "start_time": "2021-11-23T19:41:56.385Z"
      },
      {
        "duration": 5,
        "start_time": "2021-11-23T19:42:10.738Z"
      },
      {
        "duration": 5,
        "start_time": "2021-11-23T19:42:31.169Z"
      },
      {
        "duration": 10,
        "start_time": "2021-11-23T19:42:50.475Z"
      },
      {
        "duration": 10,
        "start_time": "2021-11-23T19:44:54.352Z"
      },
      {
        "duration": 9,
        "start_time": "2021-11-23T19:45:04.992Z"
      },
      {
        "duration": 7,
        "start_time": "2021-11-23T19:45:09.653Z"
      },
      {
        "duration": 7,
        "start_time": "2021-11-23T19:45:09.946Z"
      },
      {
        "duration": 8,
        "start_time": "2021-11-23T19:45:15.222Z"
      },
      {
        "duration": 7,
        "start_time": "2021-11-23T19:45:40.259Z"
      },
      {
        "duration": 9,
        "start_time": "2021-11-23T19:46:14.201Z"
      },
      {
        "duration": 5,
        "start_time": "2021-11-23T19:46:14.877Z"
      },
      {
        "duration": 9,
        "start_time": "2021-11-23T19:46:24.769Z"
      },
      {
        "duration": 6,
        "start_time": "2021-11-23T19:46:32.176Z"
      },
      {
        "duration": 6,
        "start_time": "2021-11-23T19:49:19.232Z"
      },
      {
        "duration": 6,
        "start_time": "2021-11-23T19:49:26.402Z"
      },
      {
        "duration": 7,
        "start_time": "2021-11-23T19:50:08.304Z"
      },
      {
        "duration": 10,
        "start_time": "2021-11-23T19:51:54.621Z"
      },
      {
        "duration": 6,
        "start_time": "2021-11-23T19:52:06.112Z"
      },
      {
        "duration": 3,
        "start_time": "2021-11-23T19:52:41.707Z"
      },
      {
        "duration": 9,
        "start_time": "2021-11-23T19:52:42.276Z"
      },
      {
        "duration": 12,
        "start_time": "2021-11-23T19:52:44.332Z"
      },
      {
        "duration": 7,
        "start_time": "2021-11-23T19:52:44.931Z"
      },
      {
        "duration": 8,
        "start_time": "2021-11-23T19:52:46.961Z"
      },
      {
        "duration": 7,
        "start_time": "2021-11-23T19:52:47.195Z"
      },
      {
        "duration": 11,
        "start_time": "2021-11-23T19:52:48.370Z"
      },
      {
        "duration": 7,
        "start_time": "2021-11-23T19:52:48.589Z"
      },
      {
        "duration": 9,
        "start_time": "2021-11-23T19:52:50.617Z"
      },
      {
        "duration": 5,
        "start_time": "2021-11-23T19:52:50.879Z"
      },
      {
        "duration": 231,
        "start_time": "2021-11-23T19:53:12.558Z"
      },
      {
        "duration": 224,
        "start_time": "2021-11-23T19:53:21.672Z"
      },
      {
        "duration": 6,
        "start_time": "2021-11-23T19:53:29.305Z"
      },
      {
        "duration": 8,
        "start_time": "2021-11-23T19:59:34.814Z"
      },
      {
        "duration": 237,
        "start_time": "2021-11-23T20:00:32.627Z"
      },
      {
        "duration": 265,
        "start_time": "2021-11-23T20:01:22.048Z"
      },
      {
        "duration": 9,
        "start_time": "2021-11-23T20:02:01.224Z"
      },
      {
        "duration": 5,
        "start_time": "2021-11-23T20:02:09.458Z"
      },
      {
        "duration": 6,
        "start_time": "2021-11-23T20:02:28.504Z"
      },
      {
        "duration": 238,
        "start_time": "2021-11-23T20:02:45.679Z"
      },
      {
        "duration": 244,
        "start_time": "2021-11-23T20:03:05.222Z"
      },
      {
        "duration": 702,
        "start_time": "2021-11-23T20:03:14.921Z"
      },
      {
        "duration": 537,
        "start_time": "2021-11-23T20:03:26.139Z"
      },
      {
        "duration": 2,
        "start_time": "2021-11-23T20:03:49.051Z"
      },
      {
        "duration": 248,
        "start_time": "2021-11-23T20:04:41.541Z"
      },
      {
        "duration": 10,
        "start_time": "2021-11-23T20:05:27.404Z"
      },
      {
        "duration": 9,
        "start_time": "2021-11-23T20:05:45.129Z"
      },
      {
        "duration": 6,
        "start_time": "2021-11-23T20:05:53.225Z"
      },
      {
        "duration": 6,
        "start_time": "2021-11-23T20:06:15.788Z"
      },
      {
        "duration": 10,
        "start_time": "2021-11-23T20:06:16.112Z"
      },
      {
        "duration": 1800,
        "start_time": "2021-11-23T20:06:16.435Z"
      },
      {
        "duration": 522,
        "start_time": "2021-11-23T20:10:01.173Z"
      },
      {
        "duration": 3,
        "start_time": "2021-11-23T20:10:30.891Z"
      },
      {
        "duration": 1705,
        "start_time": "2021-11-23T20:12:13.292Z"
      },
      {
        "duration": 3,
        "start_time": "2021-11-23T20:12:58.033Z"
      },
      {
        "duration": 6647,
        "start_time": "2021-11-23T20:13:57.324Z"
      },
      {
        "duration": 3327,
        "start_time": "2021-11-23T20:14:59.113Z"
      },
      {
        "duration": 3057,
        "start_time": "2021-11-23T20:15:12.688Z"
      },
      {
        "duration": 249,
        "start_time": "2021-11-23T20:16:47.999Z"
      },
      {
        "duration": 7,
        "start_time": "2021-11-23T20:16:57.103Z"
      },
      {
        "duration": 9,
        "start_time": "2021-11-23T20:17:05.806Z"
      },
      {
        "duration": 5,
        "start_time": "2021-11-23T20:17:40.259Z"
      },
      {
        "duration": 4,
        "start_time": "2021-11-23T20:18:01.785Z"
      },
      {
        "duration": 10,
        "start_time": "2021-11-23T20:18:10.251Z"
      },
      {
        "duration": 6,
        "start_time": "2021-11-23T20:18:41.514Z"
      },
      {
        "duration": 505,
        "start_time": "2021-11-23T20:19:14.675Z"
      },
      {
        "duration": 2,
        "start_time": "2021-11-23T20:25:16.923Z"
      },
      {
        "duration": 275,
        "start_time": "2021-11-23T20:25:27.226Z"
      },
      {
        "duration": 6,
        "start_time": "2021-11-23T20:25:42.946Z"
      },
      {
        "duration": 152,
        "start_time": "2021-11-23T20:41:43.199Z"
      },
      {
        "duration": 163,
        "start_time": "2021-11-23T20:42:25.160Z"
      },
      {
        "duration": 149,
        "start_time": "2021-11-23T20:44:41.856Z"
      },
      {
        "duration": 251,
        "start_time": "2021-11-23T20:45:16.671Z"
      },
      {
        "duration": 477,
        "start_time": "2021-11-23T20:45:45.687Z"
      },
      {
        "duration": 153,
        "start_time": "2021-11-23T20:45:57.411Z"
      },
      {
        "duration": 138,
        "start_time": "2021-11-23T20:47:33.824Z"
      },
      {
        "duration": 271,
        "start_time": "2021-11-23T20:47:48.823Z"
      },
      {
        "duration": 150,
        "start_time": "2021-11-23T20:47:59.775Z"
      },
      {
        "duration": 371,
        "start_time": "2021-11-23T20:48:28.543Z"
      },
      {
        "duration": 139,
        "start_time": "2021-11-23T20:48:58.831Z"
      },
      {
        "duration": 150,
        "start_time": "2021-11-23T20:49:23.996Z"
      },
      {
        "duration": 127,
        "start_time": "2021-11-23T20:50:09.080Z"
      },
      {
        "duration": 6883,
        "start_time": "2021-11-23T20:51:35.067Z"
      },
      {
        "duration": 12,
        "start_time": "2021-11-23T20:51:45.612Z"
      },
      {
        "duration": 1144,
        "start_time": "2021-11-23T20:56:09.342Z"
      },
      {
        "duration": 6297,
        "start_time": "2021-11-23T20:57:53.094Z"
      },
      {
        "duration": 517,
        "start_time": "2021-11-23T20:58:10.764Z"
      },
      {
        "duration": 1824,
        "start_time": "2021-11-23T21:01:29.480Z"
      },
      {
        "duration": 3,
        "start_time": "2021-11-23T21:02:36.015Z"
      },
      {
        "duration": 49,
        "start_time": "2021-11-23T21:02:36.193Z"
      },
      {
        "duration": 13,
        "start_time": "2021-11-23T21:02:36.355Z"
      },
      {
        "duration": 12,
        "start_time": "2021-11-23T21:02:36.550Z"
      },
      {
        "duration": 25,
        "start_time": "2021-11-23T21:02:36.867Z"
      },
      {
        "duration": 3,
        "start_time": "2021-11-23T21:02:37.624Z"
      },
      {
        "duration": 4,
        "start_time": "2021-11-23T21:02:37.961Z"
      },
      {
        "duration": 15,
        "start_time": "2021-11-23T21:02:38.291Z"
      },
      {
        "duration": 7,
        "start_time": "2021-11-23T21:02:38.592Z"
      },
      {
        "duration": 4,
        "start_time": "2021-11-23T21:02:39.131Z"
      },
      {
        "duration": 11,
        "start_time": "2021-11-23T21:02:39.476Z"
      },
      {
        "duration": 10,
        "start_time": "2021-11-23T21:02:40.099Z"
      },
      {
        "duration": 15,
        "start_time": "2021-11-23T21:02:40.476Z"
      },
      {
        "duration": 7,
        "start_time": "2021-11-23T21:02:43.160Z"
      },
      {
        "duration": 11,
        "start_time": "2021-11-23T21:02:44.079Z"
      },
      {
        "duration": 5,
        "start_time": "2021-11-23T21:02:45.660Z"
      },
      {
        "duration": 13,
        "start_time": "2021-11-23T21:02:46.072Z"
      },
      {
        "duration": 10,
        "start_time": "2021-11-23T21:02:46.250Z"
      },
      {
        "duration": 17,
        "start_time": "2021-11-23T21:02:47.800Z"
      },
      {
        "duration": 11,
        "start_time": "2021-11-23T21:02:48.556Z"
      },
      {
        "duration": 7,
        "start_time": "2021-11-23T21:02:50.079Z"
      },
      {
        "duration": 17,
        "start_time": "2021-11-23T21:02:51.219Z"
      },
      {
        "duration": 19,
        "start_time": "2021-11-23T21:02:52.211Z"
      },
      {
        "duration": 17,
        "start_time": "2021-11-23T21:02:53.211Z"
      },
      {
        "duration": 27,
        "start_time": "2021-11-23T21:02:54.351Z"
      },
      {
        "duration": 7,
        "start_time": "2021-11-23T21:02:54.852Z"
      },
      {
        "duration": 36162,
        "start_time": "2021-11-23T21:02:55.516Z"
      },
      {
        "duration": 12,
        "start_time": "2021-11-23T21:03:31.681Z"
      },
      {
        "duration": 13,
        "start_time": "2021-11-23T21:03:31.695Z"
      },
      {
        "duration": 6,
        "start_time": "2021-11-23T21:03:31.710Z"
      },
      {
        "duration": 12,
        "start_time": "2021-11-23T21:03:31.717Z"
      },
      {
        "duration": 15,
        "start_time": "2021-11-23T21:03:31.730Z"
      },
      {
        "duration": 46,
        "start_time": "2021-11-23T21:03:31.747Z"
      },
      {
        "duration": 5,
        "start_time": "2021-11-23T21:03:38.119Z"
      },
      {
        "duration": 166,
        "start_time": "2021-11-23T21:03:43.981Z"
      },
      {
        "duration": 9,
        "start_time": "2021-11-23T21:04:41.706Z"
      },
      {
        "duration": 263,
        "start_time": "2021-11-23T21:05:08.234Z"
      },
      {
        "duration": 249,
        "start_time": "2021-11-23T21:05:28.721Z"
      },
      {
        "duration": 11,
        "start_time": "2021-11-23T21:05:46.107Z"
      },
      {
        "duration": 254,
        "start_time": "2021-11-23T21:06:28.006Z"
      },
      {
        "duration": 13,
        "start_time": "2021-11-23T21:06:40.429Z"
      },
      {
        "duration": 4,
        "start_time": "2021-11-23T21:07:37.221Z"
      },
      {
        "duration": 4,
        "start_time": "2021-11-23T21:08:05.820Z"
      },
      {
        "duration": 12,
        "start_time": "2021-11-23T21:20:13.656Z"
      },
      {
        "duration": 153,
        "start_time": "2021-11-23T21:20:51.667Z"
      },
      {
        "duration": 15,
        "start_time": "2021-11-23T21:21:31.164Z"
      },
      {
        "duration": 244,
        "start_time": "2021-11-23T21:21:45.898Z"
      },
      {
        "duration": 12,
        "start_time": "2021-11-23T21:21:51.333Z"
      },
      {
        "duration": 206,
        "start_time": "2021-11-23T21:23:26.791Z"
      },
      {
        "duration": 190,
        "start_time": "2021-11-23T21:23:50.840Z"
      },
      {
        "duration": 11,
        "start_time": "2021-11-23T21:24:11.269Z"
      },
      {
        "duration": 160,
        "start_time": "2021-11-23T21:24:18.021Z"
      },
      {
        "duration": 11,
        "start_time": "2021-11-23T21:24:51.302Z"
      },
      {
        "duration": 147,
        "start_time": "2021-11-23T21:27:45.746Z"
      },
      {
        "duration": 10,
        "start_time": "2021-11-23T21:28:56.976Z"
      },
      {
        "duration": 155,
        "start_time": "2021-11-23T21:29:04.324Z"
      },
      {
        "duration": 604,
        "start_time": "2021-11-24T15:03:23.567Z"
      },
      {
        "duration": 53,
        "start_time": "2021-11-24T15:03:24.173Z"
      },
      {
        "duration": 20,
        "start_time": "2021-11-24T15:03:24.485Z"
      },
      {
        "duration": 11,
        "start_time": "2021-11-24T15:03:25.006Z"
      },
      {
        "duration": 21,
        "start_time": "2021-11-24T15:03:25.908Z"
      },
      {
        "duration": 4,
        "start_time": "2021-11-24T15:03:28.160Z"
      },
      {
        "duration": 5,
        "start_time": "2021-11-24T15:03:29.325Z"
      },
      {
        "duration": 13,
        "start_time": "2021-11-24T15:03:29.606Z"
      },
      {
        "duration": 7,
        "start_time": "2021-11-24T15:03:29.865Z"
      },
      {
        "duration": 5,
        "start_time": "2021-11-24T15:03:30.154Z"
      },
      {
        "duration": 12,
        "start_time": "2021-11-24T15:03:30.433Z"
      },
      {
        "duration": 11,
        "start_time": "2021-11-24T15:03:31.125Z"
      },
      {
        "duration": 19,
        "start_time": "2021-11-24T15:03:31.547Z"
      },
      {
        "duration": 6,
        "start_time": "2021-11-24T15:03:31.926Z"
      },
      {
        "duration": 13,
        "start_time": "2021-11-24T15:03:32.185Z"
      },
      {
        "duration": 5,
        "start_time": "2021-11-24T15:03:32.937Z"
      },
      {
        "duration": 12,
        "start_time": "2021-11-24T15:03:34.263Z"
      },
      {
        "duration": 10,
        "start_time": "2021-11-24T15:03:34.277Z"
      },
      {
        "duration": 18,
        "start_time": "2021-11-24T15:03:35.806Z"
      },
      {
        "duration": 19,
        "start_time": "2021-11-24T15:03:36.141Z"
      },
      {
        "duration": 8,
        "start_time": "2021-11-24T15:03:36.425Z"
      },
      {
        "duration": 19,
        "start_time": "2021-11-24T15:03:36.753Z"
      },
      {
        "duration": 19,
        "start_time": "2021-11-24T15:03:37.205Z"
      },
      {
        "duration": 23,
        "start_time": "2021-11-24T15:03:37.446Z"
      },
      {
        "duration": 13,
        "start_time": "2021-11-24T15:03:38.253Z"
      },
      {
        "duration": 5,
        "start_time": "2021-11-24T15:03:38.493Z"
      },
      {
        "duration": 40933,
        "start_time": "2021-11-24T15:03:39.125Z"
      },
      {
        "duration": 10,
        "start_time": "2021-11-24T15:04:20.061Z"
      },
      {
        "duration": 25,
        "start_time": "2021-11-24T15:04:20.074Z"
      },
      {
        "duration": 13,
        "start_time": "2021-11-24T15:04:20.101Z"
      },
      {
        "duration": 39,
        "start_time": "2021-11-24T15:04:20.116Z"
      },
      {
        "duration": 3,
        "start_time": "2021-11-24T15:05:14.758Z"
      },
      {
        "duration": 59,
        "start_time": "2021-11-24T15:05:14.763Z"
      },
      {
        "duration": 16,
        "start_time": "2021-11-24T15:05:14.824Z"
      },
      {
        "duration": 24,
        "start_time": "2021-11-24T15:05:14.846Z"
      },
      {
        "duration": 30,
        "start_time": "2021-11-24T15:05:14.873Z"
      },
      {
        "duration": 4,
        "start_time": "2021-11-24T15:05:14.905Z"
      },
      {
        "duration": 35,
        "start_time": "2021-11-24T15:05:14.911Z"
      },
      {
        "duration": 15,
        "start_time": "2021-11-24T15:05:14.948Z"
      },
      {
        "duration": 14,
        "start_time": "2021-11-24T15:05:14.966Z"
      },
      {
        "duration": 5,
        "start_time": "2021-11-24T15:05:14.982Z"
      },
      {
        "duration": 25,
        "start_time": "2021-11-24T15:05:14.988Z"
      },
      {
        "duration": 33,
        "start_time": "2021-11-24T15:05:15.017Z"
      },
      {
        "duration": 15,
        "start_time": "2021-11-24T15:05:15.052Z"
      },
      {
        "duration": 7,
        "start_time": "2021-11-24T15:05:15.069Z"
      },
      {
        "duration": 25,
        "start_time": "2021-11-24T15:05:15.078Z"
      },
      {
        "duration": 6,
        "start_time": "2021-11-24T15:05:15.106Z"
      },
      {
        "duration": 46,
        "start_time": "2021-11-24T15:05:15.115Z"
      },
      {
        "duration": 22,
        "start_time": "2021-11-24T15:05:15.164Z"
      },
      {
        "duration": 34,
        "start_time": "2021-11-24T15:05:15.189Z"
      },
      {
        "duration": 22,
        "start_time": "2021-11-24T15:05:15.225Z"
      },
      {
        "duration": 9,
        "start_time": "2021-11-24T15:05:15.249Z"
      },
      {
        "duration": 49,
        "start_time": "2021-11-24T15:05:15.260Z"
      },
      {
        "duration": 35,
        "start_time": "2021-11-24T15:05:15.313Z"
      },
      {
        "duration": 17,
        "start_time": "2021-11-24T15:05:15.349Z"
      },
      {
        "duration": 33,
        "start_time": "2021-11-24T15:05:15.368Z"
      },
      {
        "duration": 9,
        "start_time": "2021-11-24T15:05:15.403Z"
      },
      {
        "duration": 13,
        "start_time": "2021-11-24T15:06:39.432Z"
      },
      {
        "duration": 56,
        "start_time": "2021-11-24T15:06:39.447Z"
      },
      {
        "duration": 13,
        "start_time": "2021-11-24T15:06:39.504Z"
      },
      {
        "duration": 12,
        "start_time": "2021-11-24T15:06:39.519Z"
      },
      {
        "duration": 29,
        "start_time": "2021-11-24T15:06:39.533Z"
      },
      {
        "duration": 22,
        "start_time": "2021-11-24T15:06:44.322Z"
      },
      {
        "duration": 4,
        "start_time": "2021-11-24T15:06:46.628Z"
      },
      {
        "duration": 5,
        "start_time": "2021-11-24T15:06:47.372Z"
      },
      {
        "duration": 13,
        "start_time": "2021-11-24T15:06:48.121Z"
      },
      {
        "duration": 8,
        "start_time": "2021-11-24T15:06:48.701Z"
      },
      {
        "duration": 4,
        "start_time": "2021-11-24T15:06:49.168Z"
      },
      {
        "duration": 12,
        "start_time": "2021-11-24T15:06:49.600Z"
      },
      {
        "duration": 11,
        "start_time": "2021-11-24T15:06:50.580Z"
      },
      {
        "duration": 14,
        "start_time": "2021-11-24T15:06:51.160Z"
      },
      {
        "duration": 6,
        "start_time": "2021-11-24T15:06:51.588Z"
      },
      {
        "duration": 10,
        "start_time": "2021-11-24T15:06:52.061Z"
      },
      {
        "duration": 5,
        "start_time": "2021-11-24T15:06:53.101Z"
      },
      {
        "duration": 12,
        "start_time": "2021-11-24T15:06:53.549Z"
      },
      {
        "duration": 12,
        "start_time": "2021-11-24T15:06:53.720Z"
      },
      {
        "duration": 15,
        "start_time": "2021-11-24T15:06:54.781Z"
      },
      {
        "duration": 12,
        "start_time": "2021-11-24T15:06:55.540Z"
      },
      {
        "duration": 6,
        "start_time": "2021-11-24T15:06:56.109Z"
      },
      {
        "duration": 17,
        "start_time": "2021-11-24T15:06:56.882Z"
      },
      {
        "duration": 19,
        "start_time": "2021-11-24T15:06:57.529Z"
      },
      {
        "duration": 18,
        "start_time": "2021-11-24T15:06:57.921Z"
      },
      {
        "duration": 27,
        "start_time": "2021-11-24T15:06:58.761Z"
      },
      {
        "duration": 6,
        "start_time": "2021-11-24T15:07:03.780Z"
      },
      {
        "duration": 41805,
        "start_time": "2021-11-24T15:07:13.540Z"
      },
      {
        "duration": 10,
        "start_time": "2021-11-24T15:07:55.347Z"
      },
      {
        "duration": 14,
        "start_time": "2021-11-24T15:07:55.360Z"
      },
      {
        "duration": 3,
        "start_time": "2021-11-24T15:08:33.020Z"
      },
      {
        "duration": 10,
        "start_time": "2021-11-24T15:08:34.617Z"
      },
      {
        "duration": 14,
        "start_time": "2021-11-24T15:08:35.997Z"
      },
      {
        "duration": 7,
        "start_time": "2021-11-24T15:09:05.017Z"
      },
      {
        "duration": 14,
        "start_time": "2021-11-24T15:10:37.758Z"
      },
      {
        "duration": 9,
        "start_time": "2021-11-24T15:10:46.697Z"
      },
      {
        "duration": 8,
        "start_time": "2021-11-24T15:10:46.857Z"
      },
      {
        "duration": 13,
        "start_time": "2021-11-24T15:11:18.737Z"
      },
      {
        "duration": 12,
        "start_time": "2021-11-24T15:11:32.437Z"
      },
      {
        "duration": 11,
        "start_time": "2021-11-24T15:11:45.019Z"
      },
      {
        "duration": 10,
        "start_time": "2021-11-24T15:11:54.777Z"
      },
      {
        "duration": 4,
        "start_time": "2021-11-24T15:14:18.019Z"
      },
      {
        "duration": 3,
        "start_time": "2021-11-24T15:23:13.694Z"
      },
      {
        "duration": 8,
        "start_time": "2021-11-24T15:24:17.815Z"
      },
      {
        "duration": 15,
        "start_time": "2021-11-24T15:25:00.976Z"
      },
      {
        "duration": 7,
        "start_time": "2021-11-24T15:25:19.888Z"
      },
      {
        "duration": 7,
        "start_time": "2021-11-24T15:25:28.776Z"
      },
      {
        "duration": 18,
        "start_time": "2021-11-24T15:26:25.570Z"
      },
      {
        "duration": 92,
        "start_time": "2021-11-24T15:27:48.763Z"
      },
      {
        "duration": 11,
        "start_time": "2021-11-24T15:27:54.603Z"
      },
      {
        "duration": 166,
        "start_time": "2021-11-24T15:28:03.451Z"
      },
      {
        "duration": 3,
        "start_time": "2021-11-24T15:28:58.167Z"
      },
      {
        "duration": 13,
        "start_time": "2021-11-24T15:28:58.973Z"
      },
      {
        "duration": 15,
        "start_time": "2021-11-24T15:28:59.701Z"
      },
      {
        "duration": 8,
        "start_time": "2021-11-24T15:29:00.275Z"
      },
      {
        "duration": 233,
        "start_time": "2021-11-24T15:29:34.588Z"
      },
      {
        "duration": 13,
        "start_time": "2021-11-24T15:30:31.195Z"
      },
      {
        "duration": 14,
        "start_time": "2021-11-24T15:30:38.655Z"
      },
      {
        "duration": 4,
        "start_time": "2021-11-24T15:31:32.387Z"
      },
      {
        "duration": 11,
        "start_time": "2021-11-24T15:31:33.120Z"
      },
      {
        "duration": 14,
        "start_time": "2021-11-24T15:31:33.609Z"
      },
      {
        "duration": 6,
        "start_time": "2021-11-24T15:31:34.260Z"
      },
      {
        "duration": 12,
        "start_time": "2021-11-24T15:31:36.038Z"
      },
      {
        "duration": 194,
        "start_time": "2021-11-24T15:31:37.099Z"
      },
      {
        "duration": 3,
        "start_time": "2021-11-24T15:34:02.034Z"
      },
      {
        "duration": 18,
        "start_time": "2021-11-24T15:34:02.474Z"
      },
      {
        "duration": 20,
        "start_time": "2021-11-24T15:34:02.914Z"
      },
      {
        "duration": 7,
        "start_time": "2021-11-24T15:34:04.068Z"
      },
      {
        "duration": 14,
        "start_time": "2021-11-24T15:34:06.211Z"
      },
      {
        "duration": 3,
        "start_time": "2021-11-24T15:34:13.147Z"
      },
      {
        "duration": 11,
        "start_time": "2021-11-24T15:34:13.394Z"
      },
      {
        "duration": 15,
        "start_time": "2021-11-24T15:34:13.653Z"
      },
      {
        "duration": 7,
        "start_time": "2021-11-24T15:34:13.838Z"
      },
      {
        "duration": 12,
        "start_time": "2021-11-24T15:34:14.626Z"
      },
      {
        "duration": 191,
        "start_time": "2021-11-24T15:34:15.766Z"
      },
      {
        "duration": 13,
        "start_time": "2021-11-24T15:35:24.238Z"
      },
      {
        "duration": 175,
        "start_time": "2021-11-24T15:35:48.508Z"
      },
      {
        "duration": 11,
        "start_time": "2021-11-24T15:36:21.801Z"
      },
      {
        "duration": 11,
        "start_time": "2021-11-24T15:36:31.167Z"
      },
      {
        "duration": 10,
        "start_time": "2021-11-24T15:37:46.545Z"
      },
      {
        "duration": 8,
        "start_time": "2021-11-24T15:37:46.726Z"
      },
      {
        "duration": 10,
        "start_time": "2021-11-24T15:38:29.816Z"
      },
      {
        "duration": 12,
        "start_time": "2021-11-24T15:38:30.026Z"
      },
      {
        "duration": 177,
        "start_time": "2021-11-24T15:38:30.165Z"
      },
      {
        "duration": 13,
        "start_time": "2021-11-24T15:38:48.652Z"
      },
      {
        "duration": 4,
        "start_time": "2021-11-24T15:40:32.014Z"
      },
      {
        "duration": 12,
        "start_time": "2021-11-24T15:40:32.126Z"
      },
      {
        "duration": 17,
        "start_time": "2021-11-24T15:40:32.805Z"
      },
      {
        "duration": 6,
        "start_time": "2021-11-24T15:40:33.745Z"
      },
      {
        "duration": 11,
        "start_time": "2021-11-24T15:40:41.499Z"
      },
      {
        "duration": 275,
        "start_time": "2021-11-24T15:40:44.693Z"
      },
      {
        "duration": 389,
        "start_time": "2021-11-24T15:41:03.166Z"
      },
      {
        "duration": 283,
        "start_time": "2021-11-24T15:41:11.464Z"
      },
      {
        "duration": 29,
        "start_time": "2021-11-24T15:43:44.665Z"
      },
      {
        "duration": 26,
        "start_time": "2021-11-24T15:43:58.404Z"
      },
      {
        "duration": 29,
        "start_time": "2021-11-24T15:44:15.024Z"
      },
      {
        "duration": 22,
        "start_time": "2021-11-24T15:44:25.705Z"
      },
      {
        "duration": 10,
        "start_time": "2021-11-24T15:47:42.867Z"
      },
      {
        "duration": 7,
        "start_time": "2021-11-24T15:47:43.159Z"
      },
      {
        "duration": 10,
        "start_time": "2021-11-24T16:27:22.471Z"
      },
      {
        "duration": 12,
        "start_time": "2021-11-24T16:27:23.184Z"
      },
      {
        "duration": 183,
        "start_time": "2021-11-24T16:27:33.676Z"
      },
      {
        "duration": 9,
        "start_time": "2021-11-24T16:27:41.715Z"
      },
      {
        "duration": 13,
        "start_time": "2021-11-24T16:27:42.828Z"
      },
      {
        "duration": 193,
        "start_time": "2021-11-24T16:27:43.009Z"
      },
      {
        "duration": 11,
        "start_time": "2021-11-24T16:27:57.888Z"
      },
      {
        "duration": 15,
        "start_time": "2021-11-24T16:27:59.329Z"
      },
      {
        "duration": 155,
        "start_time": "2021-11-24T16:28:00.481Z"
      },
      {
        "duration": 10,
        "start_time": "2021-11-24T16:28:48.221Z"
      },
      {
        "duration": 13,
        "start_time": "2021-11-24T16:28:50.561Z"
      },
      {
        "duration": 174,
        "start_time": "2021-11-24T16:28:53.873Z"
      },
      {
        "duration": 9,
        "start_time": "2021-11-24T16:29:12.993Z"
      },
      {
        "duration": 13,
        "start_time": "2021-11-24T16:29:13.741Z"
      },
      {
        "duration": 249,
        "start_time": "2021-11-24T16:29:14.297Z"
      },
      {
        "duration": 3,
        "start_time": "2021-11-24T16:34:35.750Z"
      },
      {
        "duration": 12,
        "start_time": "2021-11-24T16:35:17.999Z"
      },
      {
        "duration": 22,
        "start_time": "2021-11-24T16:35:30.141Z"
      },
      {
        "duration": 13,
        "start_time": "2021-11-24T16:36:58.873Z"
      },
      {
        "duration": 202,
        "start_time": "2021-11-24T16:37:13.905Z"
      },
      {
        "duration": 192,
        "start_time": "2021-11-24T16:37:36.576Z"
      },
      {
        "duration": 11,
        "start_time": "2021-11-24T16:39:32.155Z"
      },
      {
        "duration": 87,
        "start_time": "2021-11-24T16:43:18.194Z"
      },
      {
        "duration": 295,
        "start_time": "2021-11-24T16:48:20.490Z"
      },
      {
        "duration": 9,
        "start_time": "2021-11-24T16:48:25.619Z"
      },
      {
        "duration": 16,
        "start_time": "2021-11-24T16:48:26.352Z"
      },
      {
        "duration": 207,
        "start_time": "2021-11-24T16:48:43.684Z"
      },
      {
        "duration": 14,
        "start_time": "2021-11-24T16:53:26.183Z"
      },
      {
        "duration": 5,
        "start_time": "2021-11-24T17:55:37.571Z"
      },
      {
        "duration": 6,
        "start_time": "2021-11-24T18:02:52.818Z"
      },
      {
        "duration": 3,
        "start_time": "2021-11-24T18:03:05.965Z"
      },
      {
        "duration": 49,
        "start_time": "2021-11-24T18:03:06.849Z"
      },
      {
        "duration": 14,
        "start_time": "2021-11-24T18:03:07.069Z"
      },
      {
        "duration": 10,
        "start_time": "2021-11-24T18:03:07.320Z"
      },
      {
        "duration": 22,
        "start_time": "2021-11-24T18:03:07.783Z"
      },
      {
        "duration": 4,
        "start_time": "2021-11-24T18:03:11.061Z"
      },
      {
        "duration": 4,
        "start_time": "2021-11-24T18:03:11.836Z"
      },
      {
        "duration": 12,
        "start_time": "2021-11-24T18:03:12.383Z"
      },
      {
        "duration": 8,
        "start_time": "2021-11-24T18:03:12.831Z"
      },
      {
        "duration": 4,
        "start_time": "2021-11-24T18:03:13.435Z"
      },
      {
        "duration": 5,
        "start_time": "2021-11-24T18:03:13.779Z"
      },
      {
        "duration": 11,
        "start_time": "2021-11-24T18:03:16.063Z"
      },
      {
        "duration": 14,
        "start_time": "2021-11-24T18:03:17.648Z"
      },
      {
        "duration": 6,
        "start_time": "2021-11-24T18:03:18.173Z"
      },
      {
        "duration": 10,
        "start_time": "2021-11-24T18:03:18.985Z"
      },
      {
        "duration": 5,
        "start_time": "2021-11-24T18:03:22.327Z"
      },
      {
        "duration": 12,
        "start_time": "2021-11-24T18:03:22.655Z"
      },
      {
        "duration": 11,
        "start_time": "2021-11-24T18:03:22.839Z"
      },
      {
        "duration": 5,
        "start_time": "2021-11-24T18:03:28.295Z"
      },
      {
        "duration": 12,
        "start_time": "2021-11-24T18:04:04.512Z"
      },
      {
        "duration": 6,
        "start_time": "2021-11-24T18:04:04.795Z"
      },
      {
        "duration": 17,
        "start_time": "2021-11-24T18:04:09.413Z"
      },
      {
        "duration": 18,
        "start_time": "2021-11-24T18:04:14.798Z"
      },
      {
        "duration": 16,
        "start_time": "2021-11-24T18:04:15.840Z"
      },
      {
        "duration": 4,
        "start_time": "2021-11-24T18:10:11.242Z"
      },
      {
        "duration": 7084,
        "start_time": "2021-11-24T18:10:12.745Z"
      },
      {
        "duration": -199,
        "start_time": "2021-11-24T18:10:20.029Z"
      },
      {
        "duration": 2,
        "start_time": "2021-11-24T18:10:27.498Z"
      },
      {
        "duration": 49,
        "start_time": "2021-11-24T18:10:27.641Z"
      },
      {
        "duration": 13,
        "start_time": "2021-11-24T18:10:27.805Z"
      },
      {
        "duration": 13,
        "start_time": "2021-11-24T18:10:27.933Z"
      },
      {
        "duration": 26,
        "start_time": "2021-11-24T18:10:28.242Z"
      },
      {
        "duration": 4,
        "start_time": "2021-11-24T18:10:28.957Z"
      },
      {
        "duration": 5,
        "start_time": "2021-11-24T18:10:29.297Z"
      },
      {
        "duration": 13,
        "start_time": "2021-11-24T18:10:29.587Z"
      },
      {
        "duration": 7,
        "start_time": "2021-11-24T18:10:29.901Z"
      },
      {
        "duration": 4,
        "start_time": "2021-11-24T18:10:30.225Z"
      },
      {
        "duration": 4,
        "start_time": "2021-11-24T18:10:30.537Z"
      },
      {
        "duration": 11,
        "start_time": "2021-11-24T18:10:31.034Z"
      },
      {
        "duration": 14,
        "start_time": "2021-11-24T18:10:31.745Z"
      },
      {
        "duration": 7,
        "start_time": "2021-11-24T18:10:32.104Z"
      },
      {
        "duration": 10,
        "start_time": "2021-11-24T18:10:32.421Z"
      },
      {
        "duration": 5,
        "start_time": "2021-11-24T18:10:33.641Z"
      },
      {
        "duration": 13,
        "start_time": "2021-11-24T18:10:34.009Z"
      },
      {
        "duration": 11,
        "start_time": "2021-11-24T18:10:34.197Z"
      },
      {
        "duration": 5,
        "start_time": "2021-11-24T18:10:35.201Z"
      },
      {
        "duration": 12,
        "start_time": "2021-11-24T18:10:36.028Z"
      },
      {
        "duration": 6,
        "start_time": "2021-11-24T18:10:36.433Z"
      },
      {
        "duration": 16,
        "start_time": "2021-11-24T18:10:36.841Z"
      },
      {
        "duration": 20,
        "start_time": "2021-11-24T18:10:37.245Z"
      },
      {
        "duration": 17,
        "start_time": "2021-11-24T18:10:37.652Z"
      },
      {
        "duration": 3,
        "start_time": "2021-11-24T18:10:38.458Z"
      },
      {
        "duration": 7,
        "start_time": "2021-11-24T18:10:38.911Z"
      },
      {
        "duration": 38185,
        "start_time": "2021-11-24T18:10:39.301Z"
      },
      {
        "duration": 10,
        "start_time": "2021-11-24T18:11:17.488Z"
      },
      {
        "duration": 12,
        "start_time": "2021-11-24T18:11:17.501Z"
      },
      {
        "duration": 29,
        "start_time": "2021-11-24T18:11:17.515Z"
      },
      {
        "duration": 11,
        "start_time": "2021-11-24T18:11:17.546Z"
      },
      {
        "duration": 10,
        "start_time": "2021-11-24T18:11:43.291Z"
      },
      {
        "duration": 15,
        "start_time": "2021-11-24T18:11:49.022Z"
      },
      {
        "duration": 8,
        "start_time": "2021-11-24T18:11:59.040Z"
      },
      {
        "duration": 3,
        "start_time": "2021-11-24T19:20:54.173Z"
      },
      {
        "duration": 10,
        "start_time": "2021-11-24T19:20:54.668Z"
      },
      {
        "duration": 15,
        "start_time": "2021-11-24T19:20:55.271Z"
      },
      {
        "duration": 6,
        "start_time": "2021-11-24T19:21:23.417Z"
      },
      {
        "duration": 5,
        "start_time": "2021-11-24T19:22:19.845Z"
      },
      {
        "duration": 12,
        "start_time": "2021-11-24T19:22:20.501Z"
      },
      {
        "duration": 204,
        "start_time": "2021-11-24T19:22:25.103Z"
      },
      {
        "duration": 4,
        "start_time": "2021-11-24T19:28:10.297Z"
      },
      {
        "duration": 4,
        "start_time": "2021-11-24T19:28:21.094Z"
      },
      {
        "duration": 14,
        "start_time": "2021-11-24T19:31:22.683Z"
      },
      {
        "duration": 13,
        "start_time": "2021-11-24T19:31:32.702Z"
      },
      {
        "duration": 2,
        "start_time": "2021-11-24T19:32:56.236Z"
      },
      {
        "duration": 55,
        "start_time": "2021-11-24T19:32:56.240Z"
      },
      {
        "duration": 14,
        "start_time": "2021-11-24T19:32:56.297Z"
      },
      {
        "duration": 12,
        "start_time": "2021-11-24T19:32:56.313Z"
      },
      {
        "duration": 37,
        "start_time": "2021-11-24T19:32:56.327Z"
      },
      {
        "duration": 3,
        "start_time": "2021-11-24T19:32:56.366Z"
      },
      {
        "duration": 6,
        "start_time": "2021-11-24T19:32:56.372Z"
      },
      {
        "duration": 12,
        "start_time": "2021-11-24T19:32:56.380Z"
      },
      {
        "duration": 56,
        "start_time": "2021-11-24T19:32:56.394Z"
      },
      {
        "duration": 3,
        "start_time": "2021-11-24T19:32:56.452Z"
      },
      {
        "duration": 8,
        "start_time": "2021-11-24T19:32:56.457Z"
      },
      {
        "duration": 11,
        "start_time": "2021-11-24T19:32:56.466Z"
      },
      {
        "duration": 15,
        "start_time": "2021-11-24T19:32:56.479Z"
      },
      {
        "duration": 6,
        "start_time": "2021-11-24T19:32:56.495Z"
      },
      {
        "duration": 43,
        "start_time": "2021-11-24T19:32:56.503Z"
      },
      {
        "duration": 4,
        "start_time": "2021-11-24T19:32:56.548Z"
      },
      {
        "duration": 13,
        "start_time": "2021-11-24T19:32:56.554Z"
      },
      {
        "duration": 11,
        "start_time": "2021-11-24T19:32:56.569Z"
      },
      {
        "duration": 5,
        "start_time": "2021-11-24T19:32:56.585Z"
      },
      {
        "duration": 52,
        "start_time": "2021-11-24T19:32:56.594Z"
      },
      {
        "duration": 8,
        "start_time": "2021-11-24T19:32:56.648Z"
      },
      {
        "duration": 18,
        "start_time": "2021-11-24T19:32:56.658Z"
      },
      {
        "duration": 21,
        "start_time": "2021-11-24T19:32:56.678Z"
      },
      {
        "duration": 51,
        "start_time": "2021-11-24T19:32:56.701Z"
      },
      {
        "duration": 3,
        "start_time": "2021-11-24T19:32:56.754Z"
      },
      {
        "duration": 9,
        "start_time": "2021-11-24T19:32:56.759Z"
      },
      {
        "duration": 39366,
        "start_time": "2021-11-24T19:32:56.769Z"
      },
      {
        "duration": 10,
        "start_time": "2021-11-24T19:33:36.137Z"
      },
      {
        "duration": 14,
        "start_time": "2021-11-24T19:33:36.149Z"
      },
      {
        "duration": 5,
        "start_time": "2021-11-24T19:33:36.164Z"
      },
      {
        "duration": 12,
        "start_time": "2021-11-24T19:33:36.171Z"
      },
      {
        "duration": 15,
        "start_time": "2021-11-24T19:33:36.184Z"
      },
      {
        "duration": 10,
        "start_time": "2021-11-24T19:33:36.201Z"
      },
      {
        "duration": 37,
        "start_time": "2021-11-24T19:33:36.213Z"
      },
      {
        "duration": 4,
        "start_time": "2021-11-24T19:33:36.252Z"
      },
      {
        "duration": 6,
        "start_time": "2021-11-24T19:33:36.257Z"
      },
      {
        "duration": 12,
        "start_time": "2021-11-24T19:33:36.265Z"
      },
      {
        "duration": 13,
        "start_time": "2021-11-24T19:33:36.279Z"
      },
      {
        "duration": 6,
        "start_time": "2021-11-24T19:33:36.294Z"
      },
      {
        "duration": 43,
        "start_time": "2021-11-24T19:33:36.302Z"
      },
      {
        "duration": 194,
        "start_time": "2021-11-24T19:33:36.347Z"
      },
      {
        "duration": 11,
        "start_time": "2021-11-24T19:33:36.544Z"
      },
      {
        "duration": 13,
        "start_time": "2021-11-24T19:33:36.556Z"
      },
      {
        "duration": 194,
        "start_time": "2021-11-24T19:33:36.570Z"
      },
      {
        "duration": 5,
        "start_time": "2021-11-24T19:33:36.766Z"
      },
      {
        "duration": 16,
        "start_time": "2021-11-24T19:33:36.773Z"
      },
      {
        "duration": 197,
        "start_time": "2021-11-24T19:33:36.791Z"
      },
      {
        "duration": 4,
        "start_time": "2021-11-24T19:33:36.990Z"
      },
      {
        "duration": 24,
        "start_time": "2021-11-24T19:33:36.996Z"
      },
      {
        "duration": 32,
        "start_time": "2021-11-24T19:33:37.022Z"
      },
      {
        "duration": 10,
        "start_time": "2021-11-24T19:33:37.056Z"
      },
      {
        "duration": 10,
        "start_time": "2021-11-24T19:33:37.068Z"
      },
      {
        "duration": 8,
        "start_time": "2021-11-24T19:33:37.080Z"
      },
      {
        "duration": 6,
        "start_time": "2021-11-24T19:33:37.090Z"
      },
      {
        "duration": 52,
        "start_time": "2021-11-24T19:33:37.102Z"
      },
      {
        "duration": 4,
        "start_time": "2021-11-24T19:47:22.116Z"
      },
      {
        "duration": 3,
        "start_time": "2021-11-24T19:54:01.072Z"
      },
      {
        "duration": 6,
        "start_time": "2021-11-24T19:55:49.726Z"
      },
      {
        "duration": 84,
        "start_time": "2021-11-24T19:57:09.825Z"
      },
      {
        "duration": 4,
        "start_time": "2021-11-24T19:57:31.448Z"
      },
      {
        "duration": 88,
        "start_time": "2021-11-24T19:59:02.928Z"
      },
      {
        "duration": 89,
        "start_time": "2021-11-24T20:03:59.462Z"
      },
      {
        "duration": 11,
        "start_time": "2021-11-24T20:17:37.041Z"
      },
      {
        "duration": 9,
        "start_time": "2021-11-24T20:17:51.855Z"
      },
      {
        "duration": 11,
        "start_time": "2021-11-24T20:17:59.191Z"
      },
      {
        "duration": 9,
        "start_time": "2021-11-24T20:27:13.376Z"
      },
      {
        "duration": 180,
        "start_time": "2021-11-24T20:27:24.686Z"
      },
      {
        "duration": 260,
        "start_time": "2021-11-24T20:31:12.071Z"
      },
      {
        "duration": 9,
        "start_time": "2021-11-24T20:31:28.831Z"
      },
      {
        "duration": 12,
        "start_time": "2021-11-24T20:31:40.782Z"
      },
      {
        "duration": 3,
        "start_time": "2021-11-24T20:32:08.905Z"
      },
      {
        "duration": 9,
        "start_time": "2021-11-24T20:33:09.032Z"
      },
      {
        "duration": 174,
        "start_time": "2021-11-24T20:33:19.314Z"
      },
      {
        "duration": 11,
        "start_time": "2021-11-24T20:34:27.672Z"
      },
      {
        "duration": 110,
        "start_time": "2021-11-24T20:51:40.092Z"
      },
      {
        "duration": 799,
        "start_time": "2021-11-25T08:30:55.614Z"
      },
      {
        "duration": 64,
        "start_time": "2021-11-25T08:30:56.416Z"
      },
      {
        "duration": 33,
        "start_time": "2021-11-25T08:30:56.483Z"
      },
      {
        "duration": 13,
        "start_time": "2021-11-25T08:30:56.519Z"
      },
      {
        "duration": 75,
        "start_time": "2021-11-25T08:30:56.535Z"
      },
      {
        "duration": 4,
        "start_time": "2021-11-25T08:30:56.612Z"
      },
      {
        "duration": 9,
        "start_time": "2021-11-25T08:30:56.618Z"
      },
      {
        "duration": 17,
        "start_time": "2021-11-25T08:30:56.631Z"
      },
      {
        "duration": 11,
        "start_time": "2021-11-25T08:30:56.651Z"
      },
      {
        "duration": 39,
        "start_time": "2021-11-25T08:30:56.664Z"
      },
      {
        "duration": 10,
        "start_time": "2021-11-25T08:30:56.705Z"
      },
      {
        "duration": 12,
        "start_time": "2021-11-25T08:30:56.717Z"
      },
      {
        "duration": 19,
        "start_time": "2021-11-25T08:30:56.732Z"
      },
      {
        "duration": 47,
        "start_time": "2021-11-25T08:30:56.753Z"
      },
      {
        "duration": 12,
        "start_time": "2021-11-25T08:30:56.803Z"
      },
      {
        "duration": 8,
        "start_time": "2021-11-25T08:30:56.817Z"
      },
      {
        "duration": 17,
        "start_time": "2021-11-25T08:30:56.827Z"
      },
      {
        "duration": 16,
        "start_time": "2021-11-25T08:30:56.847Z"
      },
      {
        "duration": 39,
        "start_time": "2021-11-25T08:30:56.865Z"
      },
      {
        "duration": 17,
        "start_time": "2021-11-25T08:30:56.906Z"
      },
      {
        "duration": 9,
        "start_time": "2021-11-25T08:30:56.925Z"
      },
      {
        "duration": 24,
        "start_time": "2021-11-25T08:30:56.937Z"
      },
      {
        "duration": 27,
        "start_time": "2021-11-25T08:30:57.002Z"
      },
      {
        "duration": 22,
        "start_time": "2021-11-25T08:30:57.032Z"
      },
      {
        "duration": 8,
        "start_time": "2021-11-25T08:30:57.056Z"
      },
      {
        "duration": 34,
        "start_time": "2021-11-25T08:30:57.066Z"
      },
      {
        "duration": 49308,
        "start_time": "2021-11-25T08:30:57.102Z"
      },
      {
        "duration": 14,
        "start_time": "2021-11-25T08:31:46.413Z"
      },
      {
        "duration": 22,
        "start_time": "2021-11-25T08:31:46.429Z"
      },
      {
        "duration": 7,
        "start_time": "2021-11-25T08:31:46.453Z"
      },
      {
        "duration": 53,
        "start_time": "2021-11-25T08:31:46.462Z"
      },
      {
        "duration": 27,
        "start_time": "2021-11-25T08:31:46.517Z"
      },
      {
        "duration": 13,
        "start_time": "2021-11-25T08:31:46.546Z"
      },
      {
        "duration": 46,
        "start_time": "2021-11-25T08:31:46.563Z"
      },
      {
        "duration": 5,
        "start_time": "2021-11-25T08:31:46.612Z"
      },
      {
        "duration": 17,
        "start_time": "2021-11-25T08:31:46.620Z"
      },
      {
        "duration": 22,
        "start_time": "2021-11-25T08:31:46.640Z"
      },
      {
        "duration": 41,
        "start_time": "2021-11-25T08:31:46.664Z"
      },
      {
        "duration": 15,
        "start_time": "2021-11-25T08:31:46.708Z"
      },
      {
        "duration": 19,
        "start_time": "2021-11-25T08:31:46.725Z"
      },
      {
        "duration": 6,
        "start_time": "2021-11-25T08:31:46.747Z"
      },
      {
        "duration": 58,
        "start_time": "2021-11-25T08:31:46.756Z"
      },
      {
        "duration": 24,
        "start_time": "2021-11-25T08:31:46.817Z"
      },
      {
        "duration": 5,
        "start_time": "2021-11-25T08:31:46.844Z"
      },
      {
        "duration": 61,
        "start_time": "2021-11-25T08:31:46.852Z"
      },
      {
        "duration": 16,
        "start_time": "2021-11-25T08:31:46.916Z"
      },
      {
        "duration": 471,
        "start_time": "2021-11-25T08:31:46.935Z"
      },
      {
        "duration": 323,
        "start_time": "2021-11-25T08:31:47.408Z"
      },
      {
        "duration": 26,
        "start_time": "2021-11-25T08:31:47.734Z"
      },
      {
        "duration": 38,
        "start_time": "2021-11-25T08:31:47.762Z"
      },
      {
        "duration": 334,
        "start_time": "2021-11-25T08:31:47.803Z"
      },
      {
        "duration": 18,
        "start_time": "2021-11-25T08:31:48.140Z"
      },
      {
        "duration": 5,
        "start_time": "2021-11-25T08:31:48.161Z"
      },
      {
        "duration": 5,
        "start_time": "2021-11-25T08:34:20.211Z"
      },
      {
        "duration": 5,
        "start_time": "2021-11-25T08:34:33.261Z"
      },
      {
        "duration": 112,
        "start_time": "2021-11-25T08:39:28.084Z"
      },
      {
        "duration": 454,
        "start_time": "2021-11-25T08:45:54.342Z"
      },
      {
        "duration": 15,
        "start_time": "2021-11-25T13:55:29.904Z"
      },
      {
        "duration": 74,
        "start_time": "2021-11-25T13:56:07.884Z"
      },
      {
        "duration": 21,
        "start_time": "2021-11-25T13:56:19.384Z"
      },
      {
        "duration": 15,
        "start_time": "2021-11-25T13:57:50.913Z"
      },
      {
        "duration": 16,
        "start_time": "2021-11-25T13:58:35.294Z"
      },
      {
        "duration": 14,
        "start_time": "2021-11-25T13:59:46.145Z"
      },
      {
        "duration": 15,
        "start_time": "2021-11-25T14:00:30.164Z"
      },
      {
        "duration": 18,
        "start_time": "2021-11-25T14:03:09.796Z"
      },
      {
        "duration": 4,
        "start_time": "2021-11-25T14:11:44.151Z"
      },
      {
        "duration": 3,
        "start_time": "2021-11-25T14:11:48.712Z"
      },
      {
        "duration": 7,
        "start_time": "2021-11-25T14:35:28.065Z"
      },
      {
        "duration": 6,
        "start_time": "2021-11-25T14:35:34.484Z"
      },
      {
        "duration": 11,
        "start_time": "2021-11-25T14:35:50.924Z"
      },
      {
        "duration": 2,
        "start_time": "2021-11-25T14:36:10.177Z"
      },
      {
        "duration": 55,
        "start_time": "2021-11-25T14:36:10.357Z"
      },
      {
        "duration": 14,
        "start_time": "2021-11-25T14:36:10.532Z"
      },
      {
        "duration": 15,
        "start_time": "2021-11-25T14:36:10.693Z"
      },
      {
        "duration": 22,
        "start_time": "2021-11-25T14:36:11.000Z"
      },
      {
        "duration": 3,
        "start_time": "2021-11-25T14:36:12.116Z"
      },
      {
        "duration": 4,
        "start_time": "2021-11-25T14:36:12.465Z"
      },
      {
        "duration": 12,
        "start_time": "2021-11-25T14:36:12.805Z"
      },
      {
        "duration": 8,
        "start_time": "2021-11-25T14:36:13.116Z"
      },
      {
        "duration": 5,
        "start_time": "2021-11-25T14:36:13.497Z"
      },
      {
        "duration": 5,
        "start_time": "2021-11-25T14:36:13.865Z"
      },
      {
        "duration": 10,
        "start_time": "2021-11-25T14:36:15.064Z"
      },
      {
        "duration": 18,
        "start_time": "2021-11-25T14:36:16.456Z"
      },
      {
        "duration": 17,
        "start_time": "2021-11-25T14:36:27.586Z"
      },
      {
        "duration": 765,
        "start_time": "2021-11-25T19:33:52.339Z"
      },
      {
        "duration": 68,
        "start_time": "2021-11-25T19:33:53.107Z"
      },
      {
        "duration": 34,
        "start_time": "2021-11-25T19:33:53.178Z"
      },
      {
        "duration": 21,
        "start_time": "2021-11-25T19:33:53.215Z"
      },
      {
        "duration": 69,
        "start_time": "2021-11-25T19:33:53.238Z"
      },
      {
        "duration": 7,
        "start_time": "2021-11-25T19:33:53.310Z"
      },
      {
        "duration": 11,
        "start_time": "2021-11-25T19:33:53.319Z"
      },
      {
        "duration": 21,
        "start_time": "2021-11-25T19:33:53.335Z"
      },
      {
        "duration": 44,
        "start_time": "2021-11-25T19:33:53.360Z"
      },
      {
        "duration": 8,
        "start_time": "2021-11-25T19:33:53.407Z"
      },
      {
        "duration": 8,
        "start_time": "2021-11-25T19:33:53.417Z"
      },
      {
        "duration": 15,
        "start_time": "2021-11-25T19:33:53.428Z"
      },
      {
        "duration": 73,
        "start_time": "2021-11-25T19:33:53.446Z"
      },
      {
        "duration": 10,
        "start_time": "2021-11-25T19:33:53.522Z"
      },
      {
        "duration": 15,
        "start_time": "2021-11-25T19:33:53.535Z"
      },
      {
        "duration": 6,
        "start_time": "2021-11-25T19:33:53.553Z"
      },
      {
        "duration": 17,
        "start_time": "2021-11-25T19:33:53.600Z"
      },
      {
        "duration": 17,
        "start_time": "2021-11-25T19:33:53.619Z"
      },
      {
        "duration": 12,
        "start_time": "2021-11-25T19:33:53.638Z"
      },
      {
        "duration": 48,
        "start_time": "2021-11-25T19:33:53.652Z"
      },
      {
        "duration": 8,
        "start_time": "2021-11-25T19:33:53.703Z"
      },
      {
        "duration": 32,
        "start_time": "2021-11-25T19:33:53.714Z"
      },
      {
        "duration": 54,
        "start_time": "2021-11-25T19:33:53.753Z"
      },
      {
        "duration": 26,
        "start_time": "2021-11-25T19:33:53.811Z"
      },
      {
        "duration": 10,
        "start_time": "2021-11-25T19:33:53.840Z"
      },
      {
        "duration": 9,
        "start_time": "2021-11-25T19:33:53.853Z"
      },
      {
        "duration": 49775,
        "start_time": "2021-11-25T19:33:53.865Z"
      },
      {
        "duration": 13,
        "start_time": "2021-11-25T19:34:43.642Z"
      },
      {
        "duration": 42,
        "start_time": "2021-11-25T19:34:43.658Z"
      },
      {
        "duration": 5,
        "start_time": "2021-11-25T19:34:43.703Z"
      },
      {
        "duration": 25,
        "start_time": "2021-11-25T19:34:43.711Z"
      },
      {
        "duration": 24,
        "start_time": "2021-11-25T19:34:43.739Z"
      },
      {
        "duration": 35,
        "start_time": "2021-11-25T19:34:43.766Z"
      },
      {
        "duration": 20,
        "start_time": "2021-11-25T19:34:43.804Z"
      },
      {
        "duration": 6,
        "start_time": "2021-11-25T19:34:43.827Z"
      },
      {
        "duration": 21,
        "start_time": "2021-11-25T19:34:43.835Z"
      },
      {
        "duration": 55,
        "start_time": "2021-11-25T19:34:43.858Z"
      },
      {
        "duration": 12,
        "start_time": "2021-11-25T19:34:43.916Z"
      },
      {
        "duration": 19,
        "start_time": "2021-11-25T19:34:43.930Z"
      },
      {
        "duration": 18,
        "start_time": "2021-11-25T19:34:43.952Z"
      },
      {
        "duration": 29,
        "start_time": "2021-11-25T19:34:43.972Z"
      },
      {
        "duration": 25,
        "start_time": "2021-11-25T19:34:44.004Z"
      },
      {
        "duration": 24,
        "start_time": "2021-11-25T19:34:44.031Z"
      },
      {
        "duration": 3,
        "start_time": "2021-11-25T19:34:44.058Z"
      },
      {
        "duration": 50,
        "start_time": "2021-11-25T19:34:44.064Z"
      },
      {
        "duration": 22,
        "start_time": "2021-11-25T19:34:44.116Z"
      },
      {
        "duration": 449,
        "start_time": "2021-11-25T19:34:44.141Z"
      },
      {
        "duration": 5,
        "start_time": "2021-11-25T19:34:44.601Z"
      },
      {
        "duration": 25,
        "start_time": "2021-11-25T19:34:44.609Z"
      },
      {
        "duration": 14,
        "start_time": "2021-11-25T19:34:44.637Z"
      },
      {
        "duration": 346,
        "start_time": "2021-11-25T19:34:44.654Z"
      },
      {
        "duration": 5,
        "start_time": "2021-11-25T19:34:45.003Z"
      },
      {
        "duration": 54,
        "start_time": "2021-11-25T19:34:45.010Z"
      },
      {
        "duration": 335,
        "start_time": "2021-11-26T02:16:08.421Z"
      },
      {
        "duration": 607,
        "start_time": "2021-11-26T02:16:12.933Z"
      },
      {
        "duration": 51,
        "start_time": "2021-11-26T02:16:13.544Z"
      },
      {
        "duration": 10,
        "start_time": "2021-11-26T02:16:13.597Z"
      },
      {
        "duration": 349,
        "start_time": "2021-11-26T10:34:00.196Z"
      },
      {
        "duration": 831,
        "start_time": "2021-11-26T10:34:06.764Z"
      },
      {
        "duration": 95,
        "start_time": "2021-11-26T10:34:07.598Z"
      },
      {
        "duration": 45,
        "start_time": "2021-11-26T10:34:07.697Z"
      },
      {
        "duration": 34,
        "start_time": "2021-11-26T10:34:07.746Z"
      },
      {
        "duration": 34,
        "start_time": "2021-11-26T10:34:07.783Z"
      },
      {
        "duration": 50,
        "start_time": "2021-11-26T10:34:07.819Z"
      },
      {
        "duration": 24,
        "start_time": "2021-11-26T10:34:07.871Z"
      },
      {
        "duration": 18,
        "start_time": "2021-11-26T10:34:07.899Z"
      },
      {
        "duration": 14,
        "start_time": "2021-11-26T10:34:07.920Z"
      },
      {
        "duration": 7,
        "start_time": "2021-11-26T10:34:07.937Z"
      },
      {
        "duration": 25,
        "start_time": "2021-11-26T10:34:07.946Z"
      },
      {
        "duration": 19,
        "start_time": "2021-11-26T10:34:07.973Z"
      },
      {
        "duration": 21,
        "start_time": "2021-11-26T10:34:07.994Z"
      },
      {
        "duration": 9,
        "start_time": "2021-11-26T10:34:08.018Z"
      },
      {
        "duration": 51,
        "start_time": "2021-11-26T10:34:08.029Z"
      },
      {
        "duration": 7,
        "start_time": "2021-11-26T10:34:08.082Z"
      },
      {
        "duration": 22,
        "start_time": "2021-11-26T10:34:08.092Z"
      },
      {
        "duration": 53,
        "start_time": "2021-11-26T10:34:08.117Z"
      },
      {
        "duration": 8,
        "start_time": "2021-11-26T10:34:08.173Z"
      },
      {
        "duration": 18,
        "start_time": "2021-11-26T10:34:08.183Z"
      },
      {
        "duration": 11,
        "start_time": "2021-11-26T10:34:08.204Z"
      },
      {
        "duration": 76,
        "start_time": "2021-11-26T10:34:08.217Z"
      },
      {
        "duration": 28,
        "start_time": "2021-11-26T10:34:08.298Z"
      },
      {
        "duration": 45,
        "start_time": "2021-11-26T10:34:08.330Z"
      },
      {
        "duration": 10,
        "start_time": "2021-11-26T10:34:08.377Z"
      },
      {
        "duration": 10,
        "start_time": "2021-11-26T10:34:08.390Z"
      },
      {
        "duration": 54611,
        "start_time": "2021-11-26T10:34:08.403Z"
      },
      {
        "duration": 17,
        "start_time": "2021-11-26T10:35:03.017Z"
      },
      {
        "duration": 42,
        "start_time": "2021-11-26T10:35:03.037Z"
      },
      {
        "duration": 11,
        "start_time": "2021-11-26T10:35:03.082Z"
      },
      {
        "duration": 23,
        "start_time": "2021-11-26T10:35:03.096Z"
      },
      {
        "duration": 47,
        "start_time": "2021-11-26T10:35:03.122Z"
      },
      {
        "duration": 11,
        "start_time": "2021-11-26T10:35:03.172Z"
      },
      {
        "duration": 21,
        "start_time": "2021-11-26T10:35:03.187Z"
      },
      {
        "duration": 6,
        "start_time": "2021-11-26T10:35:03.211Z"
      },
      {
        "duration": 62,
        "start_time": "2021-11-26T10:35:03.219Z"
      },
      {
        "duration": 26,
        "start_time": "2021-11-26T10:35:03.284Z"
      },
      {
        "duration": 12,
        "start_time": "2021-11-26T10:35:03.313Z"
      },
      {
        "duration": 44,
        "start_time": "2021-11-26T10:35:03.327Z"
      },
      {
        "duration": 21,
        "start_time": "2021-11-26T10:35:03.374Z"
      },
      {
        "duration": 7,
        "start_time": "2021-11-26T10:35:03.397Z"
      },
      {
        "duration": 25,
        "start_time": "2021-11-26T10:35:03.407Z"
      },
      {
        "duration": 46,
        "start_time": "2021-11-26T10:35:03.434Z"
      },
      {
        "duration": 12,
        "start_time": "2021-11-26T10:35:03.483Z"
      },
      {
        "duration": 31,
        "start_time": "2021-11-26T10:35:03.498Z"
      },
      {
        "duration": 43,
        "start_time": "2021-11-26T10:35:03.532Z"
      },
      {
        "duration": 469,
        "start_time": "2021-11-26T10:35:03.578Z"
      },
      {
        "duration": 17,
        "start_time": "2021-11-26T10:35:04.051Z"
      },
      {
        "duration": 24,
        "start_time": "2021-11-26T10:35:04.070Z"
      },
      {
        "duration": 15,
        "start_time": "2021-11-26T10:35:04.096Z"
      },
      {
        "duration": 355,
        "start_time": "2021-11-26T10:35:04.114Z"
      },
      {
        "duration": 6,
        "start_time": "2021-11-26T10:35:04.472Z"
      },
      {
        "duration": 19,
        "start_time": "2021-11-26T10:35:04.480Z"
      },
      {
        "duration": 46,
        "start_time": "2021-11-26T10:35:15.575Z"
      },
      {
        "duration": 6,
        "start_time": "2021-11-26T10:37:45.975Z"
      },
      {
        "duration": 6,
        "start_time": "2021-11-26T10:37:53.895Z"
      },
      {
        "duration": 863,
        "start_time": "2021-11-26T15:05:24.074Z"
      },
      {
        "duration": 75,
        "start_time": "2021-11-26T15:05:24.940Z"
      },
      {
        "duration": 31,
        "start_time": "2021-11-26T15:05:25.018Z"
      },
      {
        "duration": 17,
        "start_time": "2021-11-26T15:05:25.052Z"
      },
      {
        "duration": 59,
        "start_time": "2021-11-26T15:05:25.072Z"
      },
      {
        "duration": 4,
        "start_time": "2021-11-26T15:05:25.133Z"
      },
      {
        "duration": 12,
        "start_time": "2021-11-26T15:05:25.139Z"
      },
      {
        "duration": 68,
        "start_time": "2021-11-26T15:05:25.154Z"
      },
      {
        "duration": 10,
        "start_time": "2021-11-26T15:05:25.225Z"
      },
      {
        "duration": 11,
        "start_time": "2021-11-26T15:05:25.238Z"
      },
      {
        "duration": 11,
        "start_time": "2021-11-26T15:05:25.251Z"
      },
      {
        "duration": 39,
        "start_time": "2021-11-26T15:05:25.265Z"
      },
      {
        "duration": 23,
        "start_time": "2021-11-26T15:05:25.306Z"
      },
      {
        "duration": 7,
        "start_time": "2021-11-26T15:05:25.332Z"
      },
      {
        "duration": 14,
        "start_time": "2021-11-26T15:05:25.342Z"
      },
      {
        "duration": 46,
        "start_time": "2021-11-26T15:05:25.358Z"
      },
      {
        "duration": 23,
        "start_time": "2021-11-26T15:05:25.407Z"
      },
      {
        "duration": 17,
        "start_time": "2021-11-26T15:05:25.432Z"
      },
      {
        "duration": 14,
        "start_time": "2021-11-26T15:05:25.451Z"
      },
      {
        "duration": 51,
        "start_time": "2021-11-26T15:05:25.468Z"
      },
      {
        "duration": 9,
        "start_time": "2021-11-26T15:05:25.521Z"
      },
      {
        "duration": 29,
        "start_time": "2021-11-26T15:05:25.532Z"
      },
      {
        "duration": 59,
        "start_time": "2021-11-26T15:05:25.566Z"
      },
      {
        "duration": 24,
        "start_time": "2021-11-26T15:05:25.628Z"
      },
      {
        "duration": 8,
        "start_time": "2021-11-26T15:05:25.654Z"
      },
      {
        "duration": 12,
        "start_time": "2021-11-26T15:05:25.664Z"
      },
      {
        "duration": 52759,
        "start_time": "2021-11-26T15:05:25.702Z"
      },
      {
        "duration": 15,
        "start_time": "2021-11-26T15:06:18.464Z"
      },
      {
        "duration": 43,
        "start_time": "2021-11-26T15:06:18.482Z"
      },
      {
        "duration": 5,
        "start_time": "2021-11-26T15:06:18.527Z"
      },
      {
        "duration": 20,
        "start_time": "2021-11-26T15:06:18.534Z"
      },
      {
        "duration": 56,
        "start_time": "2021-11-26T15:06:18.556Z"
      },
      {
        "duration": 11,
        "start_time": "2021-11-26T15:06:18.617Z"
      },
      {
        "duration": 25,
        "start_time": "2021-11-26T15:06:18.630Z"
      },
      {
        "duration": 5,
        "start_time": "2021-11-26T15:06:18.657Z"
      },
      {
        "duration": 59,
        "start_time": "2021-11-26T15:06:18.665Z"
      },
      {
        "duration": 33,
        "start_time": "2021-11-26T15:06:18.727Z"
      },
      {
        "duration": 17,
        "start_time": "2021-11-26T15:06:18.763Z"
      },
      {
        "duration": 27,
        "start_time": "2021-11-26T15:06:18.783Z"
      },
      {
        "duration": 18,
        "start_time": "2021-11-26T15:06:18.814Z"
      },
      {
        "duration": 5,
        "start_time": "2021-11-26T15:06:18.834Z"
      },
      {
        "duration": 25,
        "start_time": "2021-11-26T15:06:18.841Z"
      },
      {
        "duration": 22,
        "start_time": "2021-11-26T15:06:18.901Z"
      },
      {
        "duration": 25,
        "start_time": "2021-11-26T15:06:18.925Z"
      },
      {
        "duration": 29,
        "start_time": "2021-11-26T15:06:18.952Z"
      },
      {
        "duration": 28,
        "start_time": "2021-11-26T15:06:18.984Z"
      },
      {
        "duration": 463,
        "start_time": "2021-11-26T15:06:19.015Z"
      },
      {
        "duration": 6,
        "start_time": "2021-11-26T15:06:19.480Z"
      },
      {
        "duration": 37,
        "start_time": "2021-11-26T15:06:19.488Z"
      },
      {
        "duration": 16,
        "start_time": "2021-11-26T15:06:19.528Z"
      },
      {
        "duration": 374,
        "start_time": "2021-11-26T15:06:19.546Z"
      },
      {
        "duration": 5,
        "start_time": "2021-11-26T15:06:19.923Z"
      },
      {
        "duration": 27,
        "start_time": "2021-11-26T15:06:19.931Z"
      },
      {
        "duration": 31,
        "start_time": "2021-11-26T15:11:02.538Z"
      },
      {
        "duration": 4,
        "start_time": "2021-11-26T15:11:15.524Z"
      },
      {
        "duration": 70,
        "start_time": "2021-11-26T15:11:15.694Z"
      },
      {
        "duration": 21,
        "start_time": "2021-11-26T15:11:15.843Z"
      },
      {
        "duration": 24,
        "start_time": "2021-11-26T15:11:16.007Z"
      },
      {
        "duration": 118,
        "start_time": "2021-11-26T15:15:33.713Z"
      },
      {
        "duration": 9159,
        "start_time": "2021-11-26T15:16:44.494Z"
      },
      {
        "duration": 7,
        "start_time": "2021-11-26T15:17:00.302Z"
      },
      {
        "duration": 8,
        "start_time": "2021-11-26T15:17:06.524Z"
      },
      {
        "duration": 10,
        "start_time": "2021-11-26T15:18:02.422Z"
      },
      {
        "duration": 11,
        "start_time": "2021-11-26T15:18:24.542Z"
      },
      {
        "duration": 7,
        "start_time": "2021-11-26T15:18:36.756Z"
      },
      {
        "duration": 11,
        "start_time": "2021-11-26T15:18:54.662Z"
      },
      {
        "duration": 9,
        "start_time": "2021-11-26T15:19:13.758Z"
      },
      {
        "duration": 9,
        "start_time": "2021-11-26T15:19:14.868Z"
      },
      {
        "duration": 9,
        "start_time": "2021-11-26T15:19:16.042Z"
      },
      {
        "duration": 7,
        "start_time": "2021-11-26T15:19:25.838Z"
      },
      {
        "duration": 4703,
        "start_time": "2021-11-26T15:19:27.854Z"
      },
      {
        "duration": 7,
        "start_time": "2021-11-26T15:20:10.630Z"
      },
      {
        "duration": 3,
        "start_time": "2021-11-26T15:20:27.271Z"
      },
      {
        "duration": 63,
        "start_time": "2021-11-26T15:20:27.382Z"
      },
      {
        "duration": 20,
        "start_time": "2021-11-26T15:20:27.578Z"
      },
      {
        "duration": 16,
        "start_time": "2021-11-26T15:20:27.683Z"
      },
      {
        "duration": 39,
        "start_time": "2021-11-26T15:20:29.078Z"
      },
      {
        "duration": 5,
        "start_time": "2021-11-26T15:20:31.062Z"
      },
      {
        "duration": 11,
        "start_time": "2021-11-26T15:20:31.434Z"
      },
      {
        "duration": 6,
        "start_time": "2021-11-26T15:20:39.938Z"
      },
      {
        "duration": 3,
        "start_time": "2021-11-26T15:21:00.974Z"
      },
      {
        "duration": 63,
        "start_time": "2021-11-26T15:21:01.161Z"
      },
      {
        "duration": 20,
        "start_time": "2021-11-26T15:21:01.778Z"
      },
      {
        "duration": 14,
        "start_time": "2021-11-26T15:21:02.336Z"
      },
      {
        "duration": 29,
        "start_time": "2021-11-26T15:21:03.761Z"
      },
      {
        "duration": 5,
        "start_time": "2021-11-26T15:21:06.414Z"
      },
      {
        "duration": 10,
        "start_time": "2021-11-26T15:21:07.002Z"
      },
      {
        "duration": 6,
        "start_time": "2021-11-26T15:21:08.654Z"
      },
      {
        "duration": 18,
        "start_time": "2021-11-26T15:21:09.414Z"
      },
      {
        "duration": 8,
        "start_time": "2021-11-26T15:21:31.482Z"
      },
      {
        "duration": 5,
        "start_time": "2021-11-26T15:21:47.436Z"
      },
      {
        "duration": 7,
        "start_time": "2021-11-26T15:21:48.983Z"
      },
      {
        "duration": 19,
        "start_time": "2021-11-26T15:21:52.241Z"
      },
      {
        "duration": 19,
        "start_time": "2021-11-26T15:22:18.142Z"
      },
      {
        "duration": 11,
        "start_time": "2021-11-26T15:22:18.934Z"
      },
      {
        "duration": 5,
        "start_time": "2021-11-26T15:22:20.394Z"
      },
      {
        "duration": 7,
        "start_time": "2021-11-26T15:22:21.894Z"
      },
      {
        "duration": 356,
        "start_time": "2021-11-26T15:24:41.455Z"
      },
      {
        "duration": 18,
        "start_time": "2021-11-26T15:25:00.249Z"
      },
      {
        "duration": 11,
        "start_time": "2021-11-26T15:25:01.014Z"
      },
      {
        "duration": 6,
        "start_time": "2021-11-26T15:25:01.454Z"
      },
      {
        "duration": 7,
        "start_time": "2021-11-26T15:25:01.942Z"
      },
      {
        "duration": 13,
        "start_time": "2021-11-26T15:25:02.714Z"
      },
      {
        "duration": 25,
        "start_time": "2021-11-26T15:25:03.023Z"
      },
      {
        "duration": 8,
        "start_time": "2021-11-26T15:25:03.362Z"
      },
      {
        "duration": 14,
        "start_time": "2021-11-26T15:25:03.694Z"
      },
      {
        "duration": 7,
        "start_time": "2021-11-26T15:25:05.042Z"
      },
      {
        "duration": 15,
        "start_time": "2021-11-26T15:25:05.570Z"
      },
      {
        "duration": 17,
        "start_time": "2021-11-26T15:25:05.742Z"
      },
      {
        "duration": 7,
        "start_time": "2021-11-26T15:25:06.693Z"
      },
      {
        "duration": 15,
        "start_time": "2021-11-26T15:25:07.103Z"
      },
      {
        "duration": 9,
        "start_time": "2021-11-26T15:25:07.536Z"
      },
      {
        "duration": 25,
        "start_time": "2021-11-26T15:25:07.905Z"
      },
      {
        "duration": 26,
        "start_time": "2021-11-26T15:25:08.254Z"
      },
      {
        "duration": 26,
        "start_time": "2021-11-26T15:25:08.725Z"
      },
      {
        "duration": 4,
        "start_time": "2021-11-26T15:25:09.502Z"
      },
      {
        "duration": 9,
        "start_time": "2021-11-26T15:25:09.994Z"
      },
      {
        "duration": 50804,
        "start_time": "2021-11-26T15:25:10.362Z"
      },
      {
        "duration": 14,
        "start_time": "2021-11-26T15:26:01.169Z"
      },
      {
        "duration": 40,
        "start_time": "2021-11-26T15:26:01.186Z"
      },
      {
        "duration": 17,
        "start_time": "2021-11-26T15:26:01.229Z"
      },
      {
        "duration": 34,
        "start_time": "2021-11-26T15:26:01.248Z"
      },
      {
        "duration": 52,
        "start_time": "2021-11-26T15:26:01.285Z"
      },
      {
        "duration": 26,
        "start_time": "2021-11-26T15:26:01.339Z"
      },
      {
        "duration": 27,
        "start_time": "2021-11-26T15:26:01.369Z"
      },
      {
        "duration": 13,
        "start_time": "2021-11-26T15:26:01.399Z"
      },
      {
        "duration": 26,
        "start_time": "2021-11-26T15:26:01.415Z"
      },
      {
        "duration": 30,
        "start_time": "2021-11-26T15:26:01.444Z"
      },
      {
        "duration": 61,
        "start_time": "2021-11-26T15:26:01.476Z"
      },
      {
        "duration": 34,
        "start_time": "2021-11-26T15:26:01.540Z"
      },
      {
        "duration": 37,
        "start_time": "2021-11-26T15:26:01.577Z"
      },
      {
        "duration": 5,
        "start_time": "2021-11-26T15:26:01.616Z"
      },
      {
        "duration": 51,
        "start_time": "2021-11-26T15:26:01.624Z"
      },
      {
        "duration": 49,
        "start_time": "2021-11-26T15:26:01.678Z"
      },
      {
        "duration": 13,
        "start_time": "2021-11-26T15:26:01.729Z"
      },
      {
        "duration": 36,
        "start_time": "2021-11-26T15:26:01.745Z"
      },
      {
        "duration": 36,
        "start_time": "2021-11-26T15:26:01.783Z"
      },
      {
        "duration": 383,
        "start_time": "2021-11-26T15:26:22.943Z"
      },
      {
        "duration": 365,
        "start_time": "2021-11-26T15:26:39.988Z"
      },
      {
        "duration": 370,
        "start_time": "2021-11-26T15:30:31.583Z"
      },
      {
        "duration": 389,
        "start_time": "2021-11-26T15:30:58.154Z"
      },
      {
        "duration": 478,
        "start_time": "2021-11-26T15:31:25.022Z"
      },
      {
        "duration": 384,
        "start_time": "2021-11-26T15:31:49.494Z"
      },
      {
        "duration": 1335,
        "start_time": "2021-11-26T15:32:21.003Z"
      },
      {
        "duration": 526,
        "start_time": "2021-11-26T19:29:18.536Z"
      },
      {
        "duration": 52,
        "start_time": "2021-11-26T19:29:19.064Z"
      },
      {
        "duration": 17,
        "start_time": "2021-11-26T19:29:19.117Z"
      },
      {
        "duration": 19,
        "start_time": "2021-11-26T19:29:40.967Z"
      },
      {
        "duration": 839,
        "start_time": "2021-11-29T11:22:29.077Z"
      },
      {
        "duration": 64,
        "start_time": "2021-11-29T11:22:29.919Z"
      },
      {
        "duration": 28,
        "start_time": "2021-11-29T11:22:29.986Z"
      },
      {
        "duration": 22,
        "start_time": "2021-11-29T11:22:30.018Z"
      },
      {
        "duration": 66,
        "start_time": "2021-11-29T11:22:30.043Z"
      },
      {
        "duration": 4,
        "start_time": "2021-11-29T11:22:30.112Z"
      },
      {
        "duration": 23,
        "start_time": "2021-11-29T11:22:30.119Z"
      },
      {
        "duration": 33,
        "start_time": "2021-11-29T11:22:30.144Z"
      },
      {
        "duration": 45,
        "start_time": "2021-11-29T11:22:30.181Z"
      },
      {
        "duration": 21,
        "start_time": "2021-11-29T11:22:30.229Z"
      },
      {
        "duration": 19,
        "start_time": "2021-11-29T11:22:30.252Z"
      },
      {
        "duration": 20,
        "start_time": "2021-11-29T11:22:30.273Z"
      },
      {
        "duration": 26,
        "start_time": "2021-11-29T11:22:30.295Z"
      },
      {
        "duration": 22,
        "start_time": "2021-11-29T11:22:30.324Z"
      },
      {
        "duration": 7,
        "start_time": "2021-11-29T11:22:30.348Z"
      },
      {
        "duration": 22,
        "start_time": "2021-11-29T11:22:30.358Z"
      },
      {
        "duration": 20,
        "start_time": "2021-11-29T11:22:30.382Z"
      },
      {
        "duration": 23,
        "start_time": "2021-11-29T11:22:30.405Z"
      },
      {
        "duration": 22,
        "start_time": "2021-11-29T11:22:30.431Z"
      },
      {
        "duration": 19,
        "start_time": "2021-11-29T11:22:30.456Z"
      },
      {
        "duration": 35,
        "start_time": "2021-11-29T11:22:30.478Z"
      },
      {
        "duration": 11,
        "start_time": "2021-11-29T11:22:30.515Z"
      },
      {
        "duration": 39,
        "start_time": "2021-11-29T11:22:30.528Z"
      },
      {
        "duration": 45,
        "start_time": "2021-11-29T11:22:30.569Z"
      },
      {
        "duration": 25,
        "start_time": "2021-11-29T11:22:30.617Z"
      },
      {
        "duration": 25,
        "start_time": "2021-11-29T11:22:30.644Z"
      },
      {
        "duration": 28,
        "start_time": "2021-11-29T11:22:30.675Z"
      },
      {
        "duration": 49800,
        "start_time": "2021-11-29T11:22:30.706Z"
      },
      {
        "duration": 14,
        "start_time": "2021-11-29T11:23:20.509Z"
      },
      {
        "duration": 27,
        "start_time": "2021-11-29T11:23:20.526Z"
      },
      {
        "duration": 18,
        "start_time": "2021-11-29T11:23:20.556Z"
      },
      {
        "duration": 32,
        "start_time": "2021-11-29T11:23:20.576Z"
      },
      {
        "duration": 25,
        "start_time": "2021-11-29T11:23:20.611Z"
      },
      {
        "duration": 12,
        "start_time": "2021-11-29T11:23:20.638Z"
      },
      {
        "duration": 20,
        "start_time": "2021-11-29T11:23:20.652Z"
      },
      {
        "duration": 5,
        "start_time": "2021-11-29T11:23:20.700Z"
      },
      {
        "duration": 23,
        "start_time": "2021-11-29T11:23:20.707Z"
      },
      {
        "duration": 28,
        "start_time": "2021-11-29T11:23:20.733Z"
      },
      {
        "duration": 11,
        "start_time": "2021-11-29T11:23:20.763Z"
      },
      {
        "duration": 31,
        "start_time": "2021-11-29T11:23:20.776Z"
      },
      {
        "duration": 23,
        "start_time": "2021-11-29T11:23:20.810Z"
      },
      {
        "duration": 5,
        "start_time": "2021-11-29T11:23:20.836Z"
      },
      {
        "duration": 28,
        "start_time": "2021-11-29T11:23:20.843Z"
      },
      {
        "duration": 44,
        "start_time": "2021-11-29T11:23:20.874Z"
      },
      {
        "duration": 4,
        "start_time": "2021-11-29T11:23:20.920Z"
      },
      {
        "duration": 34,
        "start_time": "2021-11-29T11:23:20.926Z"
      },
      {
        "duration": 17,
        "start_time": "2021-11-29T11:23:20.962Z"
      },
      {
        "duration": 168,
        "start_time": "2021-11-29T11:23:21.001Z"
      },
      {
        "duration": 829,
        "start_time": "2021-11-29T11:23:20.342Z"
      },
      {
        "duration": 825,
        "start_time": "2021-11-29T11:23:20.348Z"
      },
      {
        "duration": 792,
        "start_time": "2021-11-29T11:23:20.382Z"
      },
      {
        "duration": 786,
        "start_time": "2021-11-29T11:23:20.390Z"
      },
      {
        "duration": 779,
        "start_time": "2021-11-29T11:23:20.398Z"
      },
      {
        "duration": 775,
        "start_time": "2021-11-29T11:23:20.404Z"
      },
      {
        "duration": 114,
        "start_time": "2021-11-29T11:26:18.495Z"
      },
      {
        "duration": 518,
        "start_time": "2021-11-29T11:26:48.344Z"
      },
      {
        "duration": 8,
        "start_time": "2021-11-29T11:27:34.041Z"
      },
      {
        "duration": 9,
        "start_time": "2021-11-29T11:27:38.789Z"
      },
      {
        "duration": 9,
        "start_time": "2021-11-29T11:27:49.760Z"
      },
      {
        "duration": 15,
        "start_time": "2021-11-29T11:28:01.659Z"
      },
      {
        "duration": 8,
        "start_time": "2021-11-29T11:28:14.659Z"
      },
      {
        "duration": 16,
        "start_time": "2021-11-29T11:29:25.722Z"
      },
      {
        "duration": 3,
        "start_time": "2021-11-29T11:29:37.043Z"
      },
      {
        "duration": 61,
        "start_time": "2021-11-29T11:29:37.243Z"
      },
      {
        "duration": 27,
        "start_time": "2021-11-29T11:29:37.334Z"
      },
      {
        "duration": 17,
        "start_time": "2021-11-29T11:29:37.555Z"
      },
      {
        "duration": 37,
        "start_time": "2021-11-29T11:29:38.202Z"
      },
      {
        "duration": 5,
        "start_time": "2021-11-29T11:29:39.850Z"
      },
      {
        "duration": 5,
        "start_time": "2021-11-29T11:29:39.982Z"
      },
      {
        "duration": 7,
        "start_time": "2021-11-29T11:29:40.482Z"
      },
      {
        "duration": 20,
        "start_time": "2021-11-29T11:29:42.963Z"
      },
      {
        "duration": 11,
        "start_time": "2021-11-29T11:29:43.763Z"
      },
      {
        "duration": 5,
        "start_time": "2021-11-29T11:29:45.222Z"
      },
      {
        "duration": 8,
        "start_time": "2021-11-29T11:29:46.434Z"
      },
      {
        "duration": 13,
        "start_time": "2021-11-29T11:29:48.014Z"
      },
      {
        "duration": 23,
        "start_time": "2021-11-29T11:30:01.934Z"
      },
      {
        "duration": 9,
        "start_time": "2021-11-29T11:30:04.624Z"
      },
      {
        "duration": 9,
        "start_time": "2021-11-29T11:30:12.342Z"
      },
      {
        "duration": 3352,
        "start_time": "2021-11-29T11:31:51.209Z"
      },
      {
        "duration": 37,
        "start_time": "2021-11-29T11:33:24.716Z"
      },
      {
        "duration": 8,
        "start_time": "2021-11-29T11:33:43.042Z"
      },
      {
        "duration": 1437,
        "start_time": "2021-11-29T11:34:06.088Z"
      },
      {
        "duration": 7,
        "start_time": "2021-11-29T11:35:27.447Z"
      },
      {
        "duration": 17,
        "start_time": "2021-11-29T11:35:38.059Z"
      },
      {
        "duration": 11,
        "start_time": "2021-11-29T11:35:46.678Z"
      },
      {
        "duration": 17,
        "start_time": "2021-11-29T11:36:05.768Z"
      },
      {
        "duration": 7,
        "start_time": "2021-11-29T11:36:36.547Z"
      },
      {
        "duration": 34,
        "start_time": "2021-11-29T11:36:59.731Z"
      },
      {
        "duration": 10513,
        "start_time": "2021-11-29T11:38:22.246Z"
      },
      {
        "duration": 11,
        "start_time": "2021-11-29T11:38:48.319Z"
      },
      {
        "duration": 10,
        "start_time": "2021-11-29T11:39:14.461Z"
      },
      {
        "duration": 13,
        "start_time": "2021-11-29T11:45:11.149Z"
      },
      {
        "duration": 129,
        "start_time": "2021-11-29T11:46:54.095Z"
      },
      {
        "duration": 133,
        "start_time": "2021-11-29T11:47:15.295Z"
      },
      {
        "duration": 123,
        "start_time": "2021-11-29T11:47:18.777Z"
      },
      {
        "duration": 96,
        "start_time": "2021-11-29T11:47:36.725Z"
      },
      {
        "duration": 7,
        "start_time": "2021-11-29T11:51:03.828Z"
      },
      {
        "duration": 19,
        "start_time": "2021-11-29T11:57:23.012Z"
      },
      {
        "duration": 4,
        "start_time": "2021-11-29T11:57:46.757Z"
      },
      {
        "duration": 70,
        "start_time": "2021-11-29T11:57:46.764Z"
      },
      {
        "duration": 19,
        "start_time": "2021-11-29T11:57:46.837Z"
      },
      {
        "duration": 17,
        "start_time": "2021-11-29T11:57:46.859Z"
      },
      {
        "duration": 47,
        "start_time": "2021-11-29T11:57:46.879Z"
      },
      {
        "duration": 4,
        "start_time": "2021-11-29T11:57:47.132Z"
      },
      {
        "duration": 4,
        "start_time": "2021-11-29T11:57:47.172Z"
      },
      {
        "duration": 11,
        "start_time": "2021-11-29T11:57:47.179Z"
      },
      {
        "duration": 26,
        "start_time": "2021-11-29T11:57:47.192Z"
      },
      {
        "duration": 10,
        "start_time": "2021-11-29T11:57:47.278Z"
      },
      {
        "duration": 5,
        "start_time": "2021-11-29T11:57:47.291Z"
      },
      {
        "duration": 9,
        "start_time": "2021-11-29T11:57:47.298Z"
      },
      {
        "duration": 43,
        "start_time": "2021-11-29T11:57:47.309Z"
      },
      {
        "duration": 439,
        "start_time": "2021-11-29T11:58:22.553Z"
      },
      {
        "duration": 120,
        "start_time": "2021-11-29T11:58:40.725Z"
      },
      {
        "duration": 42,
        "start_time": "2021-11-29T11:58:47.812Z"
      },
      {
        "duration": 10,
        "start_time": "2021-11-29T11:59:15.862Z"
      },
      {
        "duration": 9,
        "start_time": "2021-11-29T11:59:33.978Z"
      },
      {
        "duration": 9,
        "start_time": "2021-11-29T11:59:37.710Z"
      },
      {
        "duration": 8,
        "start_time": "2021-11-29T11:59:40.650Z"
      },
      {
        "duration": 10,
        "start_time": "2021-11-29T11:59:45.042Z"
      },
      {
        "duration": 10,
        "start_time": "2021-11-29T12:01:41.635Z"
      },
      {
        "duration": 11,
        "start_time": "2021-11-29T12:02:24.386Z"
      },
      {
        "duration": 9232,
        "start_time": "2021-11-29T12:49:49.394Z"
      },
      {
        "duration": 4,
        "start_time": "2021-11-29T12:50:20.128Z"
      },
      {
        "duration": 63,
        "start_time": "2021-11-29T12:50:20.267Z"
      },
      {
        "duration": 20,
        "start_time": "2021-11-29T12:50:20.415Z"
      },
      {
        "duration": 15,
        "start_time": "2021-11-29T12:50:20.568Z"
      },
      {
        "duration": 32,
        "start_time": "2021-11-29T12:50:20.896Z"
      },
      {
        "duration": 5,
        "start_time": "2021-11-29T12:50:21.774Z"
      },
      {
        "duration": 5,
        "start_time": "2021-11-29T12:50:21.927Z"
      },
      {
        "duration": 6,
        "start_time": "2021-11-29T12:50:22.244Z"
      },
      {
        "duration": 19,
        "start_time": "2021-11-29T12:50:23.008Z"
      },
      {
        "duration": 11,
        "start_time": "2021-11-29T12:50:23.330Z"
      },
      {
        "duration": 4,
        "start_time": "2021-11-29T12:50:23.776Z"
      },
      {
        "duration": 6,
        "start_time": "2021-11-29T12:50:24.264Z"
      },
      {
        "duration": 12,
        "start_time": "2021-11-29T12:50:24.528Z"
      },
      {
        "duration": 13,
        "start_time": "2021-11-29T12:50:25.297Z"
      },
      {
        "duration": 7,
        "start_time": "2021-11-29T12:50:25.655Z"
      },
      {
        "duration": 18,
        "start_time": "2021-11-29T12:50:25.815Z"
      },
      {
        "duration": 6,
        "start_time": "2021-11-29T12:50:26.275Z"
      },
      {
        "duration": 10,
        "start_time": "2021-11-29T12:50:26.575Z"
      },
      {
        "duration": 82,
        "start_time": "2021-11-29T12:50:26.776Z"
      },
      {
        "duration": 14,
        "start_time": "2021-11-29T12:50:27.255Z"
      },
      {
        "duration": 378,
        "start_time": "2021-11-29T12:50:28.475Z"
      },
      {
        "duration": 17,
        "start_time": "2021-11-29T12:50:28.935Z"
      },
      {
        "duration": 19,
        "start_time": "2021-11-29T12:50:29.074Z"
      },
      {
        "duration": 7,
        "start_time": "2021-11-29T12:50:29.975Z"
      },
      {
        "duration": 17,
        "start_time": "2021-11-29T12:50:31.743Z"
      },
      {
        "duration": 9,
        "start_time": "2021-11-29T12:50:32.083Z"
      },
      {
        "duration": 22,
        "start_time": "2021-11-29T12:50:32.683Z"
      },
      {
        "duration": 25,
        "start_time": "2021-11-29T12:50:33.035Z"
      },
      {
        "duration": 20,
        "start_time": "2021-11-29T12:50:33.395Z"
      },
      {
        "duration": 4,
        "start_time": "2021-11-29T12:50:34.335Z"
      },
      {
        "duration": 8,
        "start_time": "2021-11-29T12:50:34.695Z"
      },
      {
        "duration": 38307,
        "start_time": "2021-11-29T12:50:43.115Z"
      },
      {
        "duration": 15,
        "start_time": "2021-11-29T12:51:21.426Z"
      },
      {
        "duration": 8,
        "start_time": "2021-11-29T12:51:41.298Z"
      },
      {
        "duration": 8,
        "start_time": "2021-11-29T12:51:46.415Z"
      },
      {
        "duration": 6,
        "start_time": "2021-11-29T12:52:25.243Z"
      },
      {
        "duration": 6,
        "start_time": "2021-11-29T12:52:43.247Z"
      },
      {
        "duration": 6,
        "start_time": "2021-11-29T12:53:51.256Z"
      },
      {
        "duration": 6,
        "start_time": "2021-11-29T12:58:09.448Z"
      },
      {
        "duration": 6,
        "start_time": "2021-11-29T12:58:09.607Z"
      },
      {
        "duration": 7,
        "start_time": "2021-11-29T12:58:13.675Z"
      },
      {
        "duration": 7,
        "start_time": "2021-11-29T12:58:47.983Z"
      },
      {
        "duration": 5,
        "start_time": "2021-11-29T12:58:48.088Z"
      },
      {
        "duration": 6,
        "start_time": "2021-11-29T12:58:53.375Z"
      },
      {
        "duration": 9,
        "start_time": "2021-11-29T13:01:28.135Z"
      },
      {
        "duration": 7,
        "start_time": "2021-11-29T13:02:20.095Z"
      },
      {
        "duration": 6,
        "start_time": "2021-11-29T13:02:44.251Z"
      },
      {
        "duration": 7,
        "start_time": "2021-11-29T13:02:46.883Z"
      },
      {
        "duration": 7,
        "start_time": "2021-11-29T13:02:54.027Z"
      },
      {
        "duration": 6,
        "start_time": "2021-11-29T13:03:10.536Z"
      },
      {
        "duration": 8,
        "start_time": "2021-11-29T13:03:23.867Z"
      },
      {
        "duration": 5,
        "start_time": "2021-11-29T13:05:26.328Z"
      },
      {
        "duration": 6,
        "start_time": "2021-11-29T13:05:31.183Z"
      },
      {
        "duration": 7,
        "start_time": "2021-11-29T13:05:46.815Z"
      },
      {
        "duration": 145,
        "start_time": "2021-11-29T13:09:00.458Z"
      },
      {
        "duration": 37534,
        "start_time": "2021-11-29T13:09:53.055Z"
      },
      {
        "duration": 16,
        "start_time": "2021-11-29T13:10:30.592Z"
      },
      {
        "duration": 6,
        "start_time": "2021-11-29T13:11:16.408Z"
      },
      {
        "duration": 7,
        "start_time": "2021-11-29T13:11:16.936Z"
      },
      {
        "duration": 6,
        "start_time": "2021-11-29T13:11:23.116Z"
      },
      {
        "duration": 365,
        "start_time": "2021-11-29T13:13:53.956Z"
      },
      {
        "duration": 4,
        "start_time": "2021-11-29T13:14:29.296Z"
      },
      {
        "duration": 67,
        "start_time": "2021-11-29T13:14:29.302Z"
      },
      {
        "duration": 30,
        "start_time": "2021-11-29T13:14:29.372Z"
      },
      {
        "duration": 15,
        "start_time": "2021-11-29T13:14:29.406Z"
      },
      {
        "duration": 83,
        "start_time": "2021-11-29T13:14:29.423Z"
      },
      {
        "duration": 5,
        "start_time": "2021-11-29T13:14:29.509Z"
      },
      {
        "duration": 8,
        "start_time": "2021-11-29T13:14:29.516Z"
      },
      {
        "duration": 19,
        "start_time": "2021-11-29T13:14:29.527Z"
      },
      {
        "duration": 21,
        "start_time": "2021-11-29T13:14:29.550Z"
      },
      {
        "duration": 29,
        "start_time": "2021-11-29T13:14:29.574Z"
      },
      {
        "duration": 5,
        "start_time": "2021-11-29T13:14:29.605Z"
      },
      {
        "duration": 8,
        "start_time": "2021-11-29T13:14:29.613Z"
      },
      {
        "duration": 11,
        "start_time": "2021-11-29T13:14:29.623Z"
      },
      {
        "duration": 15,
        "start_time": "2021-11-29T13:14:29.636Z"
      },
      {
        "duration": 8,
        "start_time": "2021-11-29T13:14:29.703Z"
      },
      {
        "duration": 27,
        "start_time": "2021-11-29T13:14:29.714Z"
      },
      {
        "duration": 9,
        "start_time": "2021-11-29T13:14:29.744Z"
      },
      {
        "duration": 54,
        "start_time": "2021-11-29T13:14:29.756Z"
      },
      {
        "duration": 146,
        "start_time": "2021-11-29T13:14:29.813Z"
      },
      {
        "duration": 19,
        "start_time": "2021-11-29T13:14:29.963Z"
      },
      {
        "duration": 399,
        "start_time": "2021-11-29T13:14:29.985Z"
      },
      {
        "duration": -452,
        "start_time": "2021-11-29T13:14:30.841Z"
      },
      {
        "duration": -463,
        "start_time": "2021-11-29T13:14:30.853Z"
      },
      {
        "duration": -471,
        "start_time": "2021-11-29T13:14:30.863Z"
      },
      {
        "duration": -482,
        "start_time": "2021-11-29T13:14:30.875Z"
      },
      {
        "duration": -491,
        "start_time": "2021-11-29T13:14:30.885Z"
      },
      {
        "duration": -498,
        "start_time": "2021-11-29T13:14:30.894Z"
      },
      {
        "duration": -506,
        "start_time": "2021-11-29T13:14:30.903Z"
      },
      {
        "duration": -515,
        "start_time": "2021-11-29T13:14:30.914Z"
      },
      {
        "duration": -522,
        "start_time": "2021-11-29T13:14:30.922Z"
      },
      {
        "duration": -531,
        "start_time": "2021-11-29T13:14:30.932Z"
      },
      {
        "duration": -538,
        "start_time": "2021-11-29T13:14:30.940Z"
      },
      {
        "duration": -547,
        "start_time": "2021-11-29T13:14:30.951Z"
      },
      {
        "duration": -609,
        "start_time": "2021-11-29T13:14:31.014Z"
      },
      {
        "duration": -616,
        "start_time": "2021-11-29T13:14:31.023Z"
      },
      {
        "duration": -625,
        "start_time": "2021-11-29T13:14:31.033Z"
      },
      {
        "duration": -633,
        "start_time": "2021-11-29T13:14:31.042Z"
      },
      {
        "duration": -654,
        "start_time": "2021-11-29T13:14:31.065Z"
      },
      {
        "duration": -664,
        "start_time": "2021-11-29T13:14:31.076Z"
      },
      {
        "duration": -683,
        "start_time": "2021-11-29T13:14:31.096Z"
      },
      {
        "duration": -699,
        "start_time": "2021-11-29T13:14:31.114Z"
      },
      {
        "duration": -717,
        "start_time": "2021-11-29T13:14:31.133Z"
      },
      {
        "duration": -726,
        "start_time": "2021-11-29T13:14:31.143Z"
      },
      {
        "duration": -733,
        "start_time": "2021-11-29T13:14:31.152Z"
      },
      {
        "duration": -741,
        "start_time": "2021-11-29T13:14:31.161Z"
      },
      {
        "duration": -749,
        "start_time": "2021-11-29T13:14:31.171Z"
      },
      {
        "duration": -763,
        "start_time": "2021-11-29T13:14:31.186Z"
      },
      {
        "duration": -773,
        "start_time": "2021-11-29T13:14:31.198Z"
      },
      {
        "duration": -783,
        "start_time": "2021-11-29T13:14:31.209Z"
      },
      {
        "duration": -793,
        "start_time": "2021-11-29T13:14:31.220Z"
      },
      {
        "duration": -803,
        "start_time": "2021-11-29T13:14:31.231Z"
      },
      {
        "duration": -810,
        "start_time": "2021-11-29T13:14:31.240Z"
      },
      {
        "duration": -821,
        "start_time": "2021-11-29T13:14:31.252Z"
      },
      {
        "duration": -828,
        "start_time": "2021-11-29T13:14:31.261Z"
      },
      {
        "duration": -837,
        "start_time": "2021-11-29T13:14:31.271Z"
      },
      {
        "duration": -846,
        "start_time": "2021-11-29T13:14:31.281Z"
      },
      {
        "duration": -853,
        "start_time": "2021-11-29T13:14:31.290Z"
      },
      {
        "duration": -860,
        "start_time": "2021-11-29T13:14:31.299Z"
      },
      {
        "duration": -869,
        "start_time": "2021-11-29T13:14:31.309Z"
      },
      {
        "duration": -877,
        "start_time": "2021-11-29T13:14:31.319Z"
      },
      {
        "duration": -886,
        "start_time": "2021-11-29T13:14:31.329Z"
      },
      {
        "duration": 123,
        "start_time": "2021-11-29T13:18:30.692Z"
      },
      {
        "duration": 3,
        "start_time": "2021-11-29T13:35:08.939Z"
      },
      {
        "duration": 69,
        "start_time": "2021-11-29T13:35:08.945Z"
      },
      {
        "duration": 20,
        "start_time": "2021-11-29T13:35:09.016Z"
      },
      {
        "duration": 26,
        "start_time": "2021-11-29T13:35:09.039Z"
      },
      {
        "duration": 57,
        "start_time": "2021-11-29T13:35:09.067Z"
      },
      {
        "duration": 5,
        "start_time": "2021-11-29T13:35:09.126Z"
      },
      {
        "duration": 7,
        "start_time": "2021-11-29T13:35:09.134Z"
      },
      {
        "duration": 58,
        "start_time": "2021-11-29T13:35:09.144Z"
      },
      {
        "duration": 19,
        "start_time": "2021-11-29T13:35:09.208Z"
      },
      {
        "duration": 15,
        "start_time": "2021-11-29T13:35:09.232Z"
      },
      {
        "duration": 13,
        "start_time": "2021-11-29T13:35:09.250Z"
      },
      {
        "duration": 44,
        "start_time": "2021-11-29T13:35:09.265Z"
      },
      {
        "duration": 13,
        "start_time": "2021-11-29T13:35:09.312Z"
      },
      {
        "duration": 20,
        "start_time": "2021-11-29T13:35:09.328Z"
      },
      {
        "duration": 10,
        "start_time": "2021-11-29T13:35:09.351Z"
      },
      {
        "duration": 47,
        "start_time": "2021-11-29T13:35:09.364Z"
      },
      {
        "duration": 14,
        "start_time": "2021-11-29T13:35:09.414Z"
      },
      {
        "duration": 18,
        "start_time": "2021-11-29T13:35:09.431Z"
      },
      {
        "duration": 101,
        "start_time": "2021-11-29T13:35:09.452Z"
      },
      {
        "duration": 15,
        "start_time": "2021-11-29T13:35:09.556Z"
      },
      {
        "duration": 2080,
        "start_time": "2021-11-29T13:35:09.574Z"
      },
      {
        "duration": -267,
        "start_time": "2021-11-29T13:35:11.925Z"
      },
      {
        "duration": -279,
        "start_time": "2021-11-29T13:35:11.938Z"
      },
      {
        "duration": -287,
        "start_time": "2021-11-29T13:35:11.948Z"
      },
      {
        "duration": -300,
        "start_time": "2021-11-29T13:35:11.962Z"
      },
      {
        "duration": -309,
        "start_time": "2021-11-29T13:35:11.973Z"
      },
      {
        "duration": -320,
        "start_time": "2021-11-29T13:35:11.985Z"
      },
      {
        "duration": -327,
        "start_time": "2021-11-29T13:35:11.993Z"
      },
      {
        "duration": -333,
        "start_time": "2021-11-29T13:35:12.001Z"
      },
      {
        "duration": -350,
        "start_time": "2021-11-29T13:35:12.020Z"
      },
      {
        "duration": -358,
        "start_time": "2021-11-29T13:35:12.030Z"
      },
      {
        "duration": -366,
        "start_time": "2021-11-29T13:35:12.039Z"
      },
      {
        "duration": -373,
        "start_time": "2021-11-29T13:35:12.048Z"
      },
      {
        "duration": -381,
        "start_time": "2021-11-29T13:35:12.057Z"
      },
      {
        "duration": -387,
        "start_time": "2021-11-29T13:35:12.065Z"
      },
      {
        "duration": -393,
        "start_time": "2021-11-29T13:35:12.072Z"
      },
      {
        "duration": -402,
        "start_time": "2021-11-29T13:35:12.082Z"
      },
      {
        "duration": -409,
        "start_time": "2021-11-29T13:35:12.091Z"
      },
      {
        "duration": -419,
        "start_time": "2021-11-29T13:35:12.102Z"
      },
      {
        "duration": -427,
        "start_time": "2021-11-29T13:35:12.112Z"
      },
      {
        "duration": -455,
        "start_time": "2021-11-29T13:35:12.141Z"
      },
      {
        "duration": -467,
        "start_time": "2021-11-29T13:35:12.154Z"
      },
      {
        "duration": -466,
        "start_time": "2021-11-29T13:35:12.165Z"
      },
      {
        "duration": -473,
        "start_time": "2021-11-29T13:35:12.174Z"
      },
      {
        "duration": -482,
        "start_time": "2021-11-29T13:35:12.184Z"
      },
      {
        "duration": -490,
        "start_time": "2021-11-29T13:35:12.193Z"
      },
      {
        "duration": -497,
        "start_time": "2021-11-29T13:35:12.202Z"
      },
      {
        "duration": -504,
        "start_time": "2021-11-29T13:35:12.210Z"
      },
      {
        "duration": -511,
        "start_time": "2021-11-29T13:35:12.219Z"
      },
      {
        "duration": -517,
        "start_time": "2021-11-29T13:35:12.226Z"
      },
      {
        "duration": -530,
        "start_time": "2021-11-29T13:35:12.240Z"
      },
      {
        "duration": -547,
        "start_time": "2021-11-29T13:35:12.259Z"
      },
      {
        "duration": -555,
        "start_time": "2021-11-29T13:35:12.268Z"
      },
      {
        "duration": -561,
        "start_time": "2021-11-29T13:35:12.275Z"
      },
      {
        "duration": -568,
        "start_time": "2021-11-29T13:35:12.283Z"
      },
      {
        "duration": -574,
        "start_time": "2021-11-29T13:35:12.291Z"
      },
      {
        "duration": -585,
        "start_time": "2021-11-29T13:35:12.304Z"
      },
      {
        "duration": -590,
        "start_time": "2021-11-29T13:35:12.310Z"
      },
      {
        "duration": -602,
        "start_time": "2021-11-29T13:35:12.324Z"
      },
      {
        "duration": -610,
        "start_time": "2021-11-29T13:35:12.333Z"
      },
      {
        "duration": -617,
        "start_time": "2021-11-29T13:35:12.341Z"
      },
      {
        "duration": 4,
        "start_time": "2021-11-29T13:35:57.240Z"
      },
      {
        "duration": 73,
        "start_time": "2021-11-29T13:35:57.247Z"
      },
      {
        "duration": 20,
        "start_time": "2021-11-29T13:35:57.327Z"
      },
      {
        "duration": 15,
        "start_time": "2021-11-29T13:35:57.350Z"
      },
      {
        "duration": 53,
        "start_time": "2021-11-29T13:35:57.368Z"
      },
      {
        "duration": 4,
        "start_time": "2021-11-29T13:35:57.424Z"
      },
      {
        "duration": 12,
        "start_time": "2021-11-29T13:35:57.430Z"
      },
      {
        "duration": 7,
        "start_time": "2021-11-29T13:35:57.446Z"
      },
      {
        "duration": 24,
        "start_time": "2021-11-29T13:35:57.502Z"
      },
      {
        "duration": 12,
        "start_time": "2021-11-29T13:35:57.528Z"
      },
      {
        "duration": 4,
        "start_time": "2021-11-29T13:35:57.542Z"
      },
      {
        "duration": 8,
        "start_time": "2021-11-29T13:35:57.548Z"
      },
      {
        "duration": 53,
        "start_time": "2021-11-29T13:35:57.558Z"
      },
      {
        "duration": 17,
        "start_time": "2021-11-29T13:35:57.614Z"
      },
      {
        "duration": 7,
        "start_time": "2021-11-29T13:35:57.634Z"
      },
      {
        "duration": 22,
        "start_time": "2021-11-29T13:35:57.643Z"
      },
      {
        "duration": 6,
        "start_time": "2021-11-29T13:35:57.701Z"
      },
      {
        "duration": 25,
        "start_time": "2021-11-29T13:35:57.710Z"
      },
      {
        "duration": 107,
        "start_time": "2021-11-29T13:35:57.738Z"
      },
      {
        "duration": 15,
        "start_time": "2021-11-29T13:35:57.848Z"
      },
      {
        "duration": 430,
        "start_time": "2021-11-29T13:35:57.865Z"
      },
      {
        "duration": -684,
        "start_time": "2021-11-29T13:35:58.985Z"
      },
      {
        "duration": -688,
        "start_time": "2021-11-29T13:35:58.991Z"
      },
      {
        "duration": -694,
        "start_time": "2021-11-29T13:35:58.999Z"
      },
      {
        "duration": -698,
        "start_time": "2021-11-29T13:35:59.005Z"
      },
      {
        "duration": -702,
        "start_time": "2021-11-29T13:35:59.011Z"
      },
      {
        "duration": -706,
        "start_time": "2021-11-29T13:35:59.018Z"
      },
      {
        "duration": -739,
        "start_time": "2021-11-29T13:35:59.053Z"
      },
      {
        "duration": -745,
        "start_time": "2021-11-29T13:35:59.061Z"
      },
      {
        "duration": -753,
        "start_time": "2021-11-29T13:35:59.071Z"
      },
      {
        "duration": -767,
        "start_time": "2021-11-29T13:35:59.088Z"
      },
      {
        "duration": -774,
        "start_time": "2021-11-29T13:35:59.097Z"
      },
      {
        "duration": -786,
        "start_time": "2021-11-29T13:35:59.112Z"
      },
      {
        "duration": -792,
        "start_time": "2021-11-29T13:35:59.120Z"
      },
      {
        "duration": -800,
        "start_time": "2021-11-29T13:35:59.130Z"
      },
      {
        "duration": -805,
        "start_time": "2021-11-29T13:35:59.137Z"
      },
      {
        "duration": -811,
        "start_time": "2021-11-29T13:35:59.146Z"
      },
      {
        "duration": -833,
        "start_time": "2021-11-29T13:35:59.170Z"
      },
      {
        "duration": -841,
        "start_time": "2021-11-29T13:35:59.180Z"
      },
      {
        "duration": -788,
        "start_time": "2021-11-29T13:35:59.189Z"
      },
      {
        "duration": -796,
        "start_time": "2021-11-29T13:35:59.200Z"
      },
      {
        "duration": -804,
        "start_time": "2021-11-29T13:35:59.210Z"
      },
      {
        "duration": -809,
        "start_time": "2021-11-29T13:35:59.217Z"
      },
      {
        "duration": -817,
        "start_time": "2021-11-29T13:35:59.228Z"
      },
      {
        "duration": -822,
        "start_time": "2021-11-29T13:35:59.235Z"
      },
      {
        "duration": -826,
        "start_time": "2021-11-29T13:35:59.242Z"
      },
      {
        "duration": -831,
        "start_time": "2021-11-29T13:35:59.249Z"
      },
      {
        "duration": -836,
        "start_time": "2021-11-29T13:35:59.256Z"
      },
      {
        "duration": -853,
        "start_time": "2021-11-29T13:35:59.275Z"
      },
      {
        "duration": -858,
        "start_time": "2021-11-29T13:35:59.283Z"
      },
      {
        "duration": -864,
        "start_time": "2021-11-29T13:35:59.291Z"
      },
      {
        "duration": -869,
        "start_time": "2021-11-29T13:35:59.298Z"
      },
      {
        "duration": -874,
        "start_time": "2021-11-29T13:35:59.305Z"
      },
      {
        "duration": -880,
        "start_time": "2021-11-29T13:35:59.312Z"
      },
      {
        "duration": -885,
        "start_time": "2021-11-29T13:35:59.318Z"
      },
      {
        "duration": -891,
        "start_time": "2021-11-29T13:35:59.325Z"
      },
      {
        "duration": -897,
        "start_time": "2021-11-29T13:35:59.333Z"
      },
      {
        "duration": -903,
        "start_time": "2021-11-29T13:35:59.340Z"
      },
      {
        "duration": -908,
        "start_time": "2021-11-29T13:35:59.346Z"
      },
      {
        "duration": -913,
        "start_time": "2021-11-29T13:35:59.353Z"
      },
      {
        "duration": -861,
        "start_time": "2021-11-29T13:35:59.360Z"
      },
      {
        "duration": 3,
        "start_time": "2021-11-29T13:36:57.978Z"
      },
      {
        "duration": 63,
        "start_time": "2021-11-29T13:36:58.138Z"
      },
      {
        "duration": 20,
        "start_time": "2021-11-29T13:36:58.818Z"
      },
      {
        "duration": 14,
        "start_time": "2021-11-29T13:36:59.026Z"
      },
      {
        "duration": 32,
        "start_time": "2021-11-29T13:36:59.418Z"
      },
      {
        "duration": 5,
        "start_time": "2021-11-29T13:37:01.067Z"
      },
      {
        "duration": 5,
        "start_time": "2021-11-29T13:37:01.246Z"
      },
      {
        "duration": 7,
        "start_time": "2021-11-29T13:37:01.770Z"
      },
      {
        "duration": 18,
        "start_time": "2021-11-29T13:37:03.058Z"
      },
      {
        "duration": 10,
        "start_time": "2021-11-29T13:37:03.418Z"
      },
      {
        "duration": 4,
        "start_time": "2021-11-29T13:37:04.060Z"
      },
      {
        "duration": 7,
        "start_time": "2021-11-29T13:37:04.778Z"
      },
      {
        "duration": 11,
        "start_time": "2021-11-29T13:37:05.446Z"
      },
      {
        "duration": 14,
        "start_time": "2021-11-29T13:37:07.059Z"
      },
      {
        "duration": 7,
        "start_time": "2021-11-29T13:37:07.857Z"
      },
      {
        "duration": 19,
        "start_time": "2021-11-29T13:37:09.530Z"
      },
      {
        "duration": 10,
        "start_time": "2021-11-29T13:37:11.872Z"
      },
      {
        "duration": 11,
        "start_time": "2021-11-29T13:37:12.574Z"
      },
      {
        "duration": 88,
        "start_time": "2021-11-29T13:37:13.090Z"
      },
      {
        "duration": 12,
        "start_time": "2021-11-29T13:37:14.130Z"
      },
      {
        "duration": 436,
        "start_time": "2021-11-29T13:37:16.818Z"
      },
      {
        "duration": 8,
        "start_time": "2021-11-29T13:38:33.099Z"
      },
      {
        "duration": 16,
        "start_time": "2021-11-29T13:38:36.350Z"
      },
      {
        "duration": 8,
        "start_time": "2021-11-29T13:38:47.090Z"
      },
      {
        "duration": 14,
        "start_time": "2021-11-29T13:38:48.017Z"
      },
      {
        "duration": 13,
        "start_time": "2021-11-29T13:39:07.938Z"
      },
      {
        "duration": 4,
        "start_time": "2021-11-29T13:39:12.049Z"
      },
      {
        "duration": 64,
        "start_time": "2021-11-29T13:39:12.148Z"
      },
      {
        "duration": 20,
        "start_time": "2021-11-29T13:39:12.314Z"
      },
      {
        "duration": 14,
        "start_time": "2021-11-29T13:39:12.458Z"
      },
      {
        "duration": 29,
        "start_time": "2021-11-29T13:39:12.826Z"
      },
      {
        "duration": 4,
        "start_time": "2021-11-29T13:39:13.930Z"
      },
      {
        "duration": 5,
        "start_time": "2021-11-29T13:39:14.098Z"
      },
      {
        "duration": 6,
        "start_time": "2021-11-29T13:39:14.458Z"
      },
      {
        "duration": 19,
        "start_time": "2021-11-29T13:39:15.717Z"
      },
      {
        "duration": 11,
        "start_time": "2021-11-29T13:39:16.209Z"
      },
      {
        "duration": 4,
        "start_time": "2021-11-29T13:39:17.130Z"
      },
      {
        "duration": 7,
        "start_time": "2021-11-29T13:39:17.830Z"
      },
      {
        "duration": 11,
        "start_time": "2021-11-29T13:39:21.466Z"
      },
      {
        "duration": 13,
        "start_time": "2021-11-29T13:39:23.490Z"
      },
      {
        "duration": 6,
        "start_time": "2021-11-29T13:39:27.166Z"
      },
      {
        "duration": 18,
        "start_time": "2021-11-29T13:39:31.697Z"
      },
      {
        "duration": 7,
        "start_time": "2021-11-29T13:39:37.698Z"
      },
      {
        "duration": 11,
        "start_time": "2021-11-29T13:39:38.338Z"
      },
      {
        "duration": 3,
        "start_time": "2021-11-29T13:39:38.798Z"
      },
      {
        "duration": 8,
        "start_time": "2021-11-29T13:39:48.678Z"
      },
      {
        "duration": 18,
        "start_time": "2021-11-29T13:39:51.186Z"
      },
      {
        "duration": 7,
        "start_time": "2021-11-29T13:39:55.609Z"
      },
      {
        "duration": 16,
        "start_time": "2021-11-29T13:40:01.138Z"
      },
      {
        "duration": 23,
        "start_time": "2021-11-29T13:40:03.530Z"
      },
      {
        "duration": 7,
        "start_time": "2021-11-29T13:40:08.017Z"
      },
      {
        "duration": 17,
        "start_time": "2021-11-29T13:40:08.320Z"
      },
      {
        "duration": 9,
        "start_time": "2021-11-29T13:40:08.690Z"
      },
      {
        "duration": 25,
        "start_time": "2021-11-29T13:40:09.012Z"
      },
      {
        "duration": 27,
        "start_time": "2021-11-29T13:40:09.330Z"
      },
      {
        "duration": 24,
        "start_time": "2021-11-29T13:40:09.678Z"
      },
      {
        "duration": 22,
        "start_time": "2021-11-29T13:40:10.610Z"
      },
      {
        "duration": 8,
        "start_time": "2021-11-29T13:40:10.899Z"
      },
      {
        "duration": 51134,
        "start_time": "2021-11-29T13:40:11.270Z"
      },
      {
        "duration": 14,
        "start_time": "2021-11-29T13:41:02.408Z"
      },
      {
        "duration": 29,
        "start_time": "2021-11-29T13:41:02.425Z"
      },
      {
        "duration": 29,
        "start_time": "2021-11-29T13:41:02.456Z"
      },
      {
        "duration": 36,
        "start_time": "2021-11-29T13:41:02.488Z"
      },
      {
        "duration": 40,
        "start_time": "2021-11-29T13:41:02.526Z"
      },
      {
        "duration": 5,
        "start_time": "2021-11-29T13:41:28.018Z"
      },
      {
        "duration": 15,
        "start_time": "2021-11-29T13:41:29.499Z"
      },
      {
        "duration": 22,
        "start_time": "2021-11-29T13:41:30.669Z"
      },
      {
        "duration": 12,
        "start_time": "2021-11-29T13:41:31.518Z"
      },
      {
        "duration": 18,
        "start_time": "2021-11-29T13:41:43.627Z"
      },
      {
        "duration": 5,
        "start_time": "2021-11-29T13:41:55.859Z"
      },
      {
        "duration": 17,
        "start_time": "2021-11-29T13:41:58.745Z"
      },
      {
        "duration": 23,
        "start_time": "2021-11-29T13:41:59.525Z"
      },
      {
        "duration": 8,
        "start_time": "2021-11-29T13:42:02.608Z"
      },
      {
        "duration": 14,
        "start_time": "2021-11-29T13:42:08.986Z"
      },
      {
        "duration": 23,
        "start_time": "2021-11-29T13:42:09.426Z"
      },
      {
        "duration": 5,
        "start_time": "2021-11-29T13:42:13.586Z"
      },
      {
        "duration": 20,
        "start_time": "2021-11-29T13:42:14.186Z"
      },
      {
        "duration": 17,
        "start_time": "2021-11-29T13:42:14.417Z"
      },
      {
        "duration": 4,
        "start_time": "2021-11-29T13:42:24.106Z"
      },
      {
        "duration": 25,
        "start_time": "2021-11-29T13:42:27.339Z"
      },
      {
        "duration": 14,
        "start_time": "2021-11-29T13:42:29.706Z"
      },
      {
        "duration": 14,
        "start_time": "2021-11-29T13:42:38.266Z"
      },
      {
        "duration": 446,
        "start_time": "2021-11-29T13:43:03.554Z"
      },
      {
        "duration": 5,
        "start_time": "2021-11-29T13:43:09.266Z"
      },
      {
        "duration": 122,
        "start_time": "2021-11-29T13:45:35.266Z"
      },
      {
        "duration": 769,
        "start_time": "2021-11-30T07:01:27.960Z"
      },
      {
        "duration": 63,
        "start_time": "2021-11-30T07:01:28.732Z"
      },
      {
        "duration": 29,
        "start_time": "2021-11-30T07:01:28.798Z"
      },
      {
        "duration": 34,
        "start_time": "2021-11-30T07:01:28.830Z"
      },
      {
        "duration": 28,
        "start_time": "2021-11-30T07:01:28.866Z"
      },
      {
        "duration": 4,
        "start_time": "2021-11-30T07:01:28.897Z"
      },
      {
        "duration": 10,
        "start_time": "2021-11-30T07:01:28.903Z"
      },
      {
        "duration": 47,
        "start_time": "2021-11-30T07:01:28.917Z"
      },
      {
        "duration": 29,
        "start_time": "2021-11-30T07:01:28.968Z"
      },
      {
        "duration": 16,
        "start_time": "2021-11-30T07:01:28.999Z"
      },
      {
        "duration": 11,
        "start_time": "2021-11-30T07:01:29.018Z"
      },
      {
        "duration": 12,
        "start_time": "2021-11-30T07:01:29.060Z"
      },
      {
        "duration": 22,
        "start_time": "2021-11-30T07:01:29.074Z"
      },
      {
        "duration": 12,
        "start_time": "2021-11-30T07:01:29.099Z"
      },
      {
        "duration": 13,
        "start_time": "2021-11-30T07:01:29.114Z"
      },
      {
        "duration": 38,
        "start_time": "2021-11-30T07:01:29.129Z"
      },
      {
        "duration": 10,
        "start_time": "2021-11-30T07:01:29.169Z"
      },
      {
        "duration": 14,
        "start_time": "2021-11-30T07:01:29.182Z"
      },
      {
        "duration": 7,
        "start_time": "2021-11-30T07:01:29.198Z"
      },
      {
        "duration": 11,
        "start_time": "2021-11-30T07:01:29.208Z"
      },
      {
        "duration": 39,
        "start_time": "2021-11-30T07:01:29.222Z"
      },
      {
        "duration": 6,
        "start_time": "2021-11-30T07:01:29.264Z"
      },
      {
        "duration": 22,
        "start_time": "2021-11-30T07:01:29.276Z"
      },
      {
        "duration": 17,
        "start_time": "2021-11-30T07:01:29.302Z"
      },
      {
        "duration": 41,
        "start_time": "2021-11-30T07:01:29.322Z"
      },
      {
        "duration": 18,
        "start_time": "2021-11-30T07:01:29.366Z"
      },
      {
        "duration": 17,
        "start_time": "2021-11-30T07:01:29.386Z"
      },
      {
        "duration": 54,
        "start_time": "2021-11-30T07:01:29.405Z"
      },
      {
        "duration": 27,
        "start_time": "2021-11-30T07:01:29.462Z"
      },
      {
        "duration": 24,
        "start_time": "2021-11-30T07:01:29.492Z"
      },
      {
        "duration": 6,
        "start_time": "2021-11-30T07:01:29.519Z"
      },
      {
        "duration": 38,
        "start_time": "2021-11-30T07:01:29.528Z"
      },
      {
        "duration": 48487,
        "start_time": "2021-11-30T07:01:29.568Z"
      },
      {
        "duration": 13,
        "start_time": "2021-11-30T07:02:18.058Z"
      },
      {
        "duration": 6,
        "start_time": "2021-11-30T07:02:18.074Z"
      },
      {
        "duration": 8,
        "start_time": "2021-11-30T07:02:18.083Z"
      },
      {
        "duration": 8,
        "start_time": "2021-11-30T07:02:18.093Z"
      },
      {
        "duration": 86,
        "start_time": "2021-11-30T07:02:18.103Z"
      },
      {
        "duration": 70,
        "start_time": "2021-11-30T07:02:18.192Z"
      },
      {
        "duration": 138,
        "start_time": "2021-11-30T07:02:18.266Z"
      },
      {
        "duration": 87,
        "start_time": "2021-11-30T07:02:18.408Z"
      },
      {
        "duration": 102,
        "start_time": "2021-11-30T07:02:18.498Z"
      },
      {
        "duration": 20,
        "start_time": "2021-11-30T07:02:18.603Z"
      },
      {
        "duration": 5,
        "start_time": "2021-11-30T07:02:18.625Z"
      },
      {
        "duration": 20,
        "start_time": "2021-11-30T07:02:18.632Z"
      },
      {
        "duration": 23,
        "start_time": "2021-11-30T07:02:18.654Z"
      },
      {
        "duration": 9,
        "start_time": "2021-11-30T07:02:18.680Z"
      },
      {
        "duration": 14,
        "start_time": "2021-11-30T07:02:18.691Z"
      },
      {
        "duration": 54,
        "start_time": "2021-11-30T07:02:18.707Z"
      },
      {
        "duration": 6,
        "start_time": "2021-11-30T07:02:18.764Z"
      },
      {
        "duration": 26,
        "start_time": "2021-11-30T07:02:18.773Z"
      },
      {
        "duration": 19,
        "start_time": "2021-11-30T07:02:18.801Z"
      },
      {
        "duration": 3,
        "start_time": "2021-11-30T07:02:18.823Z"
      },
      {
        "duration": 53,
        "start_time": "2021-11-30T07:02:18.829Z"
      },
      {
        "duration": 16,
        "start_time": "2021-11-30T07:02:18.885Z"
      },
      {
        "duration": 458,
        "start_time": "2021-11-30T07:02:18.903Z"
      },
      {
        "duration": 6,
        "start_time": "2021-11-30T07:02:19.365Z"
      },
      {
        "duration": 31,
        "start_time": "2021-11-30T07:02:19.374Z"
      },
      {
        "duration": 15,
        "start_time": "2021-11-30T07:02:19.408Z"
      },
      {
        "duration": 338,
        "start_time": "2021-11-30T07:02:19.426Z"
      },
      {
        "duration": 5,
        "start_time": "2021-11-30T07:02:19.766Z"
      },
      {
        "duration": 18,
        "start_time": "2021-11-30T07:02:19.774Z"
      },
      {
        "duration": 94,
        "start_time": "2021-11-30T07:33:19.735Z"
      },
      {
        "duration": 13,
        "start_time": "2021-11-30T07:33:27.971Z"
      },
      {
        "duration": 16,
        "start_time": "2021-11-30T07:33:33.207Z"
      },
      {
        "duration": 19,
        "start_time": "2021-11-30T07:33:37.794Z"
      },
      {
        "duration": 64,
        "start_time": "2021-11-30T07:34:55.626Z"
      },
      {
        "duration": 134,
        "start_time": "2021-11-30T07:43:59.246Z"
      },
      {
        "duration": 1361,
        "start_time": "2021-11-30T07:44:04.894Z"
      },
      {
        "duration": 105,
        "start_time": "2021-11-30T07:44:24.383Z"
      },
      {
        "duration": 6,
        "start_time": "2021-11-30T07:44:50.327Z"
      },
      {
        "duration": 344,
        "start_time": "2021-11-30T07:51:16.792Z"
      },
      {
        "duration": 319,
        "start_time": "2021-11-30T07:51:22.625Z"
      },
      {
        "duration": 1074,
        "start_time": "2021-11-30T07:51:30.554Z"
      },
      {
        "duration": 224,
        "start_time": "2021-11-30T07:51:34.774Z"
      },
      {
        "duration": 78,
        "start_time": "2021-11-30T09:51:21.405Z"
      },
      {
        "duration": 275,
        "start_time": "2021-11-30T09:56:57.237Z"
      },
      {
        "duration": 239,
        "start_time": "2021-11-30T09:56:57.588Z"
      },
      {
        "duration": 579,
        "start_time": "2021-11-30T09:58:13.191Z"
      },
      {
        "duration": 49,
        "start_time": "2021-11-30T09:58:13.772Z"
      },
      {
        "duration": 16,
        "start_time": "2021-11-30T09:58:13.823Z"
      },
      {
        "duration": 12,
        "start_time": "2021-11-30T09:58:13.841Z"
      },
      {
        "duration": 40,
        "start_time": "2021-11-30T09:58:13.854Z"
      },
      {
        "duration": 3,
        "start_time": "2021-11-30T09:58:13.895Z"
      },
      {
        "duration": 12,
        "start_time": "2021-11-30T09:58:13.899Z"
      },
      {
        "duration": 10,
        "start_time": "2021-11-30T09:58:13.912Z"
      },
      {
        "duration": 16,
        "start_time": "2021-11-30T09:58:13.924Z"
      },
      {
        "duration": 6,
        "start_time": "2021-11-30T09:58:13.942Z"
      },
      {
        "duration": 6,
        "start_time": "2021-11-30T09:58:13.950Z"
      },
      {
        "duration": 10,
        "start_time": "2021-11-30T09:58:13.957Z"
      },
      {
        "duration": 21,
        "start_time": "2021-11-30T09:58:13.968Z"
      },
      {
        "duration": 9,
        "start_time": "2021-11-30T09:58:13.990Z"
      },
      {
        "duration": 11,
        "start_time": "2021-11-30T09:58:14.000Z"
      },
      {
        "duration": 15,
        "start_time": "2021-11-30T09:58:14.012Z"
      },
      {
        "duration": 10,
        "start_time": "2021-11-30T09:58:14.029Z"
      },
      {
        "duration": 15,
        "start_time": "2021-11-30T09:58:14.040Z"
      },
      {
        "duration": 7,
        "start_time": "2021-11-30T09:58:14.056Z"
      },
      {
        "duration": 10,
        "start_time": "2021-11-30T09:58:14.065Z"
      },
      {
        "duration": 12,
        "start_time": "2021-11-30T09:58:14.077Z"
      },
      {
        "duration": 4,
        "start_time": "2021-11-30T09:58:14.091Z"
      },
      {
        "duration": 19,
        "start_time": "2021-11-30T09:58:14.097Z"
      },
      {
        "duration": 10,
        "start_time": "2021-11-30T09:58:14.117Z"
      },
      {
        "duration": 24,
        "start_time": "2021-11-30T09:58:14.129Z"
      },
      {
        "duration": 30,
        "start_time": "2021-11-30T09:58:14.154Z"
      },
      {
        "duration": 29,
        "start_time": "2021-11-30T09:58:14.187Z"
      },
      {
        "duration": 24,
        "start_time": "2021-11-30T09:58:14.218Z"
      },
      {
        "duration": 25,
        "start_time": "2021-11-30T09:58:14.243Z"
      },
      {
        "duration": 18,
        "start_time": "2021-11-30T09:58:14.270Z"
      },
      {
        "duration": 6,
        "start_time": "2021-11-30T09:58:14.289Z"
      },
      {
        "duration": 18,
        "start_time": "2021-11-30T09:58:14.296Z"
      },
      {
        "duration": 33772,
        "start_time": "2021-11-30T09:58:14.316Z"
      },
      {
        "duration": 10,
        "start_time": "2021-11-30T09:58:48.090Z"
      },
      {
        "duration": 280,
        "start_time": "2021-11-30T09:58:48.101Z"
      },
      {
        "duration": -744,
        "start_time": "2021-11-30T09:58:49.127Z"
      },
      {
        "duration": -753,
        "start_time": "2021-11-30T09:58:49.137Z"
      },
      {
        "duration": -761,
        "start_time": "2021-11-30T09:58:49.146Z"
      },
      {
        "duration": -769,
        "start_time": "2021-11-30T09:58:49.155Z"
      },
      {
        "duration": -776,
        "start_time": "2021-11-30T09:58:49.163Z"
      },
      {
        "duration": -783,
        "start_time": "2021-11-30T09:58:49.171Z"
      },
      {
        "duration": -791,
        "start_time": "2021-11-30T09:58:49.180Z"
      },
      {
        "duration": -809,
        "start_time": "2021-11-30T09:58:49.199Z"
      },
      {
        "duration": -818,
        "start_time": "2021-11-30T09:58:49.209Z"
      },
      {
        "duration": -824,
        "start_time": "2021-11-30T09:58:49.216Z"
      },
      {
        "duration": -831,
        "start_time": "2021-11-30T09:58:49.223Z"
      },
      {
        "duration": -838,
        "start_time": "2021-11-30T09:58:49.231Z"
      },
      {
        "duration": -845,
        "start_time": "2021-11-30T09:58:49.239Z"
      },
      {
        "duration": -851,
        "start_time": "2021-11-30T09:58:49.246Z"
      },
      {
        "duration": -857,
        "start_time": "2021-11-30T09:58:49.253Z"
      },
      {
        "duration": -864,
        "start_time": "2021-11-30T09:58:49.261Z"
      },
      {
        "duration": -871,
        "start_time": "2021-11-30T09:58:49.269Z"
      },
      {
        "duration": -878,
        "start_time": "2021-11-30T09:58:49.276Z"
      },
      {
        "duration": -885,
        "start_time": "2021-11-30T09:58:49.284Z"
      },
      {
        "duration": -891,
        "start_time": "2021-11-30T09:58:49.291Z"
      },
      {
        "duration": -911,
        "start_time": "2021-11-30T09:58:49.312Z"
      },
      {
        "duration": -918,
        "start_time": "2021-11-30T09:58:49.320Z"
      },
      {
        "duration": -925,
        "start_time": "2021-11-30T09:58:49.328Z"
      },
      {
        "duration": -933,
        "start_time": "2021-11-30T09:58:49.337Z"
      },
      {
        "duration": -939,
        "start_time": "2021-11-30T09:58:49.344Z"
      },
      {
        "duration": -945,
        "start_time": "2021-11-30T09:58:49.351Z"
      },
      {
        "duration": -951,
        "start_time": "2021-11-30T09:58:49.357Z"
      },
      {
        "duration": 18,
        "start_time": "2021-11-30T09:59:08.605Z"
      },
      {
        "duration": 14,
        "start_time": "2021-11-30T09:59:15.253Z"
      },
      {
        "duration": 237,
        "start_time": "2021-11-30T09:59:34.429Z"
      },
      {
        "duration": 4,
        "start_time": "2021-11-30T09:59:46.524Z"
      },
      {
        "duration": 12,
        "start_time": "2021-11-30T09:59:57.125Z"
      },
      {
        "duration": 8,
        "start_time": "2021-11-30T10:00:10.421Z"
      },
      {
        "duration": 10,
        "start_time": "2021-11-30T10:00:23.069Z"
      },
      {
        "duration": 284,
        "start_time": "2021-11-30T10:02:10.836Z"
      },
      {
        "duration": 7,
        "start_time": "2021-11-30T10:02:25.373Z"
      },
      {
        "duration": 12,
        "start_time": "2021-11-30T10:02:25.397Z"
      },
      {
        "duration": 8,
        "start_time": "2021-11-30T10:02:25.411Z"
      },
      {
        "duration": 18,
        "start_time": "2021-11-30T10:02:25.421Z"
      },
      {
        "duration": 17,
        "start_time": "2021-11-30T10:02:25.441Z"
      },
      {
        "duration": 21,
        "start_time": "2021-11-30T10:02:25.460Z"
      },
      {
        "duration": 21,
        "start_time": "2021-11-30T10:02:25.488Z"
      },
      {
        "duration": 11,
        "start_time": "2021-11-30T10:02:25.512Z"
      },
      {
        "duration": 12,
        "start_time": "2021-11-30T10:02:25.526Z"
      },
      {
        "duration": 19,
        "start_time": "2021-11-30T10:02:25.539Z"
      },
      {
        "duration": 11,
        "start_time": "2021-11-30T10:02:25.560Z"
      },
      {
        "duration": 21,
        "start_time": "2021-11-30T10:02:25.573Z"
      },
      {
        "duration": 15,
        "start_time": "2021-11-30T10:02:25.596Z"
      },
      {
        "duration": 8,
        "start_time": "2021-11-30T10:02:25.613Z"
      },
      {
        "duration": 14,
        "start_time": "2021-11-30T10:02:25.623Z"
      },
      {
        "duration": 15,
        "start_time": "2021-11-30T10:02:25.639Z"
      },
      {
        "duration": 3,
        "start_time": "2021-11-30T10:02:25.655Z"
      },
      {
        "duration": 37,
        "start_time": "2021-11-30T10:02:25.660Z"
      },
      {
        "duration": 15,
        "start_time": "2021-11-30T10:02:25.699Z"
      },
      {
        "duration": 263,
        "start_time": "2021-11-30T10:02:25.716Z"
      },
      {
        "duration": 7,
        "start_time": "2021-11-30T10:02:25.981Z"
      },
      {
        "duration": 15,
        "start_time": "2021-11-30T10:02:25.990Z"
      },
      {
        "duration": 11,
        "start_time": "2021-11-30T10:02:26.007Z"
      },
      {
        "duration": 201,
        "start_time": "2021-11-30T10:02:26.020Z"
      },
      {
        "duration": 4,
        "start_time": "2021-11-30T10:02:26.223Z"
      },
      {
        "duration": 14,
        "start_time": "2021-11-30T10:02:26.228Z"
      },
      {
        "duration": 169,
        "start_time": "2021-11-30T10:03:27.623Z"
      },
      {
        "duration": 180,
        "start_time": "2021-11-30T10:03:39.957Z"
      },
      {
        "duration": 134,
        "start_time": "2021-11-30T10:06:22.829Z"
      },
      {
        "duration": 179,
        "start_time": "2021-11-30T10:06:55.440Z"
      },
      {
        "duration": 130,
        "start_time": "2021-11-30T10:07:01.994Z"
      },
      {
        "duration": 1919,
        "start_time": "2021-11-30T10:09:51.416Z"
      },
      {
        "duration": 7,
        "start_time": "2021-11-30T10:10:17.759Z"
      },
      {
        "duration": 113,
        "start_time": "2021-11-30T10:12:34.258Z"
      },
      {
        "duration": 8,
        "start_time": "2021-11-30T10:12:44.568Z"
      },
      {
        "duration": 6,
        "start_time": "2021-11-30T10:12:58.431Z"
      },
      {
        "duration": 8,
        "start_time": "2021-11-30T10:13:32.079Z"
      },
      {
        "duration": 7,
        "start_time": "2021-11-30T10:13:33.918Z"
      },
      {
        "duration": 26,
        "start_time": "2021-11-30T10:15:27.089Z"
      },
      {
        "duration": 91,
        "start_time": "2021-11-30T10:15:33.790Z"
      },
      {
        "duration": 96,
        "start_time": "2021-11-30T10:15:40.557Z"
      },
      {
        "duration": 79,
        "start_time": "2021-11-30T10:15:50.657Z"
      },
      {
        "duration": 79,
        "start_time": "2021-11-30T10:15:55.257Z"
      },
      {
        "duration": 85,
        "start_time": "2021-11-30T10:15:58.537Z"
      },
      {
        "duration": 90,
        "start_time": "2021-11-30T10:16:01.679Z"
      },
      {
        "duration": 25,
        "start_time": "2021-11-30T10:16:07.411Z"
      },
      {
        "duration": 6769,
        "start_time": "2021-11-30T10:16:26.059Z"
      },
      {
        "duration": 5,
        "start_time": "2021-11-30T10:16:36.614Z"
      },
      {
        "duration": 4,
        "start_time": "2021-11-30T10:16:47.467Z"
      },
      {
        "duration": 6,
        "start_time": "2021-11-30T10:17:36.264Z"
      },
      {
        "duration": 6,
        "start_time": "2021-11-30T10:17:54.940Z"
      },
      {
        "duration": 9,
        "start_time": "2021-11-30T10:18:52.225Z"
      },
      {
        "duration": 6,
        "start_time": "2021-11-30T10:18:59.353Z"
      },
      {
        "duration": 6,
        "start_time": "2021-11-30T10:19:09.464Z"
      },
      {
        "duration": 12,
        "start_time": "2021-11-30T10:21:37.674Z"
      },
      {
        "duration": 2,
        "start_time": "2021-11-30T10:21:58.303Z"
      },
      {
        "duration": 50,
        "start_time": "2021-11-30T10:21:58.307Z"
      },
      {
        "duration": 11,
        "start_time": "2021-11-30T10:21:58.358Z"
      },
      {
        "duration": 11,
        "start_time": "2021-11-30T10:21:58.371Z"
      },
      {
        "duration": 19,
        "start_time": "2021-11-30T10:21:58.426Z"
      },
      {
        "duration": 3,
        "start_time": "2021-11-30T10:21:58.446Z"
      },
      {
        "duration": 6,
        "start_time": "2021-11-30T10:21:58.451Z"
      },
      {
        "duration": 6,
        "start_time": "2021-11-30T10:21:58.458Z"
      },
      {
        "duration": 12,
        "start_time": "2021-11-30T10:21:58.465Z"
      },
      {
        "duration": 9,
        "start_time": "2021-11-30T10:21:58.479Z"
      },
      {
        "duration": 4,
        "start_time": "2021-11-30T10:21:58.489Z"
      },
      {
        "duration": 6,
        "start_time": "2021-11-30T10:21:58.494Z"
      },
      {
        "duration": 8,
        "start_time": "2021-11-30T10:21:58.502Z"
      },
      {
        "duration": 12,
        "start_time": "2021-11-30T10:21:58.511Z"
      },
      {
        "duration": 26,
        "start_time": "2021-11-30T10:21:58.525Z"
      },
      {
        "duration": 5,
        "start_time": "2021-11-30T10:21:58.552Z"
      },
      {
        "duration": 30,
        "start_time": "2021-11-30T10:21:58.558Z"
      },
      {
        "duration": 5,
        "start_time": "2021-11-30T10:21:58.589Z"
      },
      {
        "duration": 10,
        "start_time": "2021-11-30T10:21:58.595Z"
      },
      {
        "duration": 4,
        "start_time": "2021-11-30T10:21:58.606Z"
      },
      {
        "duration": 13,
        "start_time": "2021-11-30T10:21:58.612Z"
      },
      {
        "duration": 4,
        "start_time": "2021-11-30T10:22:10.541Z"
      },
      {
        "duration": 8,
        "start_time": "2021-11-30T10:22:11.692Z"
      },
      {
        "duration": 35,
        "start_time": "2021-11-30T10:22:12.495Z"
      },
      {
        "duration": 11,
        "start_time": "2021-11-30T10:22:13.813Z"
      },
      {
        "duration": 237,
        "start_time": "2021-11-30T10:23:24.759Z"
      },
      {
        "duration": 3,
        "start_time": "2021-11-30T10:23:48.395Z"
      },
      {
        "duration": 64,
        "start_time": "2021-11-30T10:25:19.601Z"
      },
      {
        "duration": 9,
        "start_time": "2021-11-30T10:25:20.721Z"
      },
      {
        "duration": 25,
        "start_time": "2021-11-30T10:33:17.700Z"
      },
      {
        "duration": 238,
        "start_time": "2021-11-30T10:33:27.114Z"
      },
      {
        "duration": 4,
        "start_time": "2021-11-30T10:33:39.023Z"
      },
      {
        "duration": 88,
        "start_time": "2021-11-30T10:34:08.635Z"
      },
      {
        "duration": 5,
        "start_time": "2021-11-30T10:34:12.925Z"
      },
      {
        "duration": 1048,
        "start_time": "2021-11-30T18:20:25.182Z"
      },
      {
        "duration": 85,
        "start_time": "2021-11-30T18:20:26.234Z"
      },
      {
        "duration": 40,
        "start_time": "2021-11-30T18:20:26.323Z"
      },
      {
        "duration": 42,
        "start_time": "2021-11-30T18:20:26.366Z"
      },
      {
        "duration": 96,
        "start_time": "2021-11-30T18:20:26.412Z"
      },
      {
        "duration": 7,
        "start_time": "2021-11-30T18:20:26.512Z"
      },
      {
        "duration": 9,
        "start_time": "2021-11-30T18:20:26.524Z"
      },
      {
        "duration": 6,
        "start_time": "2021-11-30T18:20:26.538Z"
      },
      {
        "duration": 60,
        "start_time": "2021-11-30T18:20:26.548Z"
      },
      {
        "duration": 17,
        "start_time": "2021-11-30T18:20:26.611Z"
      },
      {
        "duration": 7,
        "start_time": "2021-11-30T18:20:26.631Z"
      },
      {
        "duration": 7,
        "start_time": "2021-11-30T18:20:26.640Z"
      },
      {
        "duration": 42,
        "start_time": "2021-11-30T18:20:26.650Z"
      },
      {
        "duration": 12,
        "start_time": "2021-11-30T18:20:26.695Z"
      },
      {
        "duration": 87,
        "start_time": "2021-11-30T18:20:26.710Z"
      },
      {
        "duration": 15,
        "start_time": "2021-11-30T18:20:26.800Z"
      },
      {
        "duration": 16,
        "start_time": "2021-11-30T18:20:26.817Z"
      },
      {
        "duration": 14,
        "start_time": "2021-11-30T18:20:26.837Z"
      },
      {
        "duration": 25,
        "start_time": "2021-11-30T18:20:26.884Z"
      },
      {
        "duration": 8,
        "start_time": "2021-11-30T18:20:26.913Z"
      },
      {
        "duration": 34,
        "start_time": "2021-11-30T18:20:26.924Z"
      },
      {
        "duration": 5,
        "start_time": "2021-11-30T18:20:26.982Z"
      },
      {
        "duration": 164,
        "start_time": "2021-11-30T18:20:26.997Z"
      },
      {
        "duration": 14,
        "start_time": "2021-11-30T18:20:27.164Z"
      },
      {
        "duration": 11,
        "start_time": "2021-11-30T18:20:27.182Z"
      },
      {
        "duration": 27,
        "start_time": "2021-11-30T18:20:27.196Z"
      },
      {
        "duration": 18,
        "start_time": "2021-11-30T18:20:27.226Z"
      },
      {
        "duration": 47,
        "start_time": "2021-11-30T18:20:27.247Z"
      },
      {
        "duration": 29,
        "start_time": "2021-11-30T18:20:27.298Z"
      },
      {
        "duration": 13,
        "start_time": "2021-11-30T18:20:27.330Z"
      },
      {
        "duration": 66,
        "start_time": "2021-11-30T18:20:27.346Z"
      },
      {
        "duration": 36,
        "start_time": "2021-11-30T18:20:27.417Z"
      },
      {
        "duration": 58,
        "start_time": "2021-11-30T18:20:27.456Z"
      },
      {
        "duration": 14,
        "start_time": "2021-11-30T18:20:27.517Z"
      },
      {
        "duration": 12,
        "start_time": "2021-11-30T18:20:27.535Z"
      },
      {
        "duration": 55526,
        "start_time": "2021-11-30T18:20:27.552Z"
      },
      {
        "duration": 14,
        "start_time": "2021-11-30T18:21:23.082Z"
      },
      {
        "duration": 17,
        "start_time": "2021-11-30T18:21:23.099Z"
      },
      {
        "duration": 17,
        "start_time": "2021-11-30T18:21:23.119Z"
      },
      {
        "duration": 54,
        "start_time": "2021-11-30T18:21:23.138Z"
      },
      {
        "duration": 6,
        "start_time": "2021-11-30T18:21:23.197Z"
      },
      {
        "duration": 17,
        "start_time": "2021-11-30T18:21:23.205Z"
      },
      {
        "duration": 23,
        "start_time": "2021-11-30T18:21:23.224Z"
      },
      {
        "duration": 40,
        "start_time": "2021-11-30T18:21:23.250Z"
      },
      {
        "duration": 20,
        "start_time": "2021-11-30T18:21:23.293Z"
      },
      {
        "duration": 5,
        "start_time": "2021-11-30T18:21:23.315Z"
      },
      {
        "duration": 16,
        "start_time": "2021-11-30T18:21:23.323Z"
      },
      {
        "duration": 66,
        "start_time": "2021-11-30T18:21:23.341Z"
      },
      {
        "duration": 12,
        "start_time": "2021-11-30T18:21:23.410Z"
      },
      {
        "duration": 19,
        "start_time": "2021-11-30T18:21:23.425Z"
      },
      {
        "duration": 47,
        "start_time": "2021-11-30T18:21:23.446Z"
      },
      {
        "duration": 6,
        "start_time": "2021-11-30T18:21:23.496Z"
      },
      {
        "duration": 36,
        "start_time": "2021-11-30T18:21:23.505Z"
      },
      {
        "duration": 44,
        "start_time": "2021-11-30T18:21:23.544Z"
      },
      {
        "duration": 5,
        "start_time": "2021-11-30T18:21:23.591Z"
      },
      {
        "duration": 34,
        "start_time": "2021-11-30T18:21:23.598Z"
      },
      {
        "duration": 60,
        "start_time": "2021-11-30T18:21:23.635Z"
      },
      {
        "duration": 507,
        "start_time": "2021-11-30T18:21:23.698Z"
      },
      {
        "duration": 6,
        "start_time": "2021-11-30T18:21:24.208Z"
      },
      {
        "duration": 23,
        "start_time": "2021-11-30T18:21:24.217Z"
      },
      {
        "duration": 43,
        "start_time": "2021-11-30T18:21:24.243Z"
      },
      {
        "duration": 271,
        "start_time": "2021-11-30T18:21:24.289Z"
      },
      {
        "duration": 6,
        "start_time": "2021-11-30T18:21:24.562Z"
      },
      {
        "duration": 19,
        "start_time": "2021-11-30T18:21:24.583Z"
      },
      {
        "duration": 7,
        "start_time": "2021-11-30T18:22:08.283Z"
      },
      {
        "duration": 6,
        "start_time": "2021-11-30T18:22:13.313Z"
      },
      {
        "duration": 8,
        "start_time": "2021-11-30T18:23:03.746Z"
      },
      {
        "duration": 5,
        "start_time": "2021-11-30T18:23:11.197Z"
      },
      {
        "duration": 15,
        "start_time": "2021-11-30T18:23:35.027Z"
      },
      {
        "duration": 9,
        "start_time": "2021-11-30T18:23:37.309Z"
      },
      {
        "duration": 9,
        "start_time": "2021-11-30T18:23:41.268Z"
      },
      {
        "duration": 578,
        "start_time": "2021-11-30T20:05:18.218Z"
      },
      {
        "duration": 47,
        "start_time": "2021-11-30T20:05:18.798Z"
      },
      {
        "duration": 17,
        "start_time": "2021-11-30T20:05:18.847Z"
      },
      {
        "duration": 26,
        "start_time": "2021-11-30T20:05:18.866Z"
      },
      {
        "duration": 21,
        "start_time": "2021-11-30T20:05:18.894Z"
      },
      {
        "duration": 3,
        "start_time": "2021-11-30T20:05:18.917Z"
      },
      {
        "duration": 6,
        "start_time": "2021-11-30T20:05:18.921Z"
      },
      {
        "duration": 6,
        "start_time": "2021-11-30T20:05:18.929Z"
      },
      {
        "duration": 53,
        "start_time": "2021-11-30T20:05:18.937Z"
      },
      {
        "duration": 7,
        "start_time": "2021-11-30T20:05:18.991Z"
      },
      {
        "duration": 4,
        "start_time": "2021-11-30T20:05:19.000Z"
      },
      {
        "duration": 7,
        "start_time": "2021-11-30T20:05:19.006Z"
      },
      {
        "duration": 8,
        "start_time": "2021-11-30T20:05:19.015Z"
      },
      {
        "duration": 6,
        "start_time": "2021-11-30T20:05:19.025Z"
      },
      {
        "duration": 27,
        "start_time": "2021-11-30T20:05:19.033Z"
      },
      {
        "duration": 27,
        "start_time": "2021-11-30T20:05:19.061Z"
      },
      {
        "duration": 8,
        "start_time": "2021-11-30T20:05:19.089Z"
      },
      {
        "duration": 5,
        "start_time": "2021-11-30T20:05:19.098Z"
      },
      {
        "duration": 12,
        "start_time": "2021-11-30T20:05:19.104Z"
      },
      {
        "duration": 5,
        "start_time": "2021-11-30T20:05:19.117Z"
      },
      {
        "duration": 13,
        "start_time": "2021-11-30T20:05:19.123Z"
      },
      {
        "duration": 4,
        "start_time": "2021-11-30T20:05:19.138Z"
      },
      {
        "duration": 93,
        "start_time": "2021-11-30T20:05:19.145Z"
      },
      {
        "duration": 8,
        "start_time": "2021-11-30T20:05:19.241Z"
      },
      {
        "duration": 8,
        "start_time": "2021-11-30T20:05:19.250Z"
      },
      {
        "duration": 11,
        "start_time": "2021-11-30T20:05:19.259Z"
      },
      {
        "duration": 24,
        "start_time": "2021-11-30T20:05:19.272Z"
      },
      {
        "duration": 9,
        "start_time": "2021-11-30T20:05:19.297Z"
      },
      {
        "duration": 10,
        "start_time": "2021-11-30T20:05:19.308Z"
      },
      {
        "duration": 11,
        "start_time": "2021-11-30T20:05:19.319Z"
      },
      {
        "duration": 15,
        "start_time": "2021-11-30T20:05:19.332Z"
      },
      {
        "duration": 17,
        "start_time": "2021-11-30T20:05:19.348Z"
      },
      {
        "duration": 14,
        "start_time": "2021-11-30T20:05:19.388Z"
      },
      {
        "duration": 12,
        "start_time": "2021-11-30T20:05:19.404Z"
      },
      {
        "duration": 8,
        "start_time": "2021-11-30T20:05:19.418Z"
      },
      {
        "duration": 37351,
        "start_time": "2021-11-30T20:05:19.428Z"
      },
      {
        "duration": 10,
        "start_time": "2021-11-30T20:05:56.781Z"
      },
      {
        "duration": 14,
        "start_time": "2021-11-30T20:05:56.793Z"
      },
      {
        "duration": 12,
        "start_time": "2021-11-30T20:05:56.809Z"
      },
      {
        "duration": 17,
        "start_time": "2021-11-30T20:05:56.822Z"
      },
      {
        "duration": 5,
        "start_time": "2021-11-30T20:05:56.840Z"
      },
      {
        "duration": 13,
        "start_time": "2021-11-30T20:05:56.847Z"
      },
      {
        "duration": 38,
        "start_time": "2021-11-30T20:05:56.862Z"
      },
      {
        "duration": 8,
        "start_time": "2021-11-30T20:05:56.902Z"
      },
      {
        "duration": 15,
        "start_time": "2021-11-30T20:05:56.912Z"
      },
      {
        "duration": 4,
        "start_time": "2021-11-30T20:05:56.929Z"
      },
      {
        "duration": 21,
        "start_time": "2021-11-30T20:05:56.936Z"
      },
      {
        "duration": 40,
        "start_time": "2021-11-30T20:05:56.960Z"
      },
      {
        "duration": 7,
        "start_time": "2021-11-30T20:05:57.001Z"
      },
      {
        "duration": 12,
        "start_time": "2021-11-30T20:05:57.010Z"
      },
      {
        "duration": 15,
        "start_time": "2021-11-30T20:05:57.024Z"
      },
      {
        "duration": 4,
        "start_time": "2021-11-30T20:05:57.041Z"
      },
      {
        "duration": 53,
        "start_time": "2021-11-30T20:05:57.047Z"
      },
      {
        "duration": 15,
        "start_time": "2021-11-30T20:05:57.102Z"
      },
      {
        "duration": 4,
        "start_time": "2021-11-30T20:05:57.119Z"
      },
      {
        "duration": 24,
        "start_time": "2021-11-30T20:05:57.124Z"
      },
      {
        "duration": 13,
        "start_time": "2021-11-30T20:05:57.150Z"
      },
      {
        "duration": 234,
        "start_time": "2021-11-30T20:05:57.164Z"
      },
      {
        "duration": 5,
        "start_time": "2021-11-30T20:05:57.399Z"
      },
      {
        "duration": 14,
        "start_time": "2021-11-30T20:05:57.406Z"
      },
      {
        "duration": 9,
        "start_time": "2021-11-30T20:05:57.422Z"
      },
      {
        "duration": 174,
        "start_time": "2021-11-30T20:05:57.433Z"
      },
      {
        "duration": 4,
        "start_time": "2021-11-30T20:05:57.609Z"
      },
      {
        "duration": 19,
        "start_time": "2021-11-30T20:05:57.615Z"
      },
      {
        "duration": 83,
        "start_time": "2021-11-30T20:07:00.199Z"
      },
      {
        "duration": 81,
        "start_time": "2021-11-30T20:07:50.130Z"
      },
      {
        "duration": 83,
        "start_time": "2021-11-30T20:07:58.267Z"
      },
      {
        "duration": 7,
        "start_time": "2021-11-30T20:08:48.975Z"
      },
      {
        "duration": 6,
        "start_time": "2021-11-30T20:08:50.842Z"
      },
      {
        "duration": 81,
        "start_time": "2021-11-30T20:10:01.824Z"
      },
      {
        "duration": 5,
        "start_time": "2021-11-30T20:10:02.219Z"
      },
      {
        "duration": 6,
        "start_time": "2021-11-30T20:10:08.238Z"
      },
      {
        "duration": 5,
        "start_time": "2021-11-30T20:10:08.882Z"
      },
      {
        "duration": 7,
        "start_time": "2021-11-30T20:10:12.863Z"
      },
      {
        "duration": 5,
        "start_time": "2021-11-30T20:10:13.081Z"
      },
      {
        "duration": 6,
        "start_time": "2021-11-30T20:10:49.778Z"
      },
      {
        "duration": 6,
        "start_time": "2021-11-30T20:10:50.066Z"
      },
      {
        "duration": 2,
        "start_time": "2021-11-30T20:10:57.913Z"
      },
      {
        "duration": 68,
        "start_time": "2021-11-30T20:10:57.918Z"
      },
      {
        "duration": 19,
        "start_time": "2021-11-30T20:10:57.988Z"
      },
      {
        "duration": 16,
        "start_time": "2021-11-30T20:10:58.009Z"
      },
      {
        "duration": 25,
        "start_time": "2021-11-30T20:10:58.027Z"
      },
      {
        "duration": 34,
        "start_time": "2021-11-30T20:10:58.055Z"
      },
      {
        "duration": 4,
        "start_time": "2021-11-30T20:10:58.090Z"
      },
      {
        "duration": 20,
        "start_time": "2021-11-30T20:10:58.095Z"
      },
      {
        "duration": 14,
        "start_time": "2021-11-30T20:10:58.117Z"
      },
      {
        "duration": 7,
        "start_time": "2021-11-30T20:10:58.133Z"
      },
      {
        "duration": 3,
        "start_time": "2021-11-30T20:10:58.141Z"
      },
      {
        "duration": 5,
        "start_time": "2021-11-30T20:10:58.146Z"
      },
      {
        "duration": 7,
        "start_time": "2021-11-30T20:10:58.153Z"
      },
      {
        "duration": 30,
        "start_time": "2021-11-30T20:10:58.162Z"
      },
      {
        "duration": 29,
        "start_time": "2021-11-30T20:10:58.193Z"
      },
      {
        "duration": 4,
        "start_time": "2021-11-30T20:10:58.224Z"
      },
      {
        "duration": 8,
        "start_time": "2021-11-30T20:10:58.230Z"
      },
      {
        "duration": 7,
        "start_time": "2021-11-30T20:10:58.240Z"
      },
      {
        "duration": 43,
        "start_time": "2021-11-30T20:10:58.249Z"
      },
      {
        "duration": 6,
        "start_time": "2021-11-30T20:10:58.294Z"
      },
      {
        "duration": 11,
        "start_time": "2021-11-30T20:10:58.301Z"
      },
      {
        "duration": 4,
        "start_time": "2021-11-30T20:10:58.314Z"
      },
      {
        "duration": 84,
        "start_time": "2021-11-30T20:10:58.320Z"
      },
      {
        "duration": 8,
        "start_time": "2021-11-30T20:10:58.408Z"
      },
      {
        "duration": 5,
        "start_time": "2021-11-30T20:10:58.418Z"
      },
      {
        "duration": 10,
        "start_time": "2021-11-30T20:10:58.425Z"
      },
      {
        "duration": 9,
        "start_time": "2021-11-30T20:10:58.437Z"
      },
      {
        "duration": 5,
        "start_time": "2021-11-30T20:10:58.448Z"
      },
      {
        "duration": 42,
        "start_time": "2021-11-30T20:10:58.454Z"
      },
      {
        "duration": 7,
        "start_time": "2021-11-30T20:10:58.498Z"
      },
      {
        "duration": 16,
        "start_time": "2021-11-30T20:10:58.506Z"
      },
      {
        "duration": 16,
        "start_time": "2021-11-30T20:10:58.523Z"
      },
      {
        "duration": 14,
        "start_time": "2021-11-30T20:10:58.541Z"
      },
      {
        "duration": 2,
        "start_time": "2021-11-30T20:10:58.556Z"
      },
      {
        "duration": 5,
        "start_time": "2021-11-30T20:10:58.587Z"
      },
      {
        "duration": 35571,
        "start_time": "2021-11-30T20:10:58.594Z"
      },
      {
        "duration": 10,
        "start_time": "2021-11-30T20:11:34.167Z"
      },
      {
        "duration": 18,
        "start_time": "2021-11-30T20:11:34.178Z"
      },
      {
        "duration": 14,
        "start_time": "2021-11-30T20:11:34.198Z"
      },
      {
        "duration": 17,
        "start_time": "2021-11-30T20:11:34.213Z"
      },
      {
        "duration": 6,
        "start_time": "2021-11-30T20:11:34.231Z"
      },
      {
        "duration": 11,
        "start_time": "2021-11-30T20:11:34.238Z"
      },
      {
        "duration": 19,
        "start_time": "2021-11-30T20:11:34.250Z"
      },
      {
        "duration": 19,
        "start_time": "2021-11-30T20:11:34.270Z"
      },
      {
        "duration": 13,
        "start_time": "2021-11-30T20:11:34.291Z"
      },
      {
        "duration": 3,
        "start_time": "2021-11-30T20:11:34.306Z"
      },
      {
        "duration": 13,
        "start_time": "2021-11-30T20:11:34.310Z"
      },
      {
        "duration": 12,
        "start_time": "2021-11-30T20:11:34.325Z"
      },
      {
        "duration": 6,
        "start_time": "2021-11-30T20:11:34.339Z"
      },
      {
        "duration": 9,
        "start_time": "2021-11-30T20:11:34.347Z"
      },
      {
        "duration": 11,
        "start_time": "2021-11-30T20:11:34.388Z"
      },
      {
        "duration": 3,
        "start_time": "2021-11-30T20:11:34.401Z"
      },
      {
        "duration": 14,
        "start_time": "2021-11-30T20:11:34.405Z"
      },
      {
        "duration": 10,
        "start_time": "2021-11-30T20:11:34.421Z"
      },
      {
        "duration": 4,
        "start_time": "2021-11-30T20:11:34.433Z"
      },
      {
        "duration": 20,
        "start_time": "2021-11-30T20:11:34.439Z"
      },
      {
        "duration": 10,
        "start_time": "2021-11-30T20:11:34.489Z"
      },
      {
        "duration": 144,
        "start_time": "2021-11-30T20:11:34.501Z"
      },
      {
        "duration": 3,
        "start_time": "2021-11-30T20:11:34.647Z"
      },
      {
        "duration": 13,
        "start_time": "2021-11-30T20:11:34.652Z"
      },
      {
        "duration": 27,
        "start_time": "2021-11-30T20:11:34.667Z"
      },
      {
        "duration": 193,
        "start_time": "2021-11-30T20:11:34.696Z"
      },
      {
        "duration": 3,
        "start_time": "2021-11-30T20:11:34.891Z"
      },
      {
        "duration": 12,
        "start_time": "2021-11-30T20:11:34.896Z"
      },
      {
        "duration": 8,
        "start_time": "2021-11-30T20:12:13.265Z"
      },
      {
        "duration": 6,
        "start_time": "2021-11-30T20:12:13.865Z"
      },
      {
        "duration": 7,
        "start_time": "2021-11-30T20:12:18.448Z"
      },
      {
        "duration": 5,
        "start_time": "2021-11-30T20:12:18.876Z"
      },
      {
        "duration": 2,
        "start_time": "2021-11-30T20:12:56.217Z"
      },
      {
        "duration": 46,
        "start_time": "2021-11-30T20:12:56.225Z"
      },
      {
        "duration": 13,
        "start_time": "2021-11-30T20:12:56.273Z"
      },
      {
        "duration": 10,
        "start_time": "2021-11-30T20:12:56.288Z"
      },
      {
        "duration": 21,
        "start_time": "2021-11-30T20:12:56.301Z"
      },
      {
        "duration": 4,
        "start_time": "2021-11-30T20:12:56.323Z"
      },
      {
        "duration": 5,
        "start_time": "2021-11-30T20:12:56.328Z"
      },
      {
        "duration": 5,
        "start_time": "2021-11-30T20:12:56.335Z"
      },
      {
        "duration": 48,
        "start_time": "2021-11-30T20:12:56.342Z"
      },
      {
        "duration": 9,
        "start_time": "2021-11-30T20:12:56.393Z"
      },
      {
        "duration": 4,
        "start_time": "2021-11-30T20:12:56.403Z"
      },
      {
        "duration": 6,
        "start_time": "2021-11-30T20:12:56.408Z"
      },
      {
        "duration": 9,
        "start_time": "2021-11-30T20:12:56.415Z"
      },
      {
        "duration": 7,
        "start_time": "2021-11-30T20:12:56.426Z"
      },
      {
        "duration": 59,
        "start_time": "2021-11-30T20:12:56.434Z"
      },
      {
        "duration": 5,
        "start_time": "2021-11-30T20:12:56.495Z"
      },
      {
        "duration": 8,
        "start_time": "2021-11-30T20:12:56.502Z"
      },
      {
        "duration": 6,
        "start_time": "2021-11-30T20:12:56.512Z"
      },
      {
        "duration": 14,
        "start_time": "2021-11-30T20:12:56.520Z"
      },
      {
        "duration": 5,
        "start_time": "2021-11-30T20:12:56.536Z"
      },
      {
        "duration": 54,
        "start_time": "2021-11-30T20:12:56.543Z"
      },
      {
        "duration": 3,
        "start_time": "2021-11-30T20:12:56.599Z"
      },
      {
        "duration": 127,
        "start_time": "2021-11-30T20:12:56.604Z"
      },
      {
        "duration": 13,
        "start_time": "2021-11-30T20:12:56.733Z"
      },
      {
        "duration": 5,
        "start_time": "2021-11-30T20:12:56.748Z"
      },
      {
        "duration": 37,
        "start_time": "2021-11-30T20:12:56.755Z"
      },
      {
        "duration": 16,
        "start_time": "2021-11-30T20:12:56.794Z"
      },
      {
        "duration": 6,
        "start_time": "2021-11-30T20:12:56.816Z"
      },
      {
        "duration": 16,
        "start_time": "2021-11-30T20:12:56.826Z"
      },
      {
        "duration": 9,
        "start_time": "2021-11-30T20:12:56.844Z"
      },
      {
        "duration": 46,
        "start_time": "2021-11-30T20:12:56.856Z"
      },
      {
        "duration": 27,
        "start_time": "2021-11-30T20:12:56.904Z"
      },
      {
        "duration": 21,
        "start_time": "2021-11-30T20:12:56.933Z"
      },
      {
        "duration": 4,
        "start_time": "2021-11-30T20:12:56.956Z"
      },
      {
        "duration": 28,
        "start_time": "2021-11-30T20:12:56.962Z"
      },
      {
        "duration": 35312,
        "start_time": "2021-11-30T20:12:56.992Z"
      },
      {
        "duration": 9,
        "start_time": "2021-11-30T20:13:32.306Z"
      },
      {
        "duration": 15,
        "start_time": "2021-11-30T20:13:32.316Z"
      },
      {
        "duration": 19,
        "start_time": "2021-11-30T20:13:32.332Z"
      },
      {
        "duration": 17,
        "start_time": "2021-11-30T20:13:32.353Z"
      },
      {
        "duration": 16,
        "start_time": "2021-11-30T20:13:32.372Z"
      },
      {
        "duration": 17,
        "start_time": "2021-11-30T20:13:32.389Z"
      },
      {
        "duration": 14,
        "start_time": "2021-11-30T20:13:32.408Z"
      },
      {
        "duration": 7,
        "start_time": "2021-11-30T20:13:32.424Z"
      },
      {
        "duration": 16,
        "start_time": "2021-11-30T20:13:32.433Z"
      },
      {
        "duration": 3,
        "start_time": "2021-11-30T20:13:32.451Z"
      },
      {
        "duration": 31,
        "start_time": "2021-11-30T20:13:32.456Z"
      },
      {
        "duration": 13,
        "start_time": "2021-11-30T20:13:32.489Z"
      },
      {
        "duration": 6,
        "start_time": "2021-11-30T20:13:32.504Z"
      },
      {
        "duration": 10,
        "start_time": "2021-11-30T20:13:32.512Z"
      },
      {
        "duration": 11,
        "start_time": "2021-11-30T20:13:32.524Z"
      },
      {
        "duration": 3,
        "start_time": "2021-11-30T20:13:32.537Z"
      },
      {
        "duration": 50,
        "start_time": "2021-11-30T20:13:32.542Z"
      },
      {
        "duration": 11,
        "start_time": "2021-11-30T20:13:32.594Z"
      },
      {
        "duration": 3,
        "start_time": "2021-11-30T20:13:32.607Z"
      },
      {
        "duration": 16,
        "start_time": "2021-11-30T20:13:32.612Z"
      },
      {
        "duration": 12,
        "start_time": "2021-11-30T20:13:32.630Z"
      },
      {
        "duration": 244,
        "start_time": "2021-11-30T20:13:32.644Z"
      },
      {
        "duration": 4,
        "start_time": "2021-11-30T20:13:32.891Z"
      },
      {
        "duration": 18,
        "start_time": "2021-11-30T20:13:32.897Z"
      },
      {
        "duration": 12,
        "start_time": "2021-11-30T20:13:32.917Z"
      },
      {
        "duration": 240,
        "start_time": "2021-11-30T20:13:32.931Z"
      },
      {
        "duration": 4,
        "start_time": "2021-11-30T20:13:33.173Z"
      },
      {
        "duration": 11,
        "start_time": "2021-11-30T20:13:33.187Z"
      },
      {
        "duration": 6,
        "start_time": "2021-11-30T20:13:33.202Z"
      },
      {
        "duration": 27,
        "start_time": "2021-11-30T20:14:01.372Z"
      },
      {
        "duration": 8,
        "start_time": "2021-11-30T20:14:27.236Z"
      },
      {
        "duration": 18,
        "start_time": "2021-11-30T20:14:27.818Z"
      },
      {
        "duration": 2,
        "start_time": "2021-11-30T20:16:17.338Z"
      },
      {
        "duration": 45,
        "start_time": "2021-11-30T20:16:17.501Z"
      },
      {
        "duration": 12,
        "start_time": "2021-11-30T20:16:17.673Z"
      },
      {
        "duration": 10,
        "start_time": "2021-11-30T20:16:17.850Z"
      },
      {
        "duration": 20,
        "start_time": "2021-11-30T20:16:18.567Z"
      },
      {
        "duration": 4,
        "start_time": "2021-11-30T20:16:19.504Z"
      },
      {
        "duration": 4,
        "start_time": "2021-11-30T20:16:19.668Z"
      },
      {
        "duration": 5,
        "start_time": "2021-11-30T20:16:19.950Z"
      },
      {
        "duration": 12,
        "start_time": "2021-11-30T20:16:22.491Z"
      },
      {
        "duration": 7,
        "start_time": "2021-11-30T20:16:23.044Z"
      },
      {
        "duration": 4,
        "start_time": "2021-11-30T20:16:24.223Z"
      },
      {
        "duration": 4,
        "start_time": "2021-11-30T20:16:25.389Z"
      },
      {
        "duration": 9,
        "start_time": "2021-11-30T20:16:27.608Z"
      },
      {
        "duration": 7,
        "start_time": "2021-11-30T20:16:29.081Z"
      },
      {
        "duration": 27,
        "start_time": "2021-11-30T20:16:30.832Z"
      },
      {
        "duration": 5,
        "start_time": "2021-11-30T20:16:32.471Z"
      },
      {
        "duration": 8,
        "start_time": "2021-11-30T20:16:33.886Z"
      },
      {
        "duration": 31,
        "start_time": "2021-11-30T20:16:34.718Z"
      },
      {
        "duration": 8,
        "start_time": "2021-11-30T20:16:36.025Z"
      },
      {
        "duration": 10,
        "start_time": "2021-12-01T07:29:50.483Z"
      },
      {
        "duration": 641,
        "start_time": "2021-12-01T07:31:17.382Z"
      },
      {
        "duration": 52,
        "start_time": "2021-12-01T07:31:18.025Z"
      },
      {
        "duration": 19,
        "start_time": "2021-12-01T07:31:18.079Z"
      },
      {
        "duration": 15,
        "start_time": "2021-12-01T07:31:18.100Z"
      },
      {
        "duration": 23,
        "start_time": "2021-12-01T07:31:18.116Z"
      },
      {
        "duration": 3,
        "start_time": "2021-12-01T07:31:18.141Z"
      },
      {
        "duration": 7,
        "start_time": "2021-12-01T07:31:18.146Z"
      },
      {
        "duration": 13,
        "start_time": "2021-12-01T07:31:18.155Z"
      },
      {
        "duration": 41,
        "start_time": "2021-12-01T07:31:18.170Z"
      },
      {
        "duration": 11,
        "start_time": "2021-12-01T07:31:18.213Z"
      },
      {
        "duration": 9,
        "start_time": "2021-12-01T07:31:18.225Z"
      },
      {
        "duration": 8,
        "start_time": "2021-12-01T07:31:18.236Z"
      },
      {
        "duration": 12,
        "start_time": "2021-12-01T07:31:18.246Z"
      },
      {
        "duration": 7,
        "start_time": "2021-12-01T07:31:18.260Z"
      },
      {
        "duration": 56,
        "start_time": "2021-12-01T07:31:18.269Z"
      },
      {
        "duration": 5,
        "start_time": "2021-12-01T07:31:18.327Z"
      },
      {
        "duration": 23,
        "start_time": "2021-12-01T07:31:18.334Z"
      },
      {
        "duration": 15,
        "start_time": "2021-12-01T07:31:18.359Z"
      },
      {
        "duration": 45,
        "start_time": "2021-12-01T07:31:18.376Z"
      },
      {
        "duration": 8,
        "start_time": "2021-12-01T07:31:18.423Z"
      },
      {
        "duration": 12,
        "start_time": "2021-12-01T07:31:18.433Z"
      },
      {
        "duration": 9,
        "start_time": "2021-12-01T07:31:18.447Z"
      },
      {
        "duration": 13,
        "start_time": "2021-12-01T07:31:18.460Z"
      },
      {
        "duration": 31,
        "start_time": "2021-12-01T07:31:18.476Z"
      },
      {
        "duration": 72,
        "start_time": "2021-12-01T07:31:18.508Z"
      },
      {
        "duration": 10,
        "start_time": "2021-12-01T07:31:18.582Z"
      },
      {
        "duration": 13,
        "start_time": "2021-12-01T07:31:18.594Z"
      },
      {
        "duration": 16,
        "start_time": "2021-12-01T07:31:18.608Z"
      },
      {
        "duration": 12,
        "start_time": "2021-12-01T07:31:18.626Z"
      },
      {
        "duration": 8,
        "start_time": "2021-12-01T07:31:18.640Z"
      },
      {
        "duration": 13,
        "start_time": "2021-12-01T07:31:18.650Z"
      },
      {
        "duration": 9,
        "start_time": "2021-12-01T07:31:18.665Z"
      },
      {
        "duration": 48,
        "start_time": "2021-12-01T07:31:18.676Z"
      },
      {
        "duration": 21,
        "start_time": "2021-12-01T07:31:18.727Z"
      },
      {
        "duration": 19,
        "start_time": "2021-12-01T07:31:18.750Z"
      },
      {
        "duration": 36,
        "start_time": "2021-12-01T07:31:18.771Z"
      },
      {
        "duration": 8,
        "start_time": "2021-12-01T07:31:18.809Z"
      },
      {
        "duration": 37360,
        "start_time": "2021-12-01T07:31:18.819Z"
      },
      {
        "duration": 10,
        "start_time": "2021-12-01T07:31:56.181Z"
      },
      {
        "duration": 19,
        "start_time": "2021-12-01T07:31:56.193Z"
      },
      {
        "duration": 26,
        "start_time": "2021-12-01T07:31:56.214Z"
      },
      {
        "duration": 16,
        "start_time": "2021-12-01T07:31:56.242Z"
      },
      {
        "duration": 8,
        "start_time": "2021-12-01T07:31:56.260Z"
      },
      {
        "duration": 18,
        "start_time": "2021-12-01T07:31:56.270Z"
      },
      {
        "duration": 25,
        "start_time": "2021-12-01T07:31:56.291Z"
      },
      {
        "duration": 7,
        "start_time": "2021-12-01T07:31:56.318Z"
      },
      {
        "duration": 15,
        "start_time": "2021-12-01T07:31:56.327Z"
      },
      {
        "duration": 3,
        "start_time": "2021-12-01T07:31:56.344Z"
      },
      {
        "duration": 12,
        "start_time": "2021-12-01T07:31:56.349Z"
      },
      {
        "duration": 46,
        "start_time": "2021-12-01T07:31:56.362Z"
      },
      {
        "duration": 6,
        "start_time": "2021-12-01T07:31:56.410Z"
      },
      {
        "duration": 13,
        "start_time": "2021-12-01T07:31:56.417Z"
      },
      {
        "duration": 13,
        "start_time": "2021-12-01T07:31:56.432Z"
      },
      {
        "duration": 4,
        "start_time": "2021-12-01T07:31:56.446Z"
      },
      {
        "duration": 17,
        "start_time": "2021-12-01T07:31:56.451Z"
      },
      {
        "duration": 42,
        "start_time": "2021-12-01T07:31:56.470Z"
      },
      {
        "duration": 5,
        "start_time": "2021-12-01T07:31:56.516Z"
      },
      {
        "duration": 19,
        "start_time": "2021-12-01T07:31:56.523Z"
      },
      {
        "duration": 12,
        "start_time": "2021-12-01T07:31:56.544Z"
      },
      {
        "duration": 242,
        "start_time": "2021-12-01T07:31:56.558Z"
      },
      {
        "duration": 5,
        "start_time": "2021-12-01T07:31:56.802Z"
      },
      {
        "duration": 14,
        "start_time": "2021-12-01T07:31:56.809Z"
      },
      {
        "duration": 9,
        "start_time": "2021-12-01T07:31:56.825Z"
      },
      {
        "duration": 174,
        "start_time": "2021-12-01T07:31:56.835Z"
      },
      {
        "duration": 4,
        "start_time": "2021-12-01T07:31:57.010Z"
      },
      {
        "duration": 14,
        "start_time": "2021-12-01T07:31:57.015Z"
      },
      {
        "duration": 9,
        "start_time": "2021-12-01T08:10:32.360Z"
      },
      {
        "duration": 18,
        "start_time": "2021-12-01T08:10:33.585Z"
      },
      {
        "duration": 8,
        "start_time": "2021-12-01T08:10:34.391Z"
      },
      {
        "duration": 6,
        "start_time": "2021-12-01T08:10:38.207Z"
      },
      {
        "duration": 10,
        "start_time": "2021-12-01T08:10:38.526Z"
      },
      {
        "duration": 7,
        "start_time": "2021-12-01T08:10:39.051Z"
      },
      {
        "duration": 614,
        "start_time": "2021-12-01T08:11:45.284Z"
      },
      {
        "duration": 51,
        "start_time": "2021-12-01T08:11:45.900Z"
      },
      {
        "duration": 19,
        "start_time": "2021-12-01T08:11:45.955Z"
      },
      {
        "duration": 26,
        "start_time": "2021-12-01T08:11:45.975Z"
      },
      {
        "duration": 25,
        "start_time": "2021-12-01T08:11:46.003Z"
      },
      {
        "duration": 4,
        "start_time": "2021-12-01T08:11:46.029Z"
      },
      {
        "duration": 18,
        "start_time": "2021-12-01T08:11:46.037Z"
      },
      {
        "duration": 18,
        "start_time": "2021-12-01T08:11:46.058Z"
      },
      {
        "duration": 25,
        "start_time": "2021-12-01T08:11:46.078Z"
      },
      {
        "duration": 12,
        "start_time": "2021-12-01T08:11:46.107Z"
      },
      {
        "duration": 6,
        "start_time": "2021-12-01T08:11:46.121Z"
      },
      {
        "duration": 7,
        "start_time": "2021-12-01T08:11:46.128Z"
      },
      {
        "duration": 11,
        "start_time": "2021-12-01T08:11:46.137Z"
      },
      {
        "duration": 10,
        "start_time": "2021-12-01T08:11:46.150Z"
      },
      {
        "duration": 63,
        "start_time": "2021-12-01T08:11:46.162Z"
      },
      {
        "duration": 4,
        "start_time": "2021-12-01T08:11:46.227Z"
      },
      {
        "duration": 16,
        "start_time": "2021-12-01T08:11:46.234Z"
      },
      {
        "duration": 7,
        "start_time": "2021-12-01T08:11:46.251Z"
      },
      {
        "duration": 48,
        "start_time": "2021-12-01T08:11:46.260Z"
      },
      {
        "duration": 8,
        "start_time": "2021-12-01T08:11:46.310Z"
      },
      {
        "duration": 12,
        "start_time": "2021-12-01T08:11:46.320Z"
      },
      {
        "duration": 7,
        "start_time": "2021-12-01T08:11:46.336Z"
      },
      {
        "duration": 12,
        "start_time": "2021-12-01T08:11:46.345Z"
      },
      {
        "duration": 2,
        "start_time": "2021-12-01T08:11:46.359Z"
      },
      {
        "duration": 100,
        "start_time": "2021-12-01T08:11:46.363Z"
      },
      {
        "duration": 9,
        "start_time": "2021-12-01T08:11:46.465Z"
      },
      {
        "duration": 6,
        "start_time": "2021-12-01T08:11:46.476Z"
      },
      {
        "duration": 25,
        "start_time": "2021-12-01T08:11:46.484Z"
      },
      {
        "duration": 10,
        "start_time": "2021-12-01T08:11:46.511Z"
      },
      {
        "duration": 9,
        "start_time": "2021-12-01T08:11:46.522Z"
      },
      {
        "duration": 11,
        "start_time": "2021-12-01T08:11:46.532Z"
      },
      {
        "duration": 29,
        "start_time": "2021-12-01T08:11:46.545Z"
      },
      {
        "duration": 29,
        "start_time": "2021-12-01T08:11:46.575Z"
      },
      {
        "duration": 19,
        "start_time": "2021-12-01T08:11:46.606Z"
      },
      {
        "duration": 16,
        "start_time": "2021-12-01T08:11:46.627Z"
      },
      {
        "duration": 7,
        "start_time": "2021-12-01T08:11:46.645Z"
      },
      {
        "duration": 6,
        "start_time": "2021-12-01T08:11:46.653Z"
      },
      {
        "duration": 40176,
        "start_time": "2021-12-01T08:11:46.661Z"
      },
      {
        "duration": 9,
        "start_time": "2021-12-01T08:12:26.840Z"
      },
      {
        "duration": 24,
        "start_time": "2021-12-01T08:12:26.851Z"
      },
      {
        "duration": 45,
        "start_time": "2021-12-01T08:12:26.877Z"
      },
      {
        "duration": 32,
        "start_time": "2021-12-01T08:12:26.924Z"
      },
      {
        "duration": 19,
        "start_time": "2021-12-01T08:12:26.957Z"
      },
      {
        "duration": 25,
        "start_time": "2021-12-01T08:12:26.978Z"
      },
      {
        "duration": 27,
        "start_time": "2021-12-01T08:12:27.005Z"
      },
      {
        "duration": 24,
        "start_time": "2021-12-01T08:12:27.034Z"
      },
      {
        "duration": 25,
        "start_time": "2021-12-01T08:12:27.060Z"
      },
      {
        "duration": 12,
        "start_time": "2021-12-01T08:12:27.087Z"
      },
      {
        "duration": 35,
        "start_time": "2021-12-01T08:12:27.100Z"
      },
      {
        "duration": 22,
        "start_time": "2021-12-01T08:12:27.137Z"
      },
      {
        "duration": 11,
        "start_time": "2021-12-01T08:12:27.161Z"
      },
      {
        "duration": 51,
        "start_time": "2021-12-01T08:12:27.175Z"
      },
      {
        "duration": 13,
        "start_time": "2021-12-01T08:12:27.228Z"
      },
      {
        "duration": 8,
        "start_time": "2021-12-01T08:12:27.243Z"
      },
      {
        "duration": 35,
        "start_time": "2021-12-01T08:12:27.253Z"
      },
      {
        "duration": 32,
        "start_time": "2021-12-01T08:12:27.290Z"
      },
      {
        "duration": 3,
        "start_time": "2021-12-01T08:12:27.324Z"
      },
      {
        "duration": 29,
        "start_time": "2021-12-01T08:12:27.329Z"
      },
      {
        "duration": 25,
        "start_time": "2021-12-01T08:12:27.360Z"
      },
      {
        "duration": 241,
        "start_time": "2021-12-01T08:12:27.387Z"
      },
      {
        "duration": 4,
        "start_time": "2021-12-01T08:12:27.630Z"
      },
      {
        "duration": 27,
        "start_time": "2021-12-01T08:12:27.636Z"
      },
      {
        "duration": 18,
        "start_time": "2021-12-01T08:12:27.665Z"
      },
      {
        "duration": 173,
        "start_time": "2021-12-01T08:12:27.685Z"
      },
      {
        "duration": 4,
        "start_time": "2021-12-01T08:12:27.860Z"
      },
      {
        "duration": 21,
        "start_time": "2021-12-01T08:12:27.867Z"
      },
      {
        "duration": 9,
        "start_time": "2021-12-01T08:12:27.906Z"
      },
      {
        "duration": 29,
        "start_time": "2021-12-01T08:12:27.917Z"
      },
      {
        "duration": 10,
        "start_time": "2021-12-01T08:12:27.948Z"
      },
      {
        "duration": 634,
        "start_time": "2021-12-01T08:24:04.387Z"
      },
      {
        "duration": 54,
        "start_time": "2021-12-01T08:24:05.024Z"
      },
      {
        "duration": 21,
        "start_time": "2021-12-01T08:24:05.081Z"
      },
      {
        "duration": 15,
        "start_time": "2021-12-01T08:24:05.107Z"
      },
      {
        "duration": 36,
        "start_time": "2021-12-01T08:24:05.124Z"
      },
      {
        "duration": 4,
        "start_time": "2021-12-01T08:24:05.162Z"
      },
      {
        "duration": 8,
        "start_time": "2021-12-01T08:24:05.168Z"
      },
      {
        "duration": 5,
        "start_time": "2021-12-01T08:24:05.208Z"
      },
      {
        "duration": 22,
        "start_time": "2021-12-01T08:24:05.215Z"
      },
      {
        "duration": 11,
        "start_time": "2021-12-01T08:24:05.239Z"
      },
      {
        "duration": 6,
        "start_time": "2021-12-01T08:24:05.252Z"
      },
      {
        "duration": 14,
        "start_time": "2021-12-01T08:24:05.260Z"
      },
      {
        "duration": 13,
        "start_time": "2021-12-01T08:24:05.276Z"
      },
      {
        "duration": 17,
        "start_time": "2021-12-01T08:24:05.293Z"
      },
      {
        "duration": 65,
        "start_time": "2021-12-01T08:24:05.313Z"
      },
      {
        "duration": 6,
        "start_time": "2021-12-01T08:24:05.380Z"
      },
      {
        "duration": 20,
        "start_time": "2021-12-01T08:24:05.388Z"
      },
      {
        "duration": 46,
        "start_time": "2021-12-01T08:24:05.410Z"
      },
      {
        "duration": 8,
        "start_time": "2021-12-01T08:24:05.458Z"
      },
      {
        "duration": 42,
        "start_time": "2021-12-01T08:24:05.468Z"
      },
      {
        "duration": 10,
        "start_time": "2021-12-01T08:24:05.512Z"
      },
      {
        "duration": 16,
        "start_time": "2021-12-01T08:24:05.524Z"
      },
      {
        "duration": 14,
        "start_time": "2021-12-01T08:24:05.546Z"
      },
      {
        "duration": 80,
        "start_time": "2021-12-01T08:24:05.562Z"
      },
      {
        "duration": 10,
        "start_time": "2021-12-01T08:24:05.645Z"
      },
      {
        "duration": 55,
        "start_time": "2021-12-01T08:24:05.657Z"
      },
      {
        "duration": 31,
        "start_time": "2021-12-01T08:24:05.714Z"
      },
      {
        "duration": 13,
        "start_time": "2021-12-01T08:24:05.748Z"
      },
      {
        "duration": 23,
        "start_time": "2021-12-01T08:24:05.763Z"
      },
      {
        "duration": 47,
        "start_time": "2021-12-01T08:24:05.788Z"
      },
      {
        "duration": 19,
        "start_time": "2021-12-01T08:24:05.837Z"
      },
      {
        "duration": 25,
        "start_time": "2021-12-01T08:24:05.858Z"
      },
      {
        "duration": 23,
        "start_time": "2021-12-01T08:24:05.885Z"
      },
      {
        "duration": 19,
        "start_time": "2021-12-01T08:24:05.910Z"
      },
      {
        "duration": 17,
        "start_time": "2021-12-01T08:24:05.932Z"
      },
      {
        "duration": 5,
        "start_time": "2021-12-01T08:24:05.951Z"
      },
      {
        "duration": 42365,
        "start_time": "2021-12-01T08:24:05.959Z"
      },
      {
        "duration": 10,
        "start_time": "2021-12-01T08:24:48.326Z"
      },
      {
        "duration": 17,
        "start_time": "2021-12-01T08:24:48.337Z"
      },
      {
        "duration": 16,
        "start_time": "2021-12-01T08:24:48.356Z"
      },
      {
        "duration": 21,
        "start_time": "2021-12-01T08:24:48.373Z"
      },
      {
        "duration": 13,
        "start_time": "2021-12-01T08:24:48.396Z"
      },
      {
        "duration": 19,
        "start_time": "2021-12-01T08:24:48.411Z"
      },
      {
        "duration": 23,
        "start_time": "2021-12-01T08:24:48.432Z"
      },
      {
        "duration": 21,
        "start_time": "2021-12-01T08:24:48.456Z"
      },
      {
        "duration": 32,
        "start_time": "2021-12-01T08:24:48.479Z"
      },
      {
        "duration": 4,
        "start_time": "2021-12-01T08:24:48.514Z"
      },
      {
        "duration": 16,
        "start_time": "2021-12-01T08:24:48.520Z"
      },
      {
        "duration": 29,
        "start_time": "2021-12-01T08:24:48.538Z"
      },
      {
        "duration": 20,
        "start_time": "2021-12-01T08:24:48.570Z"
      },
      {
        "duration": 24,
        "start_time": "2021-12-01T08:24:48.592Z"
      },
      {
        "duration": 19,
        "start_time": "2021-12-01T08:24:48.619Z"
      },
      {
        "duration": 6,
        "start_time": "2021-12-01T08:24:48.640Z"
      },
      {
        "duration": 27,
        "start_time": "2021-12-01T08:24:48.648Z"
      },
      {
        "duration": 38,
        "start_time": "2021-12-01T08:24:48.678Z"
      },
      {
        "duration": 3,
        "start_time": "2021-12-01T08:24:48.719Z"
      },
      {
        "duration": 27,
        "start_time": "2021-12-01T08:24:48.725Z"
      },
      {
        "duration": 15,
        "start_time": "2021-12-01T08:24:48.754Z"
      },
      {
        "duration": 397,
        "start_time": "2021-12-01T08:24:48.771Z"
      },
      {
        "duration": 5,
        "start_time": "2021-12-01T08:24:49.171Z"
      },
      {
        "duration": 29,
        "start_time": "2021-12-01T08:24:49.178Z"
      },
      {
        "duration": 10,
        "start_time": "2021-12-01T08:24:49.209Z"
      },
      {
        "duration": 159,
        "start_time": "2021-12-01T08:24:49.220Z"
      },
      {
        "duration": 3,
        "start_time": "2021-12-01T08:24:49.381Z"
      },
      {
        "duration": 26,
        "start_time": "2021-12-01T08:24:49.386Z"
      }
    ],
    "kernelspec": {
      "display_name": "Python 3 (ipykernel)",
      "language": "python",
      "name": "python3"
    },
    "language_info": {
      "codemirror_mode": {
        "name": "ipython",
        "version": 3
      },
      "file_extension": ".py",
      "mimetype": "text/x-python",
      "name": "python",
      "nbconvert_exporter": "python",
      "pygments_lexer": "ipython3",
      "version": "3.9.5"
    },
    "toc": {
      "base_numbering": 1,
      "nav_menu": {},
      "number_sections": true,
      "sideBar": true,
      "skip_h1_title": true,
      "title_cell": "Table of Contents",
      "title_sidebar": "Contents",
      "toc_cell": false,
      "toc_position": {},
      "toc_section_display": true,
      "toc_window_display": false
    },
    "colab": {
      "provenance": []
    }
  },
  "nbformat": 4,
  "nbformat_minor": 0
}